{
 "cells": [
  {
   "cell_type": "code",
   "execution_count": 1,
   "metadata": {},
   "outputs": [],
   "source": [
    "from sklearn import datasets\n",
    "from sklearn.neighbors import KNeighborsClassifier,KNeighborsRegressor\n",
    "from sklearn.linear_model import LinearRegression,LogisticRegression,Ridge,Lasso\n",
    "from sklearn.ensemble import RandomForestRegressor,  GradientBoostingRegressor\n",
    "from sklearn.model_selection import train_test_split,cross_val_score,GridSearchCV\n",
    "from sklearn.metrics import mean_squared_error\n",
    "from sklearn.utils import shuffle\n",
    "from sklearn.preprocessing import StandardScaler\n",
    "from scipy.stats import mode\n",
    "from sklearn.cluster import KMeans\n",
    "from sklearn.manifold import TSNE\n",
    "from sklearn.decomposition import PCA\n",
    "from sklearn.pipeline import make_pipeline\n",
    "from sklearn.svm import LinearSVC,LinearSVR,SVC,SVR\n",
    "import pandas as pd\n",
    "import matplotlib.pyplot as plt\n",
    "import numpy as np"
   ]
  },
  {
   "cell_type": "code",
   "execution_count": 2,
   "metadata": {},
   "outputs": [],
   "source": [
    "salary_pred=pd.read_csv(\"Downloads/Documents/sample_data.csv\")"
   ]
  },
  {
   "cell_type": "code",
   "execution_count": 3,
   "metadata": {},
   "outputs": [
    {
     "data": {
      "text/html": [
       "<div>\n",
       "<style scoped>\n",
       "    .dataframe tbody tr th:only-of-type {\n",
       "        vertical-align: middle;\n",
       "    }\n",
       "\n",
       "    .dataframe tbody tr th {\n",
       "        vertical-align: top;\n",
       "    }\n",
       "\n",
       "    .dataframe thead th {\n",
       "        text-align: right;\n",
       "    }\n",
       "</style>\n",
       "<table border=\"1\" class=\"dataframe\">\n",
       "  <thead>\n",
       "    <tr style=\"text-align: right;\">\n",
       "      <th></th>\n",
       "      <th>Unnamed: 0</th>\n",
       "      <th>Name</th>\n",
       "      <th>Email Id</th>\n",
       "      <th>Mobile No.</th>\n",
       "      <th>Industry</th>\n",
       "      <th>Resume Title</th>\n",
       "      <th>Key Skills</th>\n",
       "      <th>Work Experience</th>\n",
       "      <th>Current Employer</th>\n",
       "      <th>Current Salary</th>\n",
       "      <th>Current Location</th>\n",
       "      <th>Technical Specialist</th>\n",
       "      <th>Unnamed: 11</th>\n",
       "    </tr>\n",
       "  </thead>\n",
       "  <tbody>\n",
       "    <tr>\n",
       "      <th>0</th>\n",
       "      <td>0</td>\n",
       "      <td>M. vel Manikandan</td>\n",
       "      <td>vel.manikandan@gmail.com</td>\n",
       "      <td>91-7899887094</td>\n",
       "      <td>Manufacturing/Industrial,  Construction/Cement...</td>\n",
       "      <td>QA/Qc civil engineer with 10 yrs</td>\n",
       "      <td>concrete mix design.batching plant control,sit...</td>\n",
       "      <td>10</td>\n",
       "      <td>BL Kashyap &amp; sons limited</td>\n",
       "      <td>10,00,000 annually</td>\n",
       "      <td>Bengaluru/ Bangalore</td>\n",
       "      <td>Staff Process Engineer</td>\n",
       "      <td>NaN</td>\n",
       "    </tr>\n",
       "    <tr>\n",
       "      <th>1</th>\n",
       "      <td>1</td>\n",
       "      <td>GnanasekarVIVEK</td>\n",
       "      <td>vishavishal@gmail.com</td>\n",
       "      <td>91-8870579080</td>\n",
       "      <td>Software Services,  IT-Software,  Telecom</td>\n",
       "      <td>Lead software Engineer 8 years exp in c, pytho...</td>\n",
       "      <td>linux,c,c++,Data structures,telecom ,ATCA,pyth...</td>\n",
       "      <td>8</td>\n",
       "      <td>Sunedison</td>\n",
       "      <td>18,00,000 annually</td>\n",
       "      <td>Bengaluru/ Bangalore</td>\n",
       "      <td>Staff Process Engineer</td>\n",
       "      <td>NaN</td>\n",
       "    </tr>\n",
       "    <tr>\n",
       "      <th>2</th>\n",
       "      <td>2</td>\n",
       "      <td>Dilip Kumar</td>\n",
       "      <td>dilip.surendran@gmail.com</td>\n",
       "      <td>91-9986586474</td>\n",
       "      <td>Software Services,  Internet/Dot com/ISP</td>\n",
       "      <td>Senior Quality Engineer with 6.11yrs experience</td>\n",
       "      <td>Manual Testing,Senior Test Engineer,Writing Te...</td>\n",
       "      <td>6</td>\n",
       "      <td>InEight</td>\n",
       "      <td>9,27,000 annually</td>\n",
       "      <td>Bengaluru/ Bangalore</td>\n",
       "      <td>Staff Process Engineer</td>\n",
       "      <td>NaN</td>\n",
       "    </tr>\n",
       "    <tr>\n",
       "      <th>3</th>\n",
       "      <td>3</td>\n",
       "      <td>JAGDISH ROUT</td>\n",
       "      <td>jagdish.rout@yahoo.com</td>\n",
       "      <td>91-7259600554</td>\n",
       "      <td>Others</td>\n",
       "      <td>8.4 years of Data Engineering exp in exadata,d...</td>\n",
       "      <td>DATASTAGE,ORACLE,SQL,PL/SQL,UNIX,NETEZA,EXADAT...</td>\n",
       "      <td>8</td>\n",
       "      <td>Harman</td>\n",
       "      <td>10,80,000 annually</td>\n",
       "      <td>Bengaluru/ Bangalore</td>\n",
       "      <td>Staff Process Engineer</td>\n",
       "      <td>NaN</td>\n",
       "    </tr>\n",
       "    <tr>\n",
       "      <th>4</th>\n",
       "      <td>4</td>\n",
       "      <td>SANTHOSH KUMAR BHOOPATHI</td>\n",
       "      <td>santhu7159@gmail.com</td>\n",
       "      <td>91-7411442416</td>\n",
       "      <td>Software Services,  Internet/Dot com/ISP</td>\n",
       "      <td>6 yrs of exp. in S/w Quality Assurance and wor...</td>\n",
       "      <td>Selenium Webdriver ,Core Java ,sql,Soap Ui ,We...</td>\n",
       "      <td>6</td>\n",
       "      <td>Cgi Information Systems And Management Consult...</td>\n",
       "      <td>7,65,000 annually</td>\n",
       "      <td>Bengaluru/ Bangalore</td>\n",
       "      <td>Staff Process Engineer</td>\n",
       "      <td>NaN</td>\n",
       "    </tr>\n",
       "  </tbody>\n",
       "</table>\n",
       "</div>"
      ],
      "text/plain": [
       "   Unnamed: 0                      Name                   Email Id  \\\n",
       "0           0        M. vel Manikandan    vel.manikandan@gmail.com   \n",
       "1           1           GnanasekarVIVEK      vishavishal@gmail.com   \n",
       "2           2               Dilip Kumar  dilip.surendran@gmail.com   \n",
       "3           3              JAGDISH ROUT     jagdish.rout@yahoo.com   \n",
       "4           4  SANTHOSH KUMAR BHOOPATHI       santhu7159@gmail.com   \n",
       "\n",
       "       Mobile No.                                           Industry  \\\n",
       "0   91-7899887094  Manufacturing/Industrial,  Construction/Cement...   \n",
       "1   91-8870579080          Software Services,  IT-Software,  Telecom   \n",
       "2   91-9986586474           Software Services,  Internet/Dot com/ISP   \n",
       "3   91-7259600554                                             Others   \n",
       "4   91-7411442416           Software Services,  Internet/Dot com/ISP   \n",
       "\n",
       "                                        Resume Title  \\\n",
       "0                   QA/Qc civil engineer with 10 yrs   \n",
       "1  Lead software Engineer 8 years exp in c, pytho...   \n",
       "2    Senior Quality Engineer with 6.11yrs experience   \n",
       "3  8.4 years of Data Engineering exp in exadata,d...   \n",
       "4  6 yrs of exp. in S/w Quality Assurance and wor...   \n",
       "\n",
       "                                          Key Skills Work Experience  \\\n",
       "0  concrete mix design.batching plant control,sit...              10   \n",
       "1  linux,c,c++,Data structures,telecom ,ATCA,pyth...               8   \n",
       "2  Manual Testing,Senior Test Engineer,Writing Te...               6   \n",
       "3  DATASTAGE,ORACLE,SQL,PL/SQL,UNIX,NETEZA,EXADAT...               8   \n",
       "4  Selenium Webdriver ,Core Java ,sql,Soap Ui ,We...               6   \n",
       "\n",
       "                                    Current Employer      Current Salary  \\\n",
       "0                          BL Kashyap & sons limited  10,00,000 annually   \n",
       "1                                          Sunedison  18,00,000 annually   \n",
       "2                                            InEight   9,27,000 annually   \n",
       "3                                             Harman  10,80,000 annually   \n",
       "4  Cgi Information Systems And Management Consult...   7,65,000 annually   \n",
       "\n",
       "       Current Location     Technical Specialist  Unnamed: 11  \n",
       "0  Bengaluru/ Bangalore  Staff Process Engineer           NaN  \n",
       "1  Bengaluru/ Bangalore  Staff Process Engineer           NaN  \n",
       "2  Bengaluru/ Bangalore  Staff Process Engineer           NaN  \n",
       "3  Bengaluru/ Bangalore  Staff Process Engineer           NaN  \n",
       "4  Bengaluru/ Bangalore  Staff Process Engineer           NaN  "
      ]
     },
     "execution_count": 3,
     "metadata": {},
     "output_type": "execute_result"
    }
   ],
   "source": [
    "salary_pred.head()"
   ]
  },
  {
   "cell_type": "code",
   "execution_count": 4,
   "metadata": {},
   "outputs": [
    {
     "data": {
      "text/html": [
       "<div>\n",
       "<style scoped>\n",
       "    .dataframe tbody tr th:only-of-type {\n",
       "        vertical-align: middle;\n",
       "    }\n",
       "\n",
       "    .dataframe tbody tr th {\n",
       "        vertical-align: top;\n",
       "    }\n",
       "\n",
       "    .dataframe thead th {\n",
       "        text-align: right;\n",
       "    }\n",
       "</style>\n",
       "<table border=\"1\" class=\"dataframe\">\n",
       "  <thead>\n",
       "    <tr style=\"text-align: right;\">\n",
       "      <th></th>\n",
       "      <th>Unnamed: 0</th>\n",
       "      <th>Name</th>\n",
       "      <th>Email Id</th>\n",
       "      <th>Mobile No.</th>\n",
       "      <th>Industry</th>\n",
       "      <th>Resume Title</th>\n",
       "      <th>Key Skills</th>\n",
       "      <th>Work Experience</th>\n",
       "      <th>Current Employer</th>\n",
       "      <th>Current Salary</th>\n",
       "      <th>Current Location</th>\n",
       "      <th>Technical Specialist</th>\n",
       "      <th>Unnamed: 11</th>\n",
       "    </tr>\n",
       "  </thead>\n",
       "  <tbody>\n",
       "    <tr>\n",
       "      <th>7995</th>\n",
       "      <td>7995</td>\n",
       "      <td>Yashwanth</td>\n",
       "      <td>puneeth.ssmp@gmail.com</td>\n",
       "      <td>91-9964096346</td>\n",
       "      <td>Software Services,  Internet/Dot com/ISP,  IT-...</td>\n",
       "      <td>Automation/Manual Tester with 4+ years experience</td>\n",
       "      <td>Java,Selenium Webdriver,Python,MySQL,Automatio...</td>\n",
       "      <td>4</td>\n",
       "      <td>Clarivate Analytics</td>\n",
       "      <td>9,20,000 annually</td>\n",
       "      <td>Bengaluru/ Bangalore</td>\n",
       "      <td>Quality Engineer</td>\n",
       "      <td>NaN</td>\n",
       "    </tr>\n",
       "    <tr>\n",
       "      <th>7996</th>\n",
       "      <td>7996</td>\n",
       "      <td>PRADEEPA P</td>\n",
       "      <td>kaashu09@gmail.com</td>\n",
       "      <td>91-9566451977</td>\n",
       "      <td>Manufacturing/Industrial</td>\n",
       "      <td>Process enginear ,Quality enginear , Quality a...</td>\n",
       "      <td>ASSEMBLY,ASSEMBLY LINE,CONFIDENT, DOS,FIFO,FME...</td>\n",
       "      <td>6</td>\n",
       "      <td>Bosch Ltd</td>\n",
       "      <td>7,50,000 annually</td>\n",
       "      <td>Bengaluru/ Bangalore</td>\n",
       "      <td>Production engineer &amp; Quality Engineer</td>\n",
       "      <td>NaN</td>\n",
       "    </tr>\n",
       "    <tr>\n",
       "      <th>7997</th>\n",
       "      <td>7997</td>\n",
       "      <td>VIVEK S</td>\n",
       "      <td>sureshkumarinbarajan@gmail.com</td>\n",
       "      <td>91-8144993623</td>\n",
       "      <td>Manufacturing/Industrial,  Automobiles/Auto Co...</td>\n",
       "      <td>Senior Quality Engineer</td>\n",
       "      <td>man power handling,ISO 9001 ,PPAP ,Process Fme...</td>\n",
       "      <td>3</td>\n",
       "      <td>India Industries</td>\n",
       "      <td>60,00,000 annually</td>\n",
       "      <td>Chennai</td>\n",
       "      <td>Senior Quality Engineer</td>\n",
       "      <td>NaN</td>\n",
       "    </tr>\n",
       "    <tr>\n",
       "      <th>7998</th>\n",
       "      <td>7998</td>\n",
       "      <td>Alauddin khan</td>\n",
       "      <td>sarathyraman21@gmail.com</td>\n",
       "      <td>91-9092096032</td>\n",
       "      <td>Manufacturing/Industrial,  Automobiles/Auto Co...</td>\n",
       "      <td>Quantity surveyor cum estimator and quality en...</td>\n",
       "      <td>Quality control, Quantity surveying , Site Eng...</td>\n",
       "      <td>3</td>\n",
       "      <td>M S Engineering &amp; Sevices</td>\n",
       "      <td>9,60,000 annually</td>\n",
       "      <td>Gulbarga</td>\n",
       "      <td>Full Time Employed</td>\n",
       "      <td>NaN</td>\n",
       "    </tr>\n",
       "    <tr>\n",
       "      <th>7999</th>\n",
       "      <td>7999</td>\n",
       "      <td>MARINA E J</td>\n",
       "      <td>jayasoorya.kn@gmail.com</td>\n",
       "      <td>91-9600621339</td>\n",
       "      <td>Manufacturing/Industrial,  IT-Hardware/Network...</td>\n",
       "      <td>Product Quality Engineer 4yrs Exp</td>\n",
       "      <td>,Quality Analyst,Manual Testing,Sdlc,Manual &amp; ...</td>\n",
       "      <td>4</td>\n",
       "      <td>Fresher</td>\n",
       "      <td>29,00,000 annually</td>\n",
       "      <td>KERALA(Trivandrum)</td>\n",
       "      <td>Fresher</td>\n",
       "      <td>NaN</td>\n",
       "    </tr>\n",
       "  </tbody>\n",
       "</table>\n",
       "</div>"
      ],
      "text/plain": [
       "      Unnamed: 0            Name                        Email Id  \\\n",
       "7995        7995       Yashwanth          puneeth.ssmp@gmail.com   \n",
       "7996        7996     PRADEEPA P               kaashu09@gmail.com   \n",
       "7997        7997         VIVEK S  sureshkumarinbarajan@gmail.com   \n",
       "7998        7998  Alauddin khan         sarathyraman21@gmail.com   \n",
       "7999        7999      MARINA E J         jayasoorya.kn@gmail.com   \n",
       "\n",
       "          Mobile No.                                           Industry  \\\n",
       "7995   91-9964096346  Software Services,  Internet/Dot com/ISP,  IT-...   \n",
       "7996   91-9566451977                           Manufacturing/Industrial   \n",
       "7997   91-8144993623  Manufacturing/Industrial,  Automobiles/Auto Co...   \n",
       "7998   91-9092096032  Manufacturing/Industrial,  Automobiles/Auto Co...   \n",
       "7999   91-9600621339  Manufacturing/Industrial,  IT-Hardware/Network...   \n",
       "\n",
       "                                           Resume Title  \\\n",
       "7995  Automation/Manual Tester with 4+ years experience   \n",
       "7996  Process enginear ,Quality enginear , Quality a...   \n",
       "7997                            Senior Quality Engineer   \n",
       "7998  Quantity surveyor cum estimator and quality en...   \n",
       "7999                  Product Quality Engineer 4yrs Exp   \n",
       "\n",
       "                                             Key Skills Work Experience  \\\n",
       "7995  Java,Selenium Webdriver,Python,MySQL,Automatio...               4   \n",
       "7996  ASSEMBLY,ASSEMBLY LINE,CONFIDENT, DOS,FIFO,FME...               6   \n",
       "7997  man power handling,ISO 9001 ,PPAP ,Process Fme...               3   \n",
       "7998  Quality control, Quantity surveying , Site Eng...               3   \n",
       "7999  ,Quality Analyst,Manual Testing,Sdlc,Manual & ...               4   \n",
       "\n",
       "               Current Employer      Current Salary      Current Location  \\\n",
       "7995        Clarivate Analytics   9,20,000 annually  Bengaluru/ Bangalore   \n",
       "7996                  Bosch Ltd   7,50,000 annually  Bengaluru/ Bangalore   \n",
       "7997           India Industries  60,00,000 annually               Chennai   \n",
       "7998  M S Engineering & Sevices   9,60,000 annually              Gulbarga   \n",
       "7999                    Fresher  29,00,000 annually    KERALA(Trivandrum)   \n",
       "\n",
       "                        Technical Specialist  Unnamed: 11  \n",
       "7995                        Quality Engineer          NaN  \n",
       "7996  Production engineer & Quality Engineer          NaN  \n",
       "7997                 Senior Quality Engineer          NaN  \n",
       "7998                      Full Time Employed          NaN  \n",
       "7999                                 Fresher          NaN  "
      ]
     },
     "execution_count": 4,
     "metadata": {},
     "output_type": "execute_result"
    }
   ],
   "source": [
    "salary_pred.tail()"
   ]
  },
  {
   "cell_type": "code",
   "execution_count": 5,
   "metadata": {},
   "outputs": [
    {
     "data": {
      "text/plain": [
       "(8000, 13)"
      ]
     },
     "execution_count": 5,
     "metadata": {},
     "output_type": "execute_result"
    }
   ],
   "source": [
    "salary_pred.shape"
   ]
  },
  {
   "cell_type": "code",
   "execution_count": 6,
   "metadata": {},
   "outputs": [
    {
     "name": "stdout",
     "output_type": "stream",
     "text": [
      "<class 'pandas.core.frame.DataFrame'>\n",
      "RangeIndex: 8000 entries, 0 to 7999\n",
      "Data columns (total 13 columns):\n",
      "Unnamed: 0              8000 non-null int64\n",
      "Name                    7997 non-null object\n",
      "Email Id                7999 non-null object\n",
      "Mobile No.              7999 non-null object\n",
      "Industry                8000 non-null object\n",
      "Resume Title            7992 non-null object\n",
      "Key Skills              7999 non-null object\n",
      "Work Experience         8000 non-null object\n",
      "Current Employer        7853 non-null object\n",
      "Current Salary          8000 non-null object\n",
      "Current Location        7994 non-null object\n",
      "Technical Specialist    8000 non-null object\n",
      "Unnamed: 11             0 non-null float64\n",
      "dtypes: float64(1), int64(1), object(11)\n",
      "memory usage: 812.6+ KB\n"
     ]
    }
   ],
   "source": [
    "salary_pred.info()"
   ]
  },
  {
   "cell_type": "code",
   "execution_count": 7,
   "metadata": {},
   "outputs": [],
   "source": [
    "#fill=salary_pred['Name'].fillna(mode(salary_pred['Name']).mode[0],inplace=True)"
   ]
  },
  {
   "cell_type": "code",
   "execution_count": 8,
   "metadata": {
    "scrolled": true
   },
   "outputs": [
    {
     "data": {
      "text/plain": [
       "0             M. vel Manikandan \n",
       "1                GnanasekarVIVEK\n",
       "2                    Dilip Kumar\n",
       "3                   JAGDISH ROUT\n",
       "4       SANTHOSH KUMAR BHOOPATHI\n",
       "5                     Mann-Thapa\n",
       "6                    JACOBTHOMAS\n",
       "7                 Jagannath Bhat\n",
       "8                     SIVARAMAN \n",
       "9         Devendra Kumar Namdeo \n",
       "10               PremkumarPillai\n",
       "11                SAMEERSENAPATI\n",
       "12               Kalpesh Malviya\n",
       "13             RAGHU           Y\n",
       "14                Abhijeet Singh\n",
       "15               Riju Eyyappally\n",
       "16               Deepthi Chundru\n",
       "17                   Bhaskar T.R\n",
       "18                  K.M. BHAVANI\n",
       "19                     Sowmya HR\n",
       "20               uthika gajghate\n",
       "21              Lingaraja barera\n",
       "22                Netra Jagadish\n",
       "23                  Manikandan B\n",
       "24                   Syed Faheem\n",
       "25                    AVINASH BK\n",
       "26                  Roshan Kumar\n",
       "27                   Marimuthu L\n",
       "28                     Yuvaraja \n",
       "29               Amreeta Cherian\n",
       "                  ...           \n",
       "7970                   Manu K R \n",
       "7971                 N MADHUKAR \n",
       "7972                       Ajay \n",
       "7973     sivasaiteja seethiraju \n",
       "7974                   venkatram\n",
       "7975            Felix Nirmal dev\n",
       "7976                M Raj Kumar \n",
       "7977              GANESH BARAKER\n",
       "7978            ameen-ameensaheb\n",
       "7979                       K-raj\n",
       "7980                Prakash Raja\n",
       "7981               I.V.NISHANTH \n",
       "7982          Shivanand Yadagude\n",
       "7983             Vinoth kumar T \n",
       "7984                virat visha \n",
       "7985         Ramakrishna Eggati \n",
       "7986                Veera  Kumar\n",
       "7987            suhail salman h \n",
       "7988                   SMITHA R \n",
       "7989                  Arunkumar \n",
       "7990                   YUVARAJ.G\n",
       "7991               THANGAPANDI P\n",
       "7992              ANISH PRAKASH \n",
       "7993         KARTHIK KUMAR K.M. \n",
       "7994                  anjinappav\n",
       "7995                   Yashwanth\n",
       "7996                 PRADEEPA P \n",
       "7997                     VIVEK S\n",
       "7998              Alauddin khan \n",
       "7999                  MARINA E J\n",
       "Name: Name, Length: 8000, dtype: object"
      ]
     },
     "execution_count": 8,
     "metadata": {},
     "output_type": "execute_result"
    }
   ],
   "source": [
    "salary_pred['Name']"
   ]
  },
  {
   "cell_type": "code",
   "execution_count": 9,
   "metadata": {},
   "outputs": [
    {
     "data": {
      "text/html": [
       "<div>\n",
       "<style scoped>\n",
       "    .dataframe tbody tr th:only-of-type {\n",
       "        vertical-align: middle;\n",
       "    }\n",
       "\n",
       "    .dataframe tbody tr th {\n",
       "        vertical-align: top;\n",
       "    }\n",
       "\n",
       "    .dataframe thead th {\n",
       "        text-align: right;\n",
       "    }\n",
       "</style>\n",
       "<table border=\"1\" class=\"dataframe\">\n",
       "  <thead>\n",
       "    <tr style=\"text-align: right;\">\n",
       "      <th></th>\n",
       "      <th>Unnamed: 0</th>\n",
       "      <th>Unnamed: 11</th>\n",
       "    </tr>\n",
       "  </thead>\n",
       "  <tbody>\n",
       "    <tr>\n",
       "      <th>count</th>\n",
       "      <td>8000.00000</td>\n",
       "      <td>0.0</td>\n",
       "    </tr>\n",
       "    <tr>\n",
       "      <th>mean</th>\n",
       "      <td>3999.50000</td>\n",
       "      <td>NaN</td>\n",
       "    </tr>\n",
       "    <tr>\n",
       "      <th>std</th>\n",
       "      <td>2309.54541</td>\n",
       "      <td>NaN</td>\n",
       "    </tr>\n",
       "    <tr>\n",
       "      <th>min</th>\n",
       "      <td>0.00000</td>\n",
       "      <td>NaN</td>\n",
       "    </tr>\n",
       "    <tr>\n",
       "      <th>25%</th>\n",
       "      <td>1999.75000</td>\n",
       "      <td>NaN</td>\n",
       "    </tr>\n",
       "    <tr>\n",
       "      <th>50%</th>\n",
       "      <td>3999.50000</td>\n",
       "      <td>NaN</td>\n",
       "    </tr>\n",
       "    <tr>\n",
       "      <th>75%</th>\n",
       "      <td>5999.25000</td>\n",
       "      <td>NaN</td>\n",
       "    </tr>\n",
       "    <tr>\n",
       "      <th>max</th>\n",
       "      <td>7999.00000</td>\n",
       "      <td>NaN</td>\n",
       "    </tr>\n",
       "  </tbody>\n",
       "</table>\n",
       "</div>"
      ],
      "text/plain": [
       "       Unnamed: 0  Unnamed: 11\n",
       "count  8000.00000          0.0\n",
       "mean   3999.50000          NaN\n",
       "std    2309.54541          NaN\n",
       "min       0.00000          NaN\n",
       "25%    1999.75000          NaN\n",
       "50%    3999.50000          NaN\n",
       "75%    5999.25000          NaN\n",
       "max    7999.00000          NaN"
      ]
     },
     "execution_count": 9,
     "metadata": {},
     "output_type": "execute_result"
    }
   ],
   "source": [
    "salary_pred.describe()"
   ]
  },
  {
   "cell_type": "code",
   "execution_count": 10,
   "metadata": {},
   "outputs": [],
   "source": [
    "# salary_Id=salary_pred['Unnamed: 0']\n",
    "# salary_Id.shape"
   ]
  },
  {
   "cell_type": "code",
   "execution_count": 11,
   "metadata": {},
   "outputs": [],
   "source": [
    "colToRemove = ['Name','Mobile No.','Resume Title','Key Skills','Current Employer','Unnamed: 11']"
   ]
  },
  {
   "cell_type": "code",
   "execution_count": 12,
   "metadata": {},
   "outputs": [],
   "source": [
    "salary_pred.drop(colToRemove, axis=1, inplace=True)"
   ]
  },
  {
   "cell_type": "code",
   "execution_count": 13,
   "metadata": {},
   "outputs": [
    {
     "data": {
      "text/html": [
       "<div>\n",
       "<style scoped>\n",
       "    .dataframe tbody tr th:only-of-type {\n",
       "        vertical-align: middle;\n",
       "    }\n",
       "\n",
       "    .dataframe tbody tr th {\n",
       "        vertical-align: top;\n",
       "    }\n",
       "\n",
       "    .dataframe thead th {\n",
       "        text-align: right;\n",
       "    }\n",
       "</style>\n",
       "<table border=\"1\" class=\"dataframe\">\n",
       "  <thead>\n",
       "    <tr style=\"text-align: right;\">\n",
       "      <th></th>\n",
       "      <th>Unnamed: 0</th>\n",
       "      <th>Email Id</th>\n",
       "      <th>Industry</th>\n",
       "      <th>Work Experience</th>\n",
       "      <th>Current Salary</th>\n",
       "      <th>Current Location</th>\n",
       "      <th>Technical Specialist</th>\n",
       "    </tr>\n",
       "  </thead>\n",
       "  <tbody>\n",
       "    <tr>\n",
       "      <th>0</th>\n",
       "      <td>0</td>\n",
       "      <td>vel.manikandan@gmail.com</td>\n",
       "      <td>Manufacturing/Industrial,  Construction/Cement...</td>\n",
       "      <td>10</td>\n",
       "      <td>10,00,000 annually</td>\n",
       "      <td>Bengaluru/ Bangalore</td>\n",
       "      <td>Staff Process Engineer</td>\n",
       "    </tr>\n",
       "    <tr>\n",
       "      <th>1</th>\n",
       "      <td>1</td>\n",
       "      <td>vishavishal@gmail.com</td>\n",
       "      <td>Software Services,  IT-Software,  Telecom</td>\n",
       "      <td>8</td>\n",
       "      <td>18,00,000 annually</td>\n",
       "      <td>Bengaluru/ Bangalore</td>\n",
       "      <td>Staff Process Engineer</td>\n",
       "    </tr>\n",
       "    <tr>\n",
       "      <th>2</th>\n",
       "      <td>2</td>\n",
       "      <td>dilip.surendran@gmail.com</td>\n",
       "      <td>Software Services,  Internet/Dot com/ISP</td>\n",
       "      <td>6</td>\n",
       "      <td>9,27,000 annually</td>\n",
       "      <td>Bengaluru/ Bangalore</td>\n",
       "      <td>Staff Process Engineer</td>\n",
       "    </tr>\n",
       "    <tr>\n",
       "      <th>3</th>\n",
       "      <td>3</td>\n",
       "      <td>jagdish.rout@yahoo.com</td>\n",
       "      <td>Others</td>\n",
       "      <td>8</td>\n",
       "      <td>10,80,000 annually</td>\n",
       "      <td>Bengaluru/ Bangalore</td>\n",
       "      <td>Staff Process Engineer</td>\n",
       "    </tr>\n",
       "    <tr>\n",
       "      <th>4</th>\n",
       "      <td>4</td>\n",
       "      <td>santhu7159@gmail.com</td>\n",
       "      <td>Software Services,  Internet/Dot com/ISP</td>\n",
       "      <td>6</td>\n",
       "      <td>7,65,000 annually</td>\n",
       "      <td>Bengaluru/ Bangalore</td>\n",
       "      <td>Staff Process Engineer</td>\n",
       "    </tr>\n",
       "  </tbody>\n",
       "</table>\n",
       "</div>"
      ],
      "text/plain": [
       "   Unnamed: 0                   Email Id  \\\n",
       "0           0   vel.manikandan@gmail.com   \n",
       "1           1      vishavishal@gmail.com   \n",
       "2           2  dilip.surendran@gmail.com   \n",
       "3           3     jagdish.rout@yahoo.com   \n",
       "4           4       santhu7159@gmail.com   \n",
       "\n",
       "                                            Industry Work Experience  \\\n",
       "0  Manufacturing/Industrial,  Construction/Cement...              10   \n",
       "1          Software Services,  IT-Software,  Telecom               8   \n",
       "2           Software Services,  Internet/Dot com/ISP               6   \n",
       "3                                             Others               8   \n",
       "4           Software Services,  Internet/Dot com/ISP               6   \n",
       "\n",
       "       Current Salary      Current Location     Technical Specialist  \n",
       "0  10,00,000 annually  Bengaluru/ Bangalore  Staff Process Engineer   \n",
       "1  18,00,000 annually  Bengaluru/ Bangalore  Staff Process Engineer   \n",
       "2   9,27,000 annually  Bengaluru/ Bangalore  Staff Process Engineer   \n",
       "3  10,80,000 annually  Bengaluru/ Bangalore  Staff Process Engineer   \n",
       "4   7,65,000 annually  Bengaluru/ Bangalore  Staff Process Engineer   "
      ]
     },
     "execution_count": 13,
     "metadata": {},
     "output_type": "execute_result"
    }
   ],
   "source": [
    "salary_pred.head()"
   ]
  },
  {
   "cell_type": "code",
   "execution_count": 14,
   "metadata": {},
   "outputs": [
    {
     "data": {
      "text/plain": [
       "str"
      ]
     },
     "execution_count": 14,
     "metadata": {},
     "output_type": "execute_result"
    }
   ],
   "source": [
    "type(salary_pred['Industry'][0])"
   ]
  },
  {
   "cell_type": "code",
   "execution_count": 15,
   "metadata": {},
   "outputs": [
    {
     "name": "stderr",
     "output_type": "stream",
     "text": [
      "C:\\Users\\User\\Anaconda3\\lib\\site-packages\\ipykernel_launcher.py:3: SettingWithCopyWarning: \n",
      "A value is trying to be set on a copy of a slice from a DataFrame\n",
      "\n",
      "See the caveats in the documentation: http://pandas.pydata.org/pandas-docs/stable/indexing.html#indexing-view-versus-copy\n",
      "  This is separate from the ipykernel package so we can avoid doing imports until\n"
     ]
    }
   ],
   "source": [
    "industryList = []\n",
    "for i in range(salary_pred['Industry'].shape[0]):\n",
    "    salary_pred['Industry'][i] = (str(salary_pred['Industry'][i])).split(',')"
   ]
  },
  {
   "cell_type": "code",
   "execution_count": 16,
   "metadata": {},
   "outputs": [
    {
     "data": {
      "text/html": [
       "<div>\n",
       "<style scoped>\n",
       "    .dataframe tbody tr th:only-of-type {\n",
       "        vertical-align: middle;\n",
       "    }\n",
       "\n",
       "    .dataframe tbody tr th {\n",
       "        vertical-align: top;\n",
       "    }\n",
       "\n",
       "    .dataframe thead th {\n",
       "        text-align: right;\n",
       "    }\n",
       "</style>\n",
       "<table border=\"1\" class=\"dataframe\">\n",
       "  <thead>\n",
       "    <tr style=\"text-align: right;\">\n",
       "      <th></th>\n",
       "      <th>Unnamed: 0</th>\n",
       "      <th>Email Id</th>\n",
       "      <th>Industry</th>\n",
       "      <th>Work Experience</th>\n",
       "      <th>Current Salary</th>\n",
       "      <th>Current Location</th>\n",
       "      <th>Technical Specialist</th>\n",
       "    </tr>\n",
       "  </thead>\n",
       "  <tbody>\n",
       "    <tr>\n",
       "      <th>0</th>\n",
       "      <td>0</td>\n",
       "      <td>vel.manikandan@gmail.com</td>\n",
       "      <td>[Manufacturing/Industrial,   Construction/Ceme...</td>\n",
       "      <td>10</td>\n",
       "      <td>10,00,000 annually</td>\n",
       "      <td>Bengaluru/ Bangalore</td>\n",
       "      <td>Staff Process Engineer</td>\n",
       "    </tr>\n",
       "    <tr>\n",
       "      <th>1</th>\n",
       "      <td>1</td>\n",
       "      <td>vishavishal@gmail.com</td>\n",
       "      <td>[Software Services,   IT-Software,   Telecom]</td>\n",
       "      <td>8</td>\n",
       "      <td>18,00,000 annually</td>\n",
       "      <td>Bengaluru/ Bangalore</td>\n",
       "      <td>Staff Process Engineer</td>\n",
       "    </tr>\n",
       "    <tr>\n",
       "      <th>2</th>\n",
       "      <td>2</td>\n",
       "      <td>dilip.surendran@gmail.com</td>\n",
       "      <td>[Software Services,   Internet/Dot com/ISP]</td>\n",
       "      <td>6</td>\n",
       "      <td>9,27,000 annually</td>\n",
       "      <td>Bengaluru/ Bangalore</td>\n",
       "      <td>Staff Process Engineer</td>\n",
       "    </tr>\n",
       "    <tr>\n",
       "      <th>3</th>\n",
       "      <td>3</td>\n",
       "      <td>jagdish.rout@yahoo.com</td>\n",
       "      <td>[Others]</td>\n",
       "      <td>8</td>\n",
       "      <td>10,80,000 annually</td>\n",
       "      <td>Bengaluru/ Bangalore</td>\n",
       "      <td>Staff Process Engineer</td>\n",
       "    </tr>\n",
       "    <tr>\n",
       "      <th>4</th>\n",
       "      <td>4</td>\n",
       "      <td>santhu7159@gmail.com</td>\n",
       "      <td>[Software Services,   Internet/Dot com/ISP]</td>\n",
       "      <td>6</td>\n",
       "      <td>7,65,000 annually</td>\n",
       "      <td>Bengaluru/ Bangalore</td>\n",
       "      <td>Staff Process Engineer</td>\n",
       "    </tr>\n",
       "  </tbody>\n",
       "</table>\n",
       "</div>"
      ],
      "text/plain": [
       "   Unnamed: 0                   Email Id  \\\n",
       "0           0   vel.manikandan@gmail.com   \n",
       "1           1      vishavishal@gmail.com   \n",
       "2           2  dilip.surendran@gmail.com   \n",
       "3           3     jagdish.rout@yahoo.com   \n",
       "4           4       santhu7159@gmail.com   \n",
       "\n",
       "                                            Industry Work Experience  \\\n",
       "0  [Manufacturing/Industrial,   Construction/Ceme...              10   \n",
       "1      [Software Services,   IT-Software,   Telecom]               8   \n",
       "2        [Software Services,   Internet/Dot com/ISP]               6   \n",
       "3                                           [Others]               8   \n",
       "4        [Software Services,   Internet/Dot com/ISP]               6   \n",
       "\n",
       "       Current Salary      Current Location     Technical Specialist  \n",
       "0  10,00,000 annually  Bengaluru/ Bangalore  Staff Process Engineer   \n",
       "1  18,00,000 annually  Bengaluru/ Bangalore  Staff Process Engineer   \n",
       "2   9,27,000 annually  Bengaluru/ Bangalore  Staff Process Engineer   \n",
       "3  10,80,000 annually  Bengaluru/ Bangalore  Staff Process Engineer   \n",
       "4   7,65,000 annually  Bengaluru/ Bangalore  Staff Process Engineer   "
      ]
     },
     "execution_count": 16,
     "metadata": {},
     "output_type": "execute_result"
    }
   ],
   "source": [
    "salary_pred.head()"
   ]
  },
  {
   "cell_type": "code",
   "execution_count": 17,
   "metadata": {},
   "outputs": [
    {
     "data": {
      "text/plain": [
       "[Software Services,   Internet/Dot com/ISP,   IT-Software]                                                                                                                                                                                                                                                                                                                           817\n",
       "[Software Services,   Internet/Dot com/ISP]                                                                                                                                                                                                                                                                                                                                          702\n",
       "[Software Services,   IT-Software]                                                                                                                                                                                                                                                                                                                                                   369\n",
       "[Manufacturing/Industrial,   Automobiles/Auto Component/Auto Ancillary]                                                                                                                                                                                                                                                                                                              351\n",
       "[Others]                                                                                                                                                                                                                                                                                                                                                                             333\n",
       "[Manufacturing/Industrial]                                                                                                                                                                                                                                                                                                                                                           237\n",
       "[CRM/CallCentres/BPO/ITES/Med.Trans]                                                                                                                                                                                                                                                                                                                                                 206\n",
       "[Manufacturing/Industrial,   Consumer Durables/FMCG,   Automobiles/Auto Component/Auto Ancillary]                                                                                                                                                                                                                                                                                    206\n",
       "[Manufacturing/Industrial,   Marine/Aviation/Military/Mining/Shipping,   Automobiles/Auto Component/Auto Ancillary]                                                                                                                                                                                                                                                                  164\n",
       "[Projects/Infrastructure/Power/Energy,   Petroleum/Oil and Gas/Power]                                                                                                                                                                                                                                                                                                                164\n",
       "[Manufacturing/Industrial,   Construction/Cement/Metal/Steel/Iron]                                                                                                                                                                                                                                                                                                                   151\n",
       "[Software Services,   Internet/Dot com/ISP,   IT-Hardware/Networking,   Telecom]                                                                                                                                                                                                                                                                                                     150\n",
       "[Petroleum/Oil and Gas/Power]                                                                                                                                                                                                                                                                                                                                                        149\n",
       "[Manufacturing/Industrial,   Projects/Infrastructure/Power/Energy,   Petroleum/Oil and Gas/Power]                                                                                                                                                                                                                                                                                    148\n",
       "[Software Services]                                                                                                                                                                                                                                                                                                                                                                  134\n",
       "[Internet/Dot com/ISP,   IT-Hardware/Networking,   Telecom]                                                                                                                                                                                                                                                                                                                          116\n",
       "[Financial Services/Stockbroking,   CRM/CallCentres/BPO/ITES/Med.Trans]                                                                                                                                                                                                                                                                                                              109\n",
       "[Financial Services/Stockbroking,   Banking]                                                                                                                                                                                                                                                                                                                                         105\n",
       "[Apparel/Garments,   Manufacturing/Industrial,   Petrochemicals,   Petroleum/Oil and Gas/Power]                                                                                                                                                                                                                                                                                       99\n",
       "[Consulting Services]                                                                                                                                                                                                                                                                                                                                                                 91\n",
       "[Software Services,   Telecom]                                                                                                                                                                                                                                                                                                                                                        76\n",
       "[Manufacturing/Industrial,   Biotechnology/Pharmaceutical/Medicine]                                                                                                                                                                                                                                                                                                                   76\n",
       "[Manufacturing/Industrial,   IT-Hardware/Networking,   Telecom]                                                                                                                                                                                                                                                                                                                       72\n",
       "[Software Services,   IT-Software,   Telecom]                                                                                                                                                                                                                                                                                                                                         71\n",
       "[Manufacturing/Industrial,   Consumer Durables/FMCG]                                                                                                                                                                                                                                                                                                                                  70\n",
       "[Software Services,   Internet/Dot com/ISP,   Telecom]                                                                                                                                                                                                                                                                                                                                58\n",
       "[IT-Software]                                                                                                                                                                                                                                                                                                                                                                         57\n",
       "[Financial Services/Stockbroking]                                                                                                                                                                                                                                                                                                                                                     56\n",
       "[Banking]                                                                                                                                                                                                                                                                                                                                                                             55\n",
       "[Engineering/Projects,   Consulting Services]                                                                                                                                                                                                                                                                                                                                         53\n",
       "                                                                                                                                                                                                                                                                                                                                                                                    ... \n",
       "[Entertainment/Media,   Software Services,   IT-Software]                                                                                                                                                                                                                                                                                                                              1\n",
       "[Manufacturing/Industrial,   Educational/Training,   Automobiles/Auto Component/Auto Ancillary]                                                                                                                                                                                                                                                                                        1\n",
       "[Manufacturing/Industrial,   Hotel/Travel/Tourism/Airlines/Hospitality,   IT-Hardware/Networking]                                                                                                                                                                                                                                                                                      1\n",
       "[Manufacturing/Industrial,   CRM/CallCentres/BPO/ITES/Med.Trans,   Petroleum/Oil and Gas/Power]                                                                                                                                                                                                                                                                                        1\n",
       "[Manufacturing/Industrial,   Construction/Cement/Metal/Steel/Iron,   Internet/Dot com/ISP,   IT-Hardware/Networking,   Telecom]                                                                                                                                                                                                                                                        1\n",
       "[Research/Surveyor/MR,   Educational/Training,   Advertising/PR/Event Management]                                                                                                                                                                                                                                                                                                      1\n",
       "[Manufacturing/Industrial,   CRM/CallCentres/BPO/ITES/Med.Trans,   Biotechnology/Pharmaceutical/Medicine]                                                                                                                                                                                                                                                                              1\n",
       "[Entertainment/Media,   Consumer Durables/FMCG,   Retailing,   Advertising/PR/Event Management]                                                                                                                                                                                                                                                                                        1\n",
       "[Entertainment/Media,   Software Services,   IT-Hardware/Networking,   IT-Software,   Advertising/PR/Event Management]                                                                                                                                                                                                                                                                 1\n",
       "[Educational/Training,   Architecture/Interior Design]                                                                                                                                                                                                                                                                                                                                 1\n",
       "[Others,   Projects/Infrastructure/Power/Energy]                                                                                                                                                                                                                                                                                                                                       1\n",
       "[Accounting-Tax/Consulting,   IT-Hardware/Networking,   Manufacturing/Industrial]                                                                                                                                                                                                                                                                                                      1\n",
       "[Engineering/Projects,   Manufacturing/Industrial,   Construction/Cement/Metal/Steel/Iron,   Consumer Durables/FMCG,   Automobiles/Auto Component/Auto Ancillary]                                                                                                                                                                                                                      1\n",
       "[Manufacturing/Industrial,   Consumer Durables/FMCG,   Petrochemicals]                                                                                                                                                                                                                                                                                                                 1\n",
       "[Research/Surveyor/MR,   Software Services,   Recruitment/Placement Agencies,   CRM/CallCentres/BPO/ITES/Med.Trans,   Financial Services/Stockbroking,   Healthcare,   Biotechnology/Pharmaceutical/Medicine,   Printing/Packaging,   IT-Hardware/Networking,   IT-Software,   Law/Legal Firms,   Advertising/PR/Event Management,   Engineering/Projects,   Consulting Services]      1\n",
       "[Manufacturing/Industrial,   Consumer Durables/FMCG,   Automobiles/Auto Component/Auto Ancillary,   Warehousing]                                                                                                                                                                                                                                                                       1\n",
       "[Manufacturing/Industrial,   Petrochemicals,   Petroleum/Oil and Gas/Power,   Banking]                                                                                                                                                                                                                                                                                                 1\n",
       "[Entertainment/Media,   Others,   Advertising/PR/Event Management]                                                                                                                                                                                                                                                                                                                     1\n",
       "[Manufacturing/Industrial,   Telecom,   Consulting Services]                                                                                                                                                                                                                                                                                                                           1\n",
       "[Petrochemicals,   Apparel/Garments,   Manufacturing/Industrial]                                                                                                                                                                                                                                                                                                                       1\n",
       "[Biotechnology/Pharmaceutical/Medicine,   Engineering/Projects,   Manufacturing/Industrial]                                                                                                                                                                                                                                                                                            1\n",
       "[Manufacturing/Industrial,   Financial Services/Stockbroking,   Automobiles/Auto Component/Auto Ancillary]                                                                                                                                                                                                                                                                             1\n",
       "[Manufacturing/Industrial,   Software Services,   Construction/Cement/Metal/Steel/Iron,   Internet/Dot com/ISP]                                                                                                                                                                                                                                                                        1\n",
       "[Engineering/Projects,   Consulting Services,   Defence,   Security/Law Enforcement]                                                                                                                                                                                                                                                                                                   1\n",
       "[Projects/Infrastructure/Power/Energy,   Petroleum/Oil and Gas/Power,   Engineering/Projects]                                                                                                                                                                                                                                                                                          1\n",
       "[Engineering/Projects,   Manufacturing/Industrial,   Construction/Cement/Metal/Steel/Iron,   Projects/Infrastructure/Power/Energy,   Petroleum/Oil and Gas/Power]                                                                                                                                                                                                                      1\n",
       "[Software Services,   Printing/Packaging,   Internet/Dot com/ISP]                                                                                                                                                                                                                                                                                                                      1\n",
       "[Manufacturing/Industrial,   Internet/Dot com/ISP]                                                                                                                                                                                                                                                                                                                                     1\n",
       "[Entertainment/Media,   Printing/Packaging]                                                                                                                                                                                                                                                                                                                                            1\n",
       "[Manufacturing/Industrial,   Marine/Aviation/Military/Mining/Shipping,   Projects/Infrastructure/Power/Energy,   Automobiles/Auto Component/Auto Ancillary,   Petroleum/Oil and Gas/Power]                                                                                                                                                                                             1\n",
       "Name: Industry, Length: 665, dtype: int64"
      ]
     },
     "execution_count": 17,
     "metadata": {},
     "output_type": "execute_result"
    }
   ],
   "source": [
    "salary_pred['Industry'].value_counts()"
   ]
  },
  {
   "cell_type": "code",
   "execution_count": 18,
   "metadata": {},
   "outputs": [
    {
     "data": {
      "text/plain": [
       "(8000, 7)"
      ]
     },
     "execution_count": 18,
     "metadata": {},
     "output_type": "execute_result"
    }
   ],
   "source": [
    "salary_pred.shape"
   ]
  },
  {
   "cell_type": "code",
   "execution_count": 19,
   "metadata": {},
   "outputs": [
    {
     "name": "stderr",
     "output_type": "stream",
     "text": [
      "C:\\Users\\User\\Anaconda3\\lib\\site-packages\\ipykernel_launcher.py:3: SettingWithCopyWarning: \n",
      "A value is trying to be set on a copy of a slice from a DataFrame\n",
      "\n",
      "See the caveats in the documentation: http://pandas.pydata.org/pandas-docs/stable/indexing.html#indexing-view-versus-copy\n",
      "  This is separate from the ipykernel package so we can avoid doing imports until\n"
     ]
    }
   ],
   "source": [
    "industryList = []\n",
    "for i in range(salary_pred['Industry'].shape[0]):\n",
    "    salary_pred['Industry'][i] = (str(salary_pred['Industry'][i])).split('/')[0]"
   ]
  },
  {
   "cell_type": "code",
   "execution_count": 20,
   "metadata": {},
   "outputs": [
    {
     "data": {
      "text/html": [
       "<div>\n",
       "<style scoped>\n",
       "    .dataframe tbody tr th:only-of-type {\n",
       "        vertical-align: middle;\n",
       "    }\n",
       "\n",
       "    .dataframe tbody tr th {\n",
       "        vertical-align: top;\n",
       "    }\n",
       "\n",
       "    .dataframe thead th {\n",
       "        text-align: right;\n",
       "    }\n",
       "</style>\n",
       "<table border=\"1\" class=\"dataframe\">\n",
       "  <thead>\n",
       "    <tr style=\"text-align: right;\">\n",
       "      <th></th>\n",
       "      <th>Unnamed: 0</th>\n",
       "      <th>Email Id</th>\n",
       "      <th>Industry</th>\n",
       "      <th>Work Experience</th>\n",
       "      <th>Current Salary</th>\n",
       "      <th>Current Location</th>\n",
       "      <th>Technical Specialist</th>\n",
       "    </tr>\n",
       "  </thead>\n",
       "  <tbody>\n",
       "    <tr>\n",
       "      <th>0</th>\n",
       "      <td>0</td>\n",
       "      <td>vel.manikandan@gmail.com</td>\n",
       "      <td>['Manufacturing</td>\n",
       "      <td>10</td>\n",
       "      <td>10,00,000 annually</td>\n",
       "      <td>Bengaluru/ Bangalore</td>\n",
       "      <td>Staff Process Engineer</td>\n",
       "    </tr>\n",
       "    <tr>\n",
       "      <th>1</th>\n",
       "      <td>1</td>\n",
       "      <td>vishavishal@gmail.com</td>\n",
       "      <td>['Software Services', '  IT-Software', '  Tele...</td>\n",
       "      <td>8</td>\n",
       "      <td>18,00,000 annually</td>\n",
       "      <td>Bengaluru/ Bangalore</td>\n",
       "      <td>Staff Process Engineer</td>\n",
       "    </tr>\n",
       "    <tr>\n",
       "      <th>2</th>\n",
       "      <td>2</td>\n",
       "      <td>dilip.surendran@gmail.com</td>\n",
       "      <td>['Software Services', '  Internet</td>\n",
       "      <td>6</td>\n",
       "      <td>9,27,000 annually</td>\n",
       "      <td>Bengaluru/ Bangalore</td>\n",
       "      <td>Staff Process Engineer</td>\n",
       "    </tr>\n",
       "    <tr>\n",
       "      <th>3</th>\n",
       "      <td>3</td>\n",
       "      <td>jagdish.rout@yahoo.com</td>\n",
       "      <td>['Others']</td>\n",
       "      <td>8</td>\n",
       "      <td>10,80,000 annually</td>\n",
       "      <td>Bengaluru/ Bangalore</td>\n",
       "      <td>Staff Process Engineer</td>\n",
       "    </tr>\n",
       "    <tr>\n",
       "      <th>4</th>\n",
       "      <td>4</td>\n",
       "      <td>santhu7159@gmail.com</td>\n",
       "      <td>['Software Services', '  Internet</td>\n",
       "      <td>6</td>\n",
       "      <td>7,65,000 annually</td>\n",
       "      <td>Bengaluru/ Bangalore</td>\n",
       "      <td>Staff Process Engineer</td>\n",
       "    </tr>\n",
       "  </tbody>\n",
       "</table>\n",
       "</div>"
      ],
      "text/plain": [
       "   Unnamed: 0                   Email Id  \\\n",
       "0           0   vel.manikandan@gmail.com   \n",
       "1           1      vishavishal@gmail.com   \n",
       "2           2  dilip.surendran@gmail.com   \n",
       "3           3     jagdish.rout@yahoo.com   \n",
       "4           4       santhu7159@gmail.com   \n",
       "\n",
       "                                            Industry Work Experience  \\\n",
       "0                                    ['Manufacturing              10   \n",
       "1  ['Software Services', '  IT-Software', '  Tele...               8   \n",
       "2                  ['Software Services', '  Internet               6   \n",
       "3                                         ['Others']               8   \n",
       "4                  ['Software Services', '  Internet               6   \n",
       "\n",
       "       Current Salary      Current Location     Technical Specialist  \n",
       "0  10,00,000 annually  Bengaluru/ Bangalore  Staff Process Engineer   \n",
       "1  18,00,000 annually  Bengaluru/ Bangalore  Staff Process Engineer   \n",
       "2   9,27,000 annually  Bengaluru/ Bangalore  Staff Process Engineer   \n",
       "3  10,80,000 annually  Bengaluru/ Bangalore  Staff Process Engineer   \n",
       "4   7,65,000 annually  Bengaluru/ Bangalore  Staff Process Engineer   "
      ]
     },
     "execution_count": 20,
     "metadata": {},
     "output_type": "execute_result"
    }
   ],
   "source": [
    "salary_pred.head()"
   ]
  },
  {
   "cell_type": "code",
   "execution_count": 21,
   "metadata": {},
   "outputs": [
    {
     "data": {
      "text/plain": [
       "['Manufacturing                                                  2364\n",
       "['Software Services', '  Internet                                1821\n",
       "['Software Services', '  IT-Software']                            369\n",
       "['Others']                                                        333\n",
       "['Engineering                                                     328\n",
       "['Financial Services                                              318\n",
       "['CRM                                                             266\n",
       "['Internet                                                        190\n",
       "['Projects                                                        178\n",
       "['Apparel                                                         163\n",
       "['Petroleum                                                       151\n",
       "['Software Services']                                             134\n",
       "['IT-Hardware                                                      94\n",
       "['Consulting Services']                                            91\n",
       "['Software Services', '  IT-Hardware                               81\n",
       "['Software Services', '  Telecom']                                 76\n",
       "['Software Services', '  IT-Software', '  Telecom']                71\n",
       "['Software Services', '  CRM                                       65\n",
       "['IT-Software']                                                    57\n",
       "['Banking']                                                        55\n",
       "['Software Services', '  Financial Services                        51\n",
       "['Consulting Services', '  Financial Services                      37\n",
       "['Real Estate']                                                    35\n",
       "['Consumer Durables                                                34\n",
       "['Research                                                         33\n",
       "['Consulting Services', '  Software Services', '  Internet         33\n",
       "['Consulting Services', '  CRM                                     32\n",
       "['Entertainment                                                    32\n",
       "['Construction                                                     25\n",
       "['Software Services', '  Others', '  Internet                      24\n",
       "                                                                 ... \n",
       "['Banking', '  IT-Software', '  Insurance']                         1\n",
       "['Software Services', '  Consulting Services', '  Recruitment       1\n",
       "['Petrochemicals', '  Apparel                                       1\n",
       "['Retailing', '  Warehousing']                                      1\n",
       "['Others', '  Advertising                                           1\n",
       "['Others', '  Government Sector']                                   1\n",
       "['Real Estate', '  Advertising                                      1\n",
       "['Consulting Services', '  Government Sector']                      1\n",
       "['Consulting Services', '  Manufacturing                            1\n",
       "['NGO                                                               1\n",
       "['Healthcare', '  Insurance']                                       1\n",
       "['Real Estate', '  Law                                              1\n",
       "['Consulting Services', '  IT-Hardware                              1\n",
       "['Consulting Services', '  Warehousing']                            1\n",
       "['Software Services', '  Real Estate', '  Internet                  1\n",
       "['Government Sector', '  Projects                                   1\n",
       "['Consulting Services', '  Consumer Durables                        1\n",
       "['Retailing', '  Architecture                                       1\n",
       "['Software Services', '  IT-Software', '  Financial Services        1\n",
       "['Others', '  Manufacturing                                         1\n",
       "['Software Services', '  Catering                                   1\n",
       "['Software Services', '  Printing                                   1\n",
       "['IT-Software', '  Petroleum                                        1\n",
       "['Consulting Services', '  Law                                      1\n",
       "['Government Sector', '  Hotel                                      1\n",
       "['Software Services', '  Insurance', '  Telecom']                   1\n",
       "['Government Sector', '  Defence']                                  1\n",
       "['Others', '  Construction                                          1\n",
       "['Petrochemicals', '  Biotechnology                                 1\n",
       "['Consulting Services', '  Software Services', '  IT-Hardware       1\n",
       "Name: Industry, Length: 139, dtype: int64"
      ]
     },
     "execution_count": 21,
     "metadata": {},
     "output_type": "execute_result"
    }
   ],
   "source": [
    "salary_pred['Industry'].value_counts()"
   ]
  },
  {
   "cell_type": "code",
   "execution_count": 22,
   "metadata": {},
   "outputs": [
    {
     "name": "stderr",
     "output_type": "stream",
     "text": [
      "C:\\Users\\User\\Anaconda3\\lib\\site-packages\\ipykernel_launcher.py:3: SettingWithCopyWarning: \n",
      "A value is trying to be set on a copy of a slice from a DataFrame\n",
      "\n",
      "See the caveats in the documentation: http://pandas.pydata.org/pandas-docs/stable/indexing.html#indexing-view-versus-copy\n",
      "  This is separate from the ipykernel package so we can avoid doing imports until\n"
     ]
    }
   ],
   "source": [
    "industryList = []\n",
    "for i in range(salary_pred['Industry'].shape[0]):\n",
    "    salary_pred['Industry'][i] = (str(salary_pred['Industry'][i])).split('(')[0]"
   ]
  },
  {
   "cell_type": "code",
   "execution_count": 23,
   "metadata": {},
   "outputs": [
    {
     "data": {
      "text/plain": [
       "['Manufacturing                                                  2364\n",
       "['Software Services', '  Internet                                1821\n",
       "['Software Services', '  IT-Software']                            369\n",
       "['Others']                                                        333\n",
       "['Engineering                                                     328\n",
       "['Financial Services                                              318\n",
       "['CRM                                                             266\n",
       "['Internet                                                        190\n",
       "['Projects                                                        178\n",
       "['Apparel                                                         163\n",
       "['Petroleum                                                       151\n",
       "['Software Services']                                             134\n",
       "['IT-Hardware                                                      94\n",
       "['Consulting Services']                                            91\n",
       "['Software Services', '  IT-Hardware                               81\n",
       "['Software Services', '  Telecom']                                 76\n",
       "['Software Services', '  IT-Software', '  Telecom']                71\n",
       "['Software Services', '  CRM                                       65\n",
       "['IT-Software']                                                    57\n",
       "['Banking']                                                        55\n",
       "['Software Services', '  Financial Services                        51\n",
       "['Consulting Services', '  Financial Services                      37\n",
       "['Real Estate']                                                    35\n",
       "['Consumer Durables                                                34\n",
       "['Research                                                         33\n",
       "['Consulting Services', '  Software Services', '  Internet         33\n",
       "['Consulting Services', '  CRM                                     32\n",
       "['Entertainment                                                    32\n",
       "['Construction                                                     25\n",
       "['Software Services', '  Others', '  Internet                      24\n",
       "                                                                 ... \n",
       "['Banking', '  IT-Software', '  Insurance']                         1\n",
       "['Software Services', '  Consulting Services', '  Recruitment       1\n",
       "['Petrochemicals', '  Apparel                                       1\n",
       "['Retailing', '  Warehousing']                                      1\n",
       "['Others', '  Advertising                                           1\n",
       "['Others', '  Government Sector']                                   1\n",
       "['Real Estate', '  Advertising                                      1\n",
       "['Consulting Services', '  Government Sector']                      1\n",
       "['Consulting Services', '  Manufacturing                            1\n",
       "['NGO                                                               1\n",
       "['Healthcare', '  Insurance']                                       1\n",
       "['Real Estate', '  Law                                              1\n",
       "['Consulting Services', '  IT-Hardware                              1\n",
       "['Consulting Services', '  Warehousing']                            1\n",
       "['Software Services', '  Real Estate', '  Internet                  1\n",
       "['Government Sector', '  Projects                                   1\n",
       "['Consulting Services', '  Consumer Durables                        1\n",
       "['Retailing', '  Architecture                                       1\n",
       "['Software Services', '  IT-Software', '  Financial Services        1\n",
       "['Others', '  Manufacturing                                         1\n",
       "['Software Services', '  Catering                                   1\n",
       "['Software Services', '  Printing                                   1\n",
       "['IT-Software', '  Petroleum                                        1\n",
       "['Consulting Services', '  Law                                      1\n",
       "['Government Sector', '  Hotel                                      1\n",
       "['Software Services', '  Insurance', '  Telecom']                   1\n",
       "['Government Sector', '  Defence']                                  1\n",
       "['Others', '  Construction                                          1\n",
       "['Petrochemicals', '  Biotechnology                                 1\n",
       "['Consulting Services', '  Software Services', '  IT-Hardware       1\n",
       "Name: Industry, Length: 139, dtype: int64"
      ]
     },
     "execution_count": 23,
     "metadata": {},
     "output_type": "execute_result"
    }
   ],
   "source": [
    "salary_pred['Industry'].value_counts()"
   ]
  },
  {
   "cell_type": "code",
   "execution_count": 24,
   "metadata": {},
   "outputs": [
    {
     "data": {
      "text/plain": [
       "['Manufacturing                                                  2364\n",
       "['Software Services', '  Internet                                1821\n",
       "['Software Services', '  IT-Software']                            369\n",
       "['Others']                                                        333\n",
       "['Engineering                                                     328\n",
       "['Financial Services                                              318\n",
       "['CRM                                                             266\n",
       "['Internet                                                        190\n",
       "['PInfrastructure                                                 178\n",
       "['Apparel                                                         163\n",
       "['Petroleum                                                       151\n",
       "['Software Services']                                             134\n",
       "['IT-Hardware                                                      94\n",
       "['Consulting Services']                                            91\n",
       "['Software Services', '  IT-Hardware                               81\n",
       "['Software Services', '  Telecom']                                 76\n",
       "['Software Services', '  IT-Software', '  Telecom']                71\n",
       "['Software Services', '  CRM                                       65\n",
       "['IT-Software']                                                    57\n",
       "['Banking']                                                        55\n",
       "['Software Services', '  Financial Services                        51\n",
       "['Consulting Services', '  Financial Services                      37\n",
       "['Real Estate']                                                    35\n",
       "['Consumer Durables                                                34\n",
       "['Consulting Services', '  Software Services', '  Internet         33\n",
       "['Research                                                         33\n",
       "['Entertainment                                                    32\n",
       "['Consulting Services', '  CRM                                     32\n",
       "['Construction                                                     25\n",
       "['Software Services', '  Others', '  Internet                      24\n",
       "                                                                 ... \n",
       "['Real Estate', '  Banking']                                        1\n",
       "['Others', '  Government Sector']                                   1\n",
       "['Banking', '  IT-Software']                                        1\n",
       "['Others', '  Advertising                                           1\n",
       "['Retailing', '  Warehousing']                                      1\n",
       "['Petrochemicals', '  Apparel                                       1\n",
       "['Software Services', '  Healthcare', '  Biotechnology              1\n",
       "['Banking', '  CRM                                                  1\n",
       "['Others', '  Construction                                          1\n",
       "['Government Sector', '  Defence']                                  1\n",
       "['Software Services', '  Printing                                   1\n",
       "['Software Services', '  Insurance', '  Telecom']                   1\n",
       "['Government Sector', '  Hotel                                      1\n",
       "['Consulting Services', '  Law                                      1\n",
       "['Retailing', '  Healthcare']                                       1\n",
       "['Petrochemicals', '  Biotechnology                                 1\n",
       "['Software Services', '  Consulting Services', '  Recruitment       1\n",
       "['Banking', '  IT-Software', '  Insurance']                         1\n",
       "['IT-Software', '  Petroleum                                        1\n",
       "['Software Services', '  Catering                                   1\n",
       "['Consulting Services', '  Warehousing']                            1\n",
       "['Government Sector', '  PInfrastructure                            1\n",
       "['Others', '  Manufacturing                                         1\n",
       "['Software Services', '  IT-Software', '  Financial Services        1\n",
       "['Retailing', '  Architecture                                       1\n",
       "['Others', '  Defence', '  Security                                 1\n",
       "['Consulting Services', '  Consumer Durables                        1\n",
       "['Government Sector', '  Advertising                                1\n",
       "['Software Services', '  Real Estate', '  Internet                  1\n",
       "['Consulting Services', '  Software Services', '  IT-Hardware       1\n",
       "Name: Industry, Length: 139, dtype: int64"
      ]
     },
     "execution_count": 24,
     "metadata": {},
     "output_type": "execute_result"
    }
   ],
   "source": [
    "salary_pred['Industry'] = salary_pred['Industry'].str.replace('rojects', 'Projects ')\n",
    "salary_pred['Industry'] = salary_pred['Industry'].str.replace('Petrochemical s', 'Petrochemical')\n",
    "salary_pred['Industry'] = salary_pred['Industry'].str.replace('IT Software : Software Products & Services', 'IT-Software')\n",
    "salary_pred['Industry'] = salary_pred['Industry'].str.replace('Projects', 'Infrastructure')\n",
    "salary_pred['Industry'] = salary_pred['Industry'].str.replace('Hotel', 'Hotel')\n",
    "salary_pred['Industry'].value_counts()\n"
   ]
  },
  {
   "cell_type": "code",
   "execution_count": 25,
   "metadata": {},
   "outputs": [
    {
     "data": {
      "text/plain": [
       "Unnamed: 0               int64\n",
       "Email Id                object\n",
       "Industry                object\n",
       "Work Experience         object\n",
       "Current Salary          object\n",
       "Current Location        object\n",
       "Technical Specialist    object\n",
       "dtype: object"
      ]
     },
     "execution_count": 25,
     "metadata": {},
     "output_type": "execute_result"
    }
   ],
   "source": [
    "salary_pred.dtypes"
   ]
  },
  {
   "cell_type": "code",
   "execution_count": 26,
   "metadata": {},
   "outputs": [],
   "source": [
    "# #months into year conversion\n",
    "# for i in range(salary_pred.shape[0]):\n",
    "#     if('months' in salary_pred['Work Experience'][i]):\n",
    "#         print(salary_pred['Work Experience'][i])"
   ]
  },
  {
   "cell_type": "code",
   "execution_count": 27,
   "metadata": {},
   "outputs": [],
   "source": [
    "salary_pred['Work Experience'] = salary_pred['Work Experience'].str.replace('6 months', '0.5 ')"
   ]
  },
  {
   "cell_type": "code",
   "execution_count": 28,
   "metadata": {},
   "outputs": [
    {
     "data": {
      "text/plain": [
       "str"
      ]
     },
     "execution_count": 28,
     "metadata": {},
     "output_type": "execute_result"
    }
   ],
   "source": [
    "type(salary_pred['Work Experience'][0])"
   ]
  },
  {
   "cell_type": "code",
   "execution_count": 29,
   "metadata": {},
   "outputs": [],
   "source": [
    "salary_pred['Work Experience'] = salary_pred['Work Experience'].astype(float)"
   ]
  },
  {
   "cell_type": "code",
   "execution_count": 30,
   "metadata": {},
   "outputs": [
    {
     "data": {
      "text/plain": [
       "numpy.float64"
      ]
     },
     "execution_count": 30,
     "metadata": {},
     "output_type": "execute_result"
    }
   ],
   "source": [
    "type(salary_pred['Work Experience'][0])"
   ]
  },
  {
   "cell_type": "code",
   "execution_count": 31,
   "metadata": {},
   "outputs": [
    {
     "data": {
      "text/html": [
       "<div>\n",
       "<style scoped>\n",
       "    .dataframe tbody tr th:only-of-type {\n",
       "        vertical-align: middle;\n",
       "    }\n",
       "\n",
       "    .dataframe tbody tr th {\n",
       "        vertical-align: top;\n",
       "    }\n",
       "\n",
       "    .dataframe thead th {\n",
       "        text-align: right;\n",
       "    }\n",
       "</style>\n",
       "<table border=\"1\" class=\"dataframe\">\n",
       "  <thead>\n",
       "    <tr style=\"text-align: right;\">\n",
       "      <th></th>\n",
       "      <th>Unnamed: 0</th>\n",
       "      <th>Email Id</th>\n",
       "      <th>Industry</th>\n",
       "      <th>Work Experience</th>\n",
       "      <th>Current Salary</th>\n",
       "      <th>Current Location</th>\n",
       "      <th>Technical Specialist</th>\n",
       "    </tr>\n",
       "  </thead>\n",
       "  <tbody>\n",
       "    <tr>\n",
       "      <th>0</th>\n",
       "      <td>0</td>\n",
       "      <td>vel.manikandan@gmail.com</td>\n",
       "      <td>['Manufacturing</td>\n",
       "      <td>10.0</td>\n",
       "      <td>10,00,000 annually</td>\n",
       "      <td>Bengaluru/ Bangalore</td>\n",
       "      <td>Staff Process Engineer</td>\n",
       "    </tr>\n",
       "    <tr>\n",
       "      <th>1</th>\n",
       "      <td>1</td>\n",
       "      <td>vishavishal@gmail.com</td>\n",
       "      <td>['Software Services', '  IT-Software', '  Tele...</td>\n",
       "      <td>8.0</td>\n",
       "      <td>18,00,000 annually</td>\n",
       "      <td>Bengaluru/ Bangalore</td>\n",
       "      <td>Staff Process Engineer</td>\n",
       "    </tr>\n",
       "    <tr>\n",
       "      <th>2</th>\n",
       "      <td>2</td>\n",
       "      <td>dilip.surendran@gmail.com</td>\n",
       "      <td>['Software Services', '  Internet</td>\n",
       "      <td>6.0</td>\n",
       "      <td>9,27,000 annually</td>\n",
       "      <td>Bengaluru/ Bangalore</td>\n",
       "      <td>Staff Process Engineer</td>\n",
       "    </tr>\n",
       "    <tr>\n",
       "      <th>3</th>\n",
       "      <td>3</td>\n",
       "      <td>jagdish.rout@yahoo.com</td>\n",
       "      <td>['Others']</td>\n",
       "      <td>8.0</td>\n",
       "      <td>10,80,000 annually</td>\n",
       "      <td>Bengaluru/ Bangalore</td>\n",
       "      <td>Staff Process Engineer</td>\n",
       "    </tr>\n",
       "    <tr>\n",
       "      <th>4</th>\n",
       "      <td>4</td>\n",
       "      <td>santhu7159@gmail.com</td>\n",
       "      <td>['Software Services', '  Internet</td>\n",
       "      <td>6.0</td>\n",
       "      <td>7,65,000 annually</td>\n",
       "      <td>Bengaluru/ Bangalore</td>\n",
       "      <td>Staff Process Engineer</td>\n",
       "    </tr>\n",
       "  </tbody>\n",
       "</table>\n",
       "</div>"
      ],
      "text/plain": [
       "   Unnamed: 0                   Email Id  \\\n",
       "0           0   vel.manikandan@gmail.com   \n",
       "1           1      vishavishal@gmail.com   \n",
       "2           2  dilip.surendran@gmail.com   \n",
       "3           3     jagdish.rout@yahoo.com   \n",
       "4           4       santhu7159@gmail.com   \n",
       "\n",
       "                                            Industry  Work Experience  \\\n",
       "0                                    ['Manufacturing             10.0   \n",
       "1  ['Software Services', '  IT-Software', '  Tele...              8.0   \n",
       "2                  ['Software Services', '  Internet              6.0   \n",
       "3                                         ['Others']              8.0   \n",
       "4                  ['Software Services', '  Internet              6.0   \n",
       "\n",
       "       Current Salary      Current Location     Technical Specialist  \n",
       "0  10,00,000 annually  Bengaluru/ Bangalore  Staff Process Engineer   \n",
       "1  18,00,000 annually  Bengaluru/ Bangalore  Staff Process Engineer   \n",
       "2   9,27,000 annually  Bengaluru/ Bangalore  Staff Process Engineer   \n",
       "3  10,80,000 annually  Bengaluru/ Bangalore  Staff Process Engineer   \n",
       "4   7,65,000 annually  Bengaluru/ Bangalore  Staff Process Engineer   "
      ]
     },
     "execution_count": 31,
     "metadata": {},
     "output_type": "execute_result"
    }
   ],
   "source": [
    "salary_pred.head()"
   ]
  },
  {
   "cell_type": "code",
   "execution_count": 32,
   "metadata": {},
   "outputs": [
    {
     "data": {
      "text/plain": [
       "18,00,000 annually    259\n",
       "15,00,000 annually    258\n",
       "14,00,000 annually    235\n",
       "20,00,000 annually    225\n",
       "13,00,000 annually    189\n",
       "40,00,000 annually    179\n",
       "16,00,000 annually    169\n",
       "10,00,000 annually    148\n",
       "17,00,000 annually    142\n",
       "35,00,000 annually    141\n",
       "8,00,000 annually     138\n",
       "7,00,000 annually     138\n",
       "25,00,000 annually    138\n",
       "36,00,000 annually    129\n",
       "50,00,000 annually    129\n",
       "24,00,000 annually    122\n",
       "32,00,000 annually    121\n",
       "9,00,000 annually     120\n",
       "19,00,000 annually    110\n",
       "22,00,000 annually    106\n",
       "12,00,000 annually    105\n",
       "45,00,000 annually     96\n",
       "13,50,000 annually     92\n",
       "7,50,000 annually      88\n",
       "21,00,000 annually     87\n",
       "15,50,000 annually     79\n",
       "11,00,000 annually     79\n",
       "16,50,000 annually     78\n",
       "8,50,000 annually      77\n",
       "14,50,000 annually     75\n",
       "                     ... \n",
       "22,78,000 annually      1\n",
       "17,47,000 annually      1\n",
       "8,58,000 annually       1\n",
       "10,36,000 annually      1\n",
       "52,70,000 annually      1\n",
       "31,68,000 annually      1\n",
       "39,21,000 annually      1\n",
       "7,67,000 annually       1\n",
       "11,47,000 annually      1\n",
       "32,10,000 annually      1\n",
       "39,70,000 annually      1\n",
       "48,15,000 annually      1\n",
       "8,72,000 annually       1\n",
       "38,05,000 annually      1\n",
       "7,96,000 annually       1\n",
       "9,92,000 annually       1\n",
       "12,42,000 annually      1\n",
       "28,40,000 annually      1\n",
       "45,50,000 annually      1\n",
       "7,39,000 annually       1\n",
       "44,95,000 annually      1\n",
       "43,91,000 annually      1\n",
       "25,29,000 annually      1\n",
       "10,77,000 annually      1\n",
       "10,31,000 annually      1\n",
       "7,72,000 annually       1\n",
       "17,40,000 annually      1\n",
       "12,21,000 annually      1\n",
       "11,88,000 annually      1\n",
       "10,21,000 annually      1\n",
       "Name: Current Salary, Length: 936, dtype: int64"
      ]
     },
     "execution_count": 32,
     "metadata": {},
     "output_type": "execute_result"
    }
   ],
   "source": [
    "salary_pred['Current Salary'].value_counts()"
   ]
  },
  {
   "cell_type": "code",
   "execution_count": 33,
   "metadata": {},
   "outputs": [],
   "source": [
    "#Remove all the char except the numbers\n",
    "salary_pred['Current Salary'] = salary_pred['Current Salary'].str.replace('annually','')"
   ]
  },
  {
   "cell_type": "code",
   "execution_count": 34,
   "metadata": {},
   "outputs": [],
   "source": [
    "salary_pred['Current Salary'] = salary_pred['Current Salary'].str.replace(',','')"
   ]
  },
  {
   "cell_type": "code",
   "execution_count": 35,
   "metadata": {},
   "outputs": [
    {
     "data": {
      "text/plain": [
       "float"
      ]
     },
     "execution_count": 35,
     "metadata": {},
     "output_type": "execute_result"
    }
   ],
   "source": [
    "type(float(salary_pred['Current Salary'][1]))"
   ]
  },
  {
   "cell_type": "code",
   "execution_count": 36,
   "metadata": {},
   "outputs": [
    {
     "data": {
      "text/plain": [
       "1800000     259\n",
       "1500000     258\n",
       "1400000     235\n",
       "2000000     225\n",
       "1300000     189\n",
       "4000000     179\n",
       "1600000     169\n",
       "1000000     148\n",
       "1700000     142\n",
       "3500000     141\n",
       "700000      138\n",
       "800000      138\n",
       "2500000     138\n",
       "5000000     129\n",
       "3600000     129\n",
       "2400000     122\n",
       "3200000     121\n",
       "900000      120\n",
       "1900000     110\n",
       "2200000     106\n",
       "1200000     105\n",
       "4500000      96\n",
       "1350000      92\n",
       "750000       88\n",
       "2100000      87\n",
       "1100000      79\n",
       "1550000      79\n",
       "1650000      78\n",
       "850000       77\n",
       "1450000      75\n",
       "           ... \n",
       "3114000       1\n",
       "3325000       1\n",
       "1014000       1\n",
       "1003000       1\n",
       "1165000       1\n",
       "1394000       1\n",
       "4425000       1\n",
       "834000        1\n",
       "3230000       1\n",
       "1929000       1\n",
       "4495000       1\n",
       "4169000       1\n",
       "3495000       1\n",
       "1352000       1\n",
       "1085000       1\n",
       "2990000       1\n",
       "4850000       1\n",
       "1082000       1\n",
       "5350000       1\n",
       "1093000       1\n",
       "1412000       1\n",
       "1114000       1\n",
       "2285000       1\n",
       "4545000       1\n",
       "4320000       1\n",
       "3632000       1\n",
       "4720000       1\n",
       "1841000       1\n",
       "952000        1\n",
       "3785000       1\n",
       "Name: Current Salary, Length: 936, dtype: int64"
      ]
     },
     "execution_count": 36,
     "metadata": {},
     "output_type": "execute_result"
    }
   ],
   "source": [
    "salary_pred['Current Salary'].value_counts()"
   ]
  },
  {
   "cell_type": "code",
   "execution_count": 37,
   "metadata": {},
   "outputs": [],
   "source": [
    "salary_pred['Current Salary'] = salary_pred['Current Salary'].str.replace('\\n', '')"
   ]
  },
  {
   "cell_type": "code",
   "execution_count": 38,
   "metadata": {},
   "outputs": [
    {
     "data": {
      "text/plain": [
       "1800000     259\n",
       "1500000     258\n",
       "1400000     235\n",
       "2000000     225\n",
       "1300000     189\n",
       "4000000     179\n",
       "1600000     169\n",
       "1000000     148\n",
       "1700000     142\n",
       "3500000     141\n",
       "700000      138\n",
       "800000      138\n",
       "2500000     138\n",
       "5000000     129\n",
       "3600000     129\n",
       "2400000     122\n",
       "3200000     121\n",
       "900000      120\n",
       "1900000     110\n",
       "2200000     106\n",
       "1200000     105\n",
       "4500000      96\n",
       "1350000      92\n",
       "750000       88\n",
       "2100000      87\n",
       "1100000      79\n",
       "1550000      79\n",
       "1650000      78\n",
       "850000       77\n",
       "1450000      75\n",
       "           ... \n",
       "3114000       1\n",
       "3325000       1\n",
       "1014000       1\n",
       "1003000       1\n",
       "1165000       1\n",
       "1394000       1\n",
       "4425000       1\n",
       "834000        1\n",
       "3230000       1\n",
       "1929000       1\n",
       "4495000       1\n",
       "4169000       1\n",
       "3495000       1\n",
       "1352000       1\n",
       "1085000       1\n",
       "2990000       1\n",
       "4850000       1\n",
       "1082000       1\n",
       "5350000       1\n",
       "1093000       1\n",
       "1412000       1\n",
       "1114000       1\n",
       "2285000       1\n",
       "4545000       1\n",
       "4320000       1\n",
       "3632000       1\n",
       "4720000       1\n",
       "1841000       1\n",
       "952000        1\n",
       "3785000       1\n",
       "Name: Current Salary, Length: 936, dtype: int64"
      ]
     },
     "execution_count": 38,
     "metadata": {},
     "output_type": "execute_result"
    }
   ],
   "source": [
    "salary_pred['Current Salary'].value_counts()"
   ]
  },
  {
   "cell_type": "code",
   "execution_count": 39,
   "metadata": {},
   "outputs": [
    {
     "data": {
      "text/plain": [
       "Unnamed: 0              0\n",
       "Email Id                1\n",
       "Industry                0\n",
       "Work Experience         0\n",
       "Current Salary          0\n",
       "Current Location        6\n",
       "Technical Specialist    0\n",
       "dtype: int64"
      ]
     },
     "execution_count": 39,
     "metadata": {},
     "output_type": "execute_result"
    }
   ],
   "source": [
    "salary_pred.isnull().sum()"
   ]
  },
  {
   "cell_type": "code",
   "execution_count": 40,
   "metadata": {},
   "outputs": [
    {
     "data": {
      "text/plain": [
       "str"
      ]
     },
     "execution_count": 40,
     "metadata": {},
     "output_type": "execute_result"
    }
   ],
   "source": [
    "type(salary_pred['Current Salary'][2])"
   ]
  },
  {
   "cell_type": "code",
   "execution_count": 41,
   "metadata": {},
   "outputs": [],
   "source": [
    "# salary_pred['Current Salary'] = salary_pred['Current Salary'].str.replace('2000-02-16 00:00:00', '0')\n",
    "# salary_pred['Current Salary'] = salary_pred['Current Salary'].str.replace('2000-03-25 00:00:00', '0')"
   ]
  },
  {
   "cell_type": "code",
   "execution_count": 42,
   "metadata": {},
   "outputs": [],
   "source": [
    "for i in range(salary_pred.shape[0]):\n",
    "    if(salary_pred['Current Salary'][i] == ''):\n",
    "        print(i)"
   ]
  },
  {
   "cell_type": "code",
   "execution_count": 43,
   "metadata": {},
   "outputs": [],
   "source": [
    "#Missing value\n",
    "salary_pred['Current Salary'].fillna(0, inplace = True)"
   ]
  },
  {
   "cell_type": "code",
   "execution_count": 44,
   "metadata": {},
   "outputs": [],
   "source": [
    "# salary_pred['Current Salary'][29463] = '0'\n",
    "# salary_pred['Current Salary'][29605] = '0'"
   ]
  },
  {
   "cell_type": "code",
   "execution_count": 45,
   "metadata": {},
   "outputs": [],
   "source": [
    "salary_pred['Current Salary'] = salary_pred['Current Salary'].astype(float)"
   ]
  },
  {
   "cell_type": "code",
   "execution_count": 46,
   "metadata": {},
   "outputs": [
    {
     "data": {
      "text/plain": [
       "Unnamed: 0                int64\n",
       "Email Id                 object\n",
       "Industry                 object\n",
       "Work Experience         float64\n",
       "Current Salary          float64\n",
       "Current Location         object\n",
       "Technical Specialist     object\n",
       "dtype: object"
      ]
     },
     "execution_count": 46,
     "metadata": {},
     "output_type": "execute_result"
    }
   ],
   "source": [
    "salary_pred.dtypes"
   ]
  },
  {
   "cell_type": "code",
   "execution_count": 47,
   "metadata": {},
   "outputs": [
    {
     "data": {
      "text/html": [
       "<div>\n",
       "<style scoped>\n",
       "    .dataframe tbody tr th:only-of-type {\n",
       "        vertical-align: middle;\n",
       "    }\n",
       "\n",
       "    .dataframe tbody tr th {\n",
       "        vertical-align: top;\n",
       "    }\n",
       "\n",
       "    .dataframe thead th {\n",
       "        text-align: right;\n",
       "    }\n",
       "</style>\n",
       "<table border=\"1\" class=\"dataframe\">\n",
       "  <thead>\n",
       "    <tr style=\"text-align: right;\">\n",
       "      <th></th>\n",
       "      <th>Unnamed: 0</th>\n",
       "      <th>Email Id</th>\n",
       "      <th>Industry</th>\n",
       "      <th>Work Experience</th>\n",
       "      <th>Current Salary</th>\n",
       "      <th>Current Location</th>\n",
       "      <th>Technical Specialist</th>\n",
       "    </tr>\n",
       "  </thead>\n",
       "  <tbody>\n",
       "    <tr>\n",
       "      <th>0</th>\n",
       "      <td>0</td>\n",
       "      <td>vel.manikandan@gmail.com</td>\n",
       "      <td>['Manufacturing</td>\n",
       "      <td>10.0</td>\n",
       "      <td>1000000.0</td>\n",
       "      <td>Bengaluru/ Bangalore</td>\n",
       "      <td>Staff Process Engineer</td>\n",
       "    </tr>\n",
       "    <tr>\n",
       "      <th>1</th>\n",
       "      <td>1</td>\n",
       "      <td>vishavishal@gmail.com</td>\n",
       "      <td>['Software Services', '  IT-Software', '  Tele...</td>\n",
       "      <td>8.0</td>\n",
       "      <td>1800000.0</td>\n",
       "      <td>Bengaluru/ Bangalore</td>\n",
       "      <td>Staff Process Engineer</td>\n",
       "    </tr>\n",
       "  </tbody>\n",
       "</table>\n",
       "</div>"
      ],
      "text/plain": [
       "   Unnamed: 0                  Email Id  \\\n",
       "0           0  vel.manikandan@gmail.com   \n",
       "1           1     vishavishal@gmail.com   \n",
       "\n",
       "                                            Industry  Work Experience  \\\n",
       "0                                    ['Manufacturing             10.0   \n",
       "1  ['Software Services', '  IT-Software', '  Tele...              8.0   \n",
       "\n",
       "   Current Salary      Current Location     Technical Specialist  \n",
       "0       1000000.0  Bengaluru/ Bangalore  Staff Process Engineer   \n",
       "1       1800000.0  Bengaluru/ Bangalore  Staff Process Engineer   "
      ]
     },
     "execution_count": 47,
     "metadata": {},
     "output_type": "execute_result"
    }
   ],
   "source": [
    "salary_pred.head(2)"
   ]
  },
  {
   "cell_type": "code",
   "execution_count": 48,
   "metadata": {},
   "outputs": [
    {
     "data": {
      "text/plain": [
       "Bengaluru/ Bangalore                   6238\n",
       "Pune                                    648\n",
       "Chennai                                 207\n",
       "Mumbai                                   94\n",
       "Hyderabad/ Secunderabad                  87\n",
       "Delhi                                    53\n",
       "Ahmedabad                                42\n",
       "Coimbatore                               28\n",
       "Gurgaon                                  26\n",
       "Noida/ Greater Noida                     24\n",
       "Kolkata                                  21\n",
       "Pakistan                                 16\n",
       "Dubai                                    16\n",
       "Abu Dhabi                                14\n",
       "Canada                                   14\n",
       "Dehradun                                 13\n",
       "Vadodara                                 12\n",
       "Cairo                                    12\n",
       "Hosur                                    11\n",
       "Faridabad                                11\n",
       "OTHERS                                   11\n",
       "Visakhapatnam                            10\n",
       "Algeria                                  10\n",
       "Malaysia                                  7\n",
       "Houston                                   6\n",
       "EGYPT                                     6\n",
       "Gandhinagar                               6\n",
       "KUWAIT                                    6\n",
       "Mysoru/ Mysore                            6\n",
       "Pondicherry/ Puducherry                   6\n",
       "                                       ... \n",
       "KERALA(Trivandrum)                        1\n",
       "INTERNATIONAL(Buenos Aires)               1\n",
       "Akola                                     1\n",
       "Tuticorin                                 1\n",
       "KARNATAKA(Bijapur)                        1\n",
       "Muktsar                                   1\n",
       "UK                                        1\n",
       "TAMIL NADU(ARAKKONAM)                     1\n",
       "INTERNATIONAL(Bogota Colombia)            1\n",
       "Roorkee                                   1\n",
       "Mohali                                    1\n",
       "INTERNATIONAL(ArgentinBuenos Aires)       1\n",
       "INTERNATIONAL(Jakrata)                    1\n",
       "Patan                                     1\n",
       "INTERNATIONAL(Austria)                    1\n",
       "Ajman                                     1\n",
       "Parwanoo                                  1\n",
       "INTERNATIONAL(Tanzania)                   1\n",
       "Cuddalore                                 1\n",
       "Guwahati                                  1\n",
       "Jammu                                     1\n",
       "Lucknow                                   1\n",
       "BIHAR                                     1\n",
       "SAUDI ARABIA(Dhahran)                     1\n",
       "Ajmer                                     1\n",
       "GULF/ MIDDLE EAST(kish)                   1\n",
       "INTERNATIONAL(OHIO Columbus)              1\n",
       "US-Pennsylvania(state college)            1\n",
       "INTERNATIONAL(Romania)                    1\n",
       "INTERNATIONAL(Beijing)                    1\n",
       "Name: Current Location, Length: 226, dtype: int64"
      ]
     },
     "execution_count": 48,
     "metadata": {},
     "output_type": "execute_result"
    }
   ],
   "source": [
    "salary_pred['Current Location'].value_counts()"
   ]
  },
  {
   "cell_type": "code",
   "execution_count": 49,
   "metadata": {},
   "outputs": [
    {
     "name": "stderr",
     "output_type": "stream",
     "text": [
      "C:\\Users\\User\\Anaconda3\\lib\\site-packages\\ipykernel_launcher.py:2: SettingWithCopyWarning: \n",
      "A value is trying to be set on a copy of a slice from a DataFrame\n",
      "\n",
      "See the caveats in the documentation: http://pandas.pydata.org/pandas-docs/stable/indexing.html#indexing-view-versus-copy\n",
      "  \n"
     ]
    },
    {
     "name": "stdout",
     "output_type": "stream",
     "text": [
      "0\n",
      "1000\n",
      "2000\n",
      "3000\n",
      "4000\n",
      "5000\n",
      "6000\n",
      "7000\n"
     ]
    }
   ],
   "source": [
    "for i in range(salary_pred['Current Location'].shape[0]):\n",
    "    salary_pred['Current Location'][i] = (str(salary_pred['Current Location'][i])).split('/')[0]\n",
    "    if(i%1000 == 0):\n",
    "        print(i)"
   ]
  },
  {
   "cell_type": "code",
   "execution_count": 50,
   "metadata": {},
   "outputs": [
    {
     "data": {
      "text/plain": [
       "Bengaluru                        6238\n",
       "Pune                              648\n",
       "Chennai                           207\n",
       "Mumbai                             94\n",
       "Hyderabad                          87\n",
       "Delhi                              53\n",
       "Ahmedabad                          42\n",
       "Coimbatore                         28\n",
       "Gurgaon                            26\n",
       "Noida                              24\n",
       "Kolkata                            21\n",
       "Pakistan                           16\n",
       "Dubai                              16\n",
       "Canada                             14\n",
       "Abu Dhabi                          14\n",
       "Dehradun                           13\n",
       "Cairo                              12\n",
       "Vadodara                           12\n",
       "Hosur                              11\n",
       "Faridabad                          11\n",
       "OTHERS                             11\n",
       "Algeria                            10\n",
       "Visakhapatnam                      10\n",
       "Malaysia                            7\n",
       "KUWAIT                              6\n",
       "Mysoru                              6\n",
       "Houston                             6\n",
       "Gandhinagar                         6\n",
       "nan                                 6\n",
       "Muscat                              6\n",
       "                                 ... \n",
       "INTERNATIONAL(OHIO Columbus)        1\n",
       "Ajmer                               1\n",
       "SAUDI ARABIA(Dhahran)               1\n",
       "BIHAR                               1\n",
       "Jammu                               1\n",
       "Guwahati                            1\n",
       "Cuddalore                           1\n",
       "INTERNATIONAL(Tanzania)             1\n",
       "INTERNATIONAL(Austria)              1\n",
       "INTERNATIONAL(Sucre Carupano)       1\n",
       "RAJASTHAN(Banswara)                 1\n",
       "Ras Al Khaimah                      1\n",
       "Akola                               1\n",
       "Kota                                1\n",
       "Vellore                             1\n",
       "INTERNATIONAL(Ghana)                1\n",
       "Chittoor                            1\n",
       "INTERNATIONAL(NON)                  1\n",
       "Kalol                               1\n",
       "South Africa                        1\n",
       "GOA( verna,goa)                     1\n",
       "Erode                               1\n",
       "Sangareddy                          1\n",
       "Lonavala                            1\n",
       "Ranchi                              1\n",
       "Bilaspur                            1\n",
       "Anand                               1\n",
       "MADHYA PRADESH(Shahdol)             1\n",
       "INTERNATIONAL(Libya)                1\n",
       "Raipur                              1\n",
       "Name: Current Location, Length: 224, dtype: int64"
      ]
     },
     "execution_count": 50,
     "metadata": {},
     "output_type": "execute_result"
    }
   ],
   "source": [
    "salary_pred['Current Location'].value_counts()"
   ]
  },
  {
   "cell_type": "code",
   "execution_count": 51,
   "metadata": {},
   "outputs": [
    {
     "name": "stderr",
     "output_type": "stream",
     "text": [
      "C:\\Users\\User\\Anaconda3\\lib\\site-packages\\ipykernel_launcher.py:2: SettingWithCopyWarning: \n",
      "A value is trying to be set on a copy of a slice from a DataFrame\n",
      "\n",
      "See the caveats in the documentation: http://pandas.pydata.org/pandas-docs/stable/indexing.html#indexing-view-versus-copy\n",
      "  \n",
      "C:\\Users\\User\\Anaconda3\\lib\\site-packages\\ipykernel_launcher.py:3: SettingWithCopyWarning: \n",
      "A value is trying to be set on a copy of a slice from a DataFrame\n",
      "\n",
      "See the caveats in the documentation: http://pandas.pydata.org/pandas-docs/stable/indexing.html#indexing-view-versus-copy\n",
      "  This is separate from the ipykernel package so we can avoid doing imports until\n"
     ]
    },
    {
     "name": "stdout",
     "output_type": "stream",
     "text": [
      "0\n",
      "1000\n",
      "2000\n",
      "3000\n",
      "4000\n",
      "5000\n",
      "6000\n",
      "7000\n"
     ]
    }
   ],
   "source": [
    "for i in range(salary_pred['Current Location'].shape[0]):\n",
    "    salary_pred['Current Location'][i] = (str(salary_pred['Current Location'][i])).split(',')[0]\n",
    "    salary_pred['Current Location'][i] = (str(salary_pred['Current Location'][i])).split('(')[0]\n",
    "    if(i%1000 == 0):\n",
    "        print(i)"
   ]
  },
  {
   "cell_type": "code",
   "execution_count": 52,
   "metadata": {},
   "outputs": [
    {
     "data": {
      "text/plain": [
       "Bengaluru         6238\n",
       "Pune               648\n",
       "Chennai            207\n",
       "Mumbai              94\n",
       "Hyderabad           87\n",
       "Delhi               53\n",
       "Ahmedabad           42\n",
       "INTERNATIONAL       41\n",
       "Coimbatore          28\n",
       "Gurgaon             26\n",
       "Noida               24\n",
       "Kolkata             21\n",
       "Pakistan            16\n",
       "Dubai               16\n",
       "Canada              14\n",
       "Abu Dhabi           14\n",
       "Dehradun            13\n",
       "Cairo               12\n",
       "Vadodara            12\n",
       "Hosur               11\n",
       "Faridabad           11\n",
       "OTHERS              11\n",
       "Algeria             10\n",
       "Visakhapatnam       10\n",
       "Malaysia             7\n",
       "KUWAIT               7\n",
       "Mysoru               6\n",
       "EGYPT                6\n",
       "Pondicherry          6\n",
       "Muscat               6\n",
       "                  ... \n",
       "BIHAR                1\n",
       "Ajmer                1\n",
       "Ranchi               1\n",
       "Bilaspur             1\n",
       "Anand                1\n",
       "Erode                1\n",
       "Ras Al Khaimah       1\n",
       "Bhubaneshwar         1\n",
       "GOA                  1\n",
       "Ropar                1\n",
       "KERALA               1\n",
       "South Africa         1\n",
       "Parwanoo             1\n",
       "Mohali               1\n",
       "Raipur               1\n",
       "Palakkad             1\n",
       "Lucknow              1\n",
       "Baddi                1\n",
       "Ajman                1\n",
       "Bareilly             1\n",
       "Tunisia              1\n",
       "Patna                1\n",
       "Kota                 1\n",
       "Vellore              1\n",
       "Chittoor             1\n",
       "Muktsar              1\n",
       "UK                   1\n",
       "Kalol                1\n",
       "Roorkee              1\n",
       "New Zealand          1\n",
       "Name: Current Location, Length: 173, dtype: int64"
      ]
     },
     "execution_count": 52,
     "metadata": {},
     "output_type": "execute_result"
    }
   ],
   "source": [
    "salary_pred['Current Location'].value_counts()"
   ]
  },
  {
   "cell_type": "code",
   "execution_count": 53,
   "metadata": {},
   "outputs": [],
   "source": [
    "# salary_pred['Current Location'] = salary_pred['Current Location'].str.replace('nan', 'Bengaluru')\n",
    "# salary_pred['Current Location'].value_counts()"
   ]
  },
  {
   "cell_type": "code",
   "execution_count": 54,
   "metadata": {},
   "outputs": [],
   "source": [
    "#drop all the rows having count less than 50"
   ]
  },
  {
   "cell_type": "code",
   "execution_count": 55,
   "metadata": {},
   "outputs": [
    {
     "data": {
      "text/html": [
       "<div>\n",
       "<style scoped>\n",
       "    .dataframe tbody tr th:only-of-type {\n",
       "        vertical-align: middle;\n",
       "    }\n",
       "\n",
       "    .dataframe tbody tr th {\n",
       "        vertical-align: top;\n",
       "    }\n",
       "\n",
       "    .dataframe thead th {\n",
       "        text-align: right;\n",
       "    }\n",
       "</style>\n",
       "<table border=\"1\" class=\"dataframe\">\n",
       "  <thead>\n",
       "    <tr style=\"text-align: right;\">\n",
       "      <th></th>\n",
       "      <th>Unnamed: 0</th>\n",
       "      <th>Email Id</th>\n",
       "      <th>Industry</th>\n",
       "      <th>Work Experience</th>\n",
       "      <th>Current Salary</th>\n",
       "      <th>Current Location</th>\n",
       "      <th>Technical Specialist</th>\n",
       "    </tr>\n",
       "  </thead>\n",
       "  <tbody>\n",
       "    <tr>\n",
       "      <th>0</th>\n",
       "      <td>0</td>\n",
       "      <td>vel.manikandan@gmail.com</td>\n",
       "      <td>['Manufacturing</td>\n",
       "      <td>10.0</td>\n",
       "      <td>1000000.0</td>\n",
       "      <td>Bengaluru</td>\n",
       "      <td>Staff Process Engineer</td>\n",
       "    </tr>\n",
       "    <tr>\n",
       "      <th>1</th>\n",
       "      <td>1</td>\n",
       "      <td>vishavishal@gmail.com</td>\n",
       "      <td>['Software Services', '  IT-Software', '  Tele...</td>\n",
       "      <td>8.0</td>\n",
       "      <td>1800000.0</td>\n",
       "      <td>Bengaluru</td>\n",
       "      <td>Staff Process Engineer</td>\n",
       "    </tr>\n",
       "    <tr>\n",
       "      <th>2</th>\n",
       "      <td>2</td>\n",
       "      <td>dilip.surendran@gmail.com</td>\n",
       "      <td>['Software Services', '  Internet</td>\n",
       "      <td>6.0</td>\n",
       "      <td>927000.0</td>\n",
       "      <td>Bengaluru</td>\n",
       "      <td>Staff Process Engineer</td>\n",
       "    </tr>\n",
       "    <tr>\n",
       "      <th>3</th>\n",
       "      <td>3</td>\n",
       "      <td>jagdish.rout@yahoo.com</td>\n",
       "      <td>['Others']</td>\n",
       "      <td>8.0</td>\n",
       "      <td>1080000.0</td>\n",
       "      <td>Bengaluru</td>\n",
       "      <td>Staff Process Engineer</td>\n",
       "    </tr>\n",
       "    <tr>\n",
       "      <th>4</th>\n",
       "      <td>4</td>\n",
       "      <td>santhu7159@gmail.com</td>\n",
       "      <td>['Software Services', '  Internet</td>\n",
       "      <td>6.0</td>\n",
       "      <td>765000.0</td>\n",
       "      <td>Bengaluru</td>\n",
       "      <td>Staff Process Engineer</td>\n",
       "    </tr>\n",
       "  </tbody>\n",
       "</table>\n",
       "</div>"
      ],
      "text/plain": [
       "   Unnamed: 0                   Email Id  \\\n",
       "0           0   vel.manikandan@gmail.com   \n",
       "1           1      vishavishal@gmail.com   \n",
       "2           2  dilip.surendran@gmail.com   \n",
       "3           3     jagdish.rout@yahoo.com   \n",
       "4           4       santhu7159@gmail.com   \n",
       "\n",
       "                                            Industry  Work Experience  \\\n",
       "0                                    ['Manufacturing             10.0   \n",
       "1  ['Software Services', '  IT-Software', '  Tele...              8.0   \n",
       "2                  ['Software Services', '  Internet              6.0   \n",
       "3                                         ['Others']              8.0   \n",
       "4                  ['Software Services', '  Internet              6.0   \n",
       "\n",
       "   Current Salary Current Location     Technical Specialist  \n",
       "0       1000000.0        Bengaluru  Staff Process Engineer   \n",
       "1       1800000.0        Bengaluru  Staff Process Engineer   \n",
       "2        927000.0        Bengaluru  Staff Process Engineer   \n",
       "3       1080000.0        Bengaluru  Staff Process Engineer   \n",
       "4        765000.0        Bengaluru  Staff Process Engineer   "
      ]
     },
     "execution_count": 55,
     "metadata": {},
     "output_type": "execute_result"
    }
   ],
   "source": [
    "salary_pred.head()"
   ]
  },
  {
   "cell_type": "code",
   "execution_count": 56,
   "metadata": {},
   "outputs": [
    {
     "data": {
      "text/plain": [
       "'business process engineer'"
      ]
     },
     "execution_count": 56,
     "metadata": {},
     "output_type": "execute_result"
    }
   ],
   "source": [
    "'Business Process Engineer'.lower()"
   ]
  },
  {
   "cell_type": "code",
   "execution_count": 57,
   "metadata": {},
   "outputs": [],
   "source": [
    "salary_pred['Technical Specialist'] = salary_pred['Technical Specialist'].str.lower()"
   ]
  },
  {
   "cell_type": "code",
   "execution_count": 58,
   "metadata": {},
   "outputs": [
    {
     "name": "stderr",
     "output_type": "stream",
     "text": [
      "C:\\Users\\User\\Anaconda3\\lib\\site-packages\\ipykernel_launcher.py:3: SettingWithCopyWarning: \n",
      "A value is trying to be set on a copy of a slice from a DataFrame\n",
      "\n",
      "See the caveats in the documentation: http://pandas.pydata.org/pandas-docs/stable/indexing.html#indexing-view-versus-copy\n",
      "  This is separate from the ipykernel package so we can avoid doing imports until\n"
     ]
    }
   ],
   "source": [
    "for i in range(salary_pred.shape[0]):\n",
    "    words = str(salary_pred['Technical Specialist'][i]).lower().split()\n",
    "    salary_pred['Technical Specialist'][i] = \" \".join( words )"
   ]
  },
  {
   "cell_type": "code",
   "execution_count": 59,
   "metadata": {},
   "outputs": [],
   "source": [
    "salary_pred = salary_pred[salary_pred['Technical Specialist'] != 'full time employed' ]\n",
    "salary_pred= salary_pred[salary_pred['Technical Specialist'] != 'nan' ]\n",
    "salary_pred = salary_pred[salary_pred['Technical Specialist'] != 'currently unemployed' ]"
   ]
  },
  {
   "cell_type": "code",
   "execution_count": 60,
   "metadata": {},
   "outputs": [],
   "source": [
    "#Replace Sr to Senior\n",
    "salary_pred['Technical Specialist'] = salary_pred['Technical Specialist'].str.replace('manager', 'project manager')\n",
    "salary_pred['Technical Specialist'] = salary_pred['Technical Specialist'].str.replace('team lead', 'tech lead')\n",
    "salary_pred['Technical Specialist'] = salary_pred['Technical Specialist'].str.replace('seniour', 'senior')\n",
    "salary_pred['Technical Specialist'] = salary_pred['Technical Specialist'].str.replace('sr', 'senior')\n",
    "salary_pred['Technical Specialist'] = salary_pred['Technical Specialist'].str.replace('Supervisor', 'supervisor')\n",
    "salary_pred['Technical Specialist'] = salary_pred['Technical Specialist'].str.replace('Safety', 'safety')\n",
    "salary_pred['Technical Specialist'] = salary_pred['Technical Specialist'].str.replace('senior project project manager', 'project manager')\n",
    "salary_pred['Technical Specialist'] = salary_pred['Technical Specialist'].str.replace('project project manager', 'project manager')\n",
    "\n",
    "salary_pred['Technical Specialist'] = salary_pred['Technical Specialist'].str.replace('senior ', '')\n",
    "salary_pred['Technical Specialist'] = salary_pred['Technical Specialist'].str.replace('experienced ', '')\n",
    "salary_pred['Technical Specialist'] = salary_pred['Technical Specialist'].str.replace('project project manager', 'project manager')\n",
    "salary_pred['Technical Specialist'] = salary_pred['Technical Specialist'].str.replace('engineering project manager', 'project manager')\n",
    "\n",
    "salary_pred['Technical Specialist'] = salary_pred['Technical Specialist'].str.replace('lead engineer', 'engineer')\n",
    "salary_pred['Technical Specialist'] = salary_pred['Technical Specialist'].str.replace('project lead', 'tech lead')\n",
    "salary_pred['Technical Specialist'] = salary_pred['Technical Specialist'].str.replace('project engineer', 'project manager')\n",
    "salary_pred['Technical Specialist'] = salary_pred['Technical Specialist'].str.replace('lead engineer', 'engineer')\n",
    "salary_pred['Technical Specialist'] = salary_pred['Technical Specialist'].str.replace('system engineer', 'engineer')\n",
    "\n",
    "salary_pred['Technical Specialist'] = salary_pred['Technical Specialist'].str.replace('tech lead', 'technical leader')\n",
    "#df['Designation'] = df['Designation'].str.replace('technical lead', 'technical leader')\n",
    "salary_pred['Technical Specialist'] = salary_pred['Technical Specialist'].str.replace('system engineer', 'engineer')\n",
    "salary_pred['Technical Specialist'] = salary_pred['Technical Specialist'].str.replace('assistant ', '')\n",
    "\n",
    "\n",
    "salary_pred['Technical Specialist'] = salary_pred['Technical Specialist'].str.replace('technicalnical ', '')\n",
    "salary_pred['Technical Specialist'] = salary_pred['Technical Specialist'].str.replace('program project manager', 'project manager')\n",
    "salary_pred['Technical Specialist'] = salary_pred['Technical Specialist'].str.replace('leaderer', 'leader')\n",
    "salary_pred['Technical Specialist'] = salary_pred['Technical Specialist'].str.replace('associate ', '')"
   ]
  },
  {
   "cell_type": "code",
   "execution_count": 61,
   "metadata": {},
   "outputs": [],
   "source": [
    "salary_pred = salary_pred[salary_pred['Technical Specialist'] != 'associate' ]"
   ]
  },
  {
   "cell_type": "code",
   "execution_count": 62,
   "metadata": {},
   "outputs": [],
   "source": [
    "salary_pred['Technical Specialist'] = salary_pred['Technical Specialist'].str.replace('software developer', 'software engineer')\n",
    "salary_pred['Technical Specialist'] = salary_pred['Technical Specialist'].str.replace('hardware design engineer', 'hardware engineer')\n",
    "salary_pred['Technical Specialist'] = salary_pred['Technical Specialist'].str.replace('general project manager - projects', 'project manager')\n",
    "\n",
    "salary_pred['Technical Specialist'] = salary_pred['Technical Specialist'].str.replace('test technician', 'test engineer')\n",
    "salary_pred['Technical Specialist'] = salary_pred['Technical Specialist'].str.replace('safety officer', 'software supervisor')\n",
    "salary_pred['Technical Specialist'] = salary_pred['Technical Specialist'].str.replace(' design', '')\n",
    "salary_pred['Technical Specialist'] = salary_pred['Technical Specialist'].str.replace('software supervisor', 'software engineer')\n",
    "salary_pred['Technical Specialist'] = salary_pred['Technical Specialist'].str.replace('test lead', 'test engineer')"
   ]
  },
  {
   "cell_type": "code",
   "execution_count": 63,
   "metadata": {},
   "outputs": [
    {
     "data": {
      "text/plain": [
       "staff process engineer                                         1500\n",
       "process engineer                                               1500\n",
       "network engineer                                               1460\n",
       "quality engineer                                                944\n",
       "reservoir engineer                                              941\n",
       "project manager                                                 164\n",
       "technical leader                                                102\n",
       "technical lead                                                   76\n",
       "software engineer                                                61\n",
       "consultant                                                       60\n",
       "technical project manager                                        28\n",
       "engineer                                                         20\n",
       "test engineer                                                    15\n",
       "lead consultant                                                  13\n",
       "technical architect                                              13\n",
       "architect                                                        13\n",
       "solution architect                                               13\n",
       "principal consultant                                             11\n",
       "qa engineer                                                      10\n",
       "test project manager                                             10\n",
       "qa lead                                                          10\n",
       "module lead                                                      10\n",
       "technical specialist                                              9\n",
       "qa project manager                                                8\n",
       "developer                                                         8\n",
       "member technical staff                                            8\n",
       "business analyst                                                  8\n",
       "supplier quality engineer                                         8\n",
       "specialist                                                        7\n",
       "quality assurance engineer                                        7\n",
       "                                                               ... \n",
       "ui specialist                                                     1\n",
       "dev ops engineer                                                  1\n",
       "project manager/technical leader                                  1\n",
       "senior/engineer                                                   1\n",
       "delivery lead at nesle and os db migration hana certified         1\n",
       "technical head                                                    1\n",
       "process engineer, department of relamination                      1\n",
       "solutioner e2e group                                              1\n",
       "lead process                                                      1\n",
       "technical lead(sap)                                               1\n",
       "program and project manager                                       1\n",
       "head - supply chain (planning, warehouse & logistics).            1\n",
       "location head corporate salary                                    1\n",
       "android developer                                                 1\n",
       "supplier quality-associate                                        1\n",
       "it principal consultant                                           1\n",
       "platform level 2                                                  1\n",
       "profile of engineer (big data) with 11+ years of experience       1\n",
       "senior. tech specialist, systems engineering                      1\n",
       "information technology project manager                            1\n",
       "application development analyst                                   1\n",
       "process and quality engineer                                      1\n",
       "specialist - quality control                                      1\n",
       "management consultant                                             1\n",
       "development & quality engineer                                    1\n",
       "technical lead in automation testing                              1\n",
       "database administrator senior                                     1\n",
       "prof. development                                                 1\n",
       "consultant engineer in test                                       1\n",
       "agile coach                                                       1\n",
       "Name: Technical Specialist, Length: 715, dtype: int64"
      ]
     },
     "execution_count": 63,
     "metadata": {},
     "output_type": "execute_result"
    }
   ],
   "source": [
    "salary_pred['Technical Specialist'].value_counts()"
   ]
  },
  {
   "cell_type": "code",
   "execution_count": 64,
   "metadata": {},
   "outputs": [],
   "source": [
    "count = salary_pred['Technical Specialist'].value_counts()"
   ]
  },
  {
   "cell_type": "code",
   "execution_count": 65,
   "metadata": {},
   "outputs": [
    {
     "data": {
      "text/plain": [
       "staff process engineer    1500\n",
       "process engineer          1500\n",
       "network engineer          1460\n",
       "quality engineer           944\n",
       "reservoir engineer         941\n",
       "project manager            164\n",
       "technical leader           102\n",
       "Name: Technical Specialist, dtype: int64"
      ]
     },
     "execution_count": 65,
     "metadata": {},
     "output_type": "execute_result"
    }
   ],
   "source": [
    "count[count >= 100]"
   ]
  },
  {
   "cell_type": "code",
   "execution_count": 66,
   "metadata": {},
   "outputs": [],
   "source": [
    "dfFresh = salary_pred[salary_pred['Technical Specialist'].isin(count[count >= 100].index)]"
   ]
  },
  {
   "cell_type": "code",
   "execution_count": 67,
   "metadata": {},
   "outputs": [
    {
     "data": {
      "text/plain": [
       "(6611, 7)"
      ]
     },
     "execution_count": 67,
     "metadata": {},
     "output_type": "execute_result"
    }
   ],
   "source": [
    "dfFresh.shape"
   ]
  },
  {
   "cell_type": "code",
   "execution_count": 68,
   "metadata": {},
   "outputs": [
    {
     "data": {
      "text/plain": [
       "staff process engineer    1500\n",
       "process engineer          1500\n",
       "network engineer          1460\n",
       "quality engineer           944\n",
       "reservoir engineer         941\n",
       "project manager            164\n",
       "technical leader           102\n",
       "Name: Technical Specialist, dtype: int64"
      ]
     },
     "execution_count": 68,
     "metadata": {},
     "output_type": "execute_result"
    }
   ],
   "source": [
    "dfFresh['Technical Specialist'].value_counts()"
   ]
  },
  {
   "cell_type": "code",
   "execution_count": 69,
   "metadata": {},
   "outputs": [],
   "source": [
    "#Save to csv - temporary\n",
    "salary_pred.to_csv(\"DataModel.csv\",index=False)"
   ]
  },
  {
   "cell_type": "code",
   "execution_count": 70,
   "metadata": {},
   "outputs": [],
   "source": [
    "x=salary_pred.drop(['Current Salary'],axis=1)"
   ]
  },
  {
   "cell_type": "code",
   "execution_count": 71,
   "metadata": {},
   "outputs": [
    {
     "data": {
      "text/html": [
       "<div>\n",
       "<style scoped>\n",
       "    .dataframe tbody tr th:only-of-type {\n",
       "        vertical-align: middle;\n",
       "    }\n",
       "\n",
       "    .dataframe tbody tr th {\n",
       "        vertical-align: top;\n",
       "    }\n",
       "\n",
       "    .dataframe thead th {\n",
       "        text-align: right;\n",
       "    }\n",
       "</style>\n",
       "<table border=\"1\" class=\"dataframe\">\n",
       "  <thead>\n",
       "    <tr style=\"text-align: right;\">\n",
       "      <th></th>\n",
       "      <th>Work Experience</th>\n",
       "    </tr>\n",
       "  </thead>\n",
       "  <tbody>\n",
       "    <tr>\n",
       "      <th>0</th>\n",
       "      <td>10.0</td>\n",
       "    </tr>\n",
       "    <tr>\n",
       "      <th>1</th>\n",
       "      <td>8.0</td>\n",
       "    </tr>\n",
       "    <tr>\n",
       "      <th>2</th>\n",
       "      <td>6.0</td>\n",
       "    </tr>\n",
       "    <tr>\n",
       "      <th>3</th>\n",
       "      <td>8.0</td>\n",
       "    </tr>\n",
       "    <tr>\n",
       "      <th>4</th>\n",
       "      <td>6.0</td>\n",
       "    </tr>\n",
       "    <tr>\n",
       "      <th>5</th>\n",
       "      <td>6.0</td>\n",
       "    </tr>\n",
       "    <tr>\n",
       "      <th>6</th>\n",
       "      <td>24.0</td>\n",
       "    </tr>\n",
       "    <tr>\n",
       "      <th>7</th>\n",
       "      <td>5.0</td>\n",
       "    </tr>\n",
       "    <tr>\n",
       "      <th>8</th>\n",
       "      <td>7.0</td>\n",
       "    </tr>\n",
       "    <tr>\n",
       "      <th>9</th>\n",
       "      <td>5.0</td>\n",
       "    </tr>\n",
       "    <tr>\n",
       "      <th>10</th>\n",
       "      <td>10.0</td>\n",
       "    </tr>\n",
       "    <tr>\n",
       "      <th>11</th>\n",
       "      <td>9.0</td>\n",
       "    </tr>\n",
       "    <tr>\n",
       "      <th>12</th>\n",
       "      <td>7.0</td>\n",
       "    </tr>\n",
       "    <tr>\n",
       "      <th>13</th>\n",
       "      <td>9.0</td>\n",
       "    </tr>\n",
       "    <tr>\n",
       "      <th>14</th>\n",
       "      <td>9.0</td>\n",
       "    </tr>\n",
       "    <tr>\n",
       "      <th>15</th>\n",
       "      <td>7.0</td>\n",
       "    </tr>\n",
       "    <tr>\n",
       "      <th>16</th>\n",
       "      <td>8.0</td>\n",
       "    </tr>\n",
       "    <tr>\n",
       "      <th>17</th>\n",
       "      <td>9.0</td>\n",
       "    </tr>\n",
       "    <tr>\n",
       "      <th>18</th>\n",
       "      <td>7.0</td>\n",
       "    </tr>\n",
       "    <tr>\n",
       "      <th>19</th>\n",
       "      <td>14.0</td>\n",
       "    </tr>\n",
       "    <tr>\n",
       "      <th>20</th>\n",
       "      <td>4.0</td>\n",
       "    </tr>\n",
       "    <tr>\n",
       "      <th>21</th>\n",
       "      <td>15.0</td>\n",
       "    </tr>\n",
       "    <tr>\n",
       "      <th>22</th>\n",
       "      <td>7.0</td>\n",
       "    </tr>\n",
       "    <tr>\n",
       "      <th>23</th>\n",
       "      <td>6.0</td>\n",
       "    </tr>\n",
       "    <tr>\n",
       "      <th>24</th>\n",
       "      <td>16.0</td>\n",
       "    </tr>\n",
       "    <tr>\n",
       "      <th>25</th>\n",
       "      <td>8.0</td>\n",
       "    </tr>\n",
       "    <tr>\n",
       "      <th>26</th>\n",
       "      <td>7.0</td>\n",
       "    </tr>\n",
       "    <tr>\n",
       "      <th>27</th>\n",
       "      <td>16.0</td>\n",
       "    </tr>\n",
       "    <tr>\n",
       "      <th>28</th>\n",
       "      <td>8.0</td>\n",
       "    </tr>\n",
       "    <tr>\n",
       "      <th>29</th>\n",
       "      <td>6.0</td>\n",
       "    </tr>\n",
       "    <tr>\n",
       "      <th>...</th>\n",
       "      <td>...</td>\n",
       "    </tr>\n",
       "    <tr>\n",
       "      <th>7968</th>\n",
       "      <td>9.0</td>\n",
       "    </tr>\n",
       "    <tr>\n",
       "      <th>7969</th>\n",
       "      <td>13.0</td>\n",
       "    </tr>\n",
       "    <tr>\n",
       "      <th>7970</th>\n",
       "      <td>2.0</td>\n",
       "    </tr>\n",
       "    <tr>\n",
       "      <th>7971</th>\n",
       "      <td>5.0</td>\n",
       "    </tr>\n",
       "    <tr>\n",
       "      <th>7972</th>\n",
       "      <td>3.0</td>\n",
       "    </tr>\n",
       "    <tr>\n",
       "      <th>7973</th>\n",
       "      <td>2.0</td>\n",
       "    </tr>\n",
       "    <tr>\n",
       "      <th>7974</th>\n",
       "      <td>5.0</td>\n",
       "    </tr>\n",
       "    <tr>\n",
       "      <th>7975</th>\n",
       "      <td>4.0</td>\n",
       "    </tr>\n",
       "    <tr>\n",
       "      <th>7976</th>\n",
       "      <td>3.0</td>\n",
       "    </tr>\n",
       "    <tr>\n",
       "      <th>7977</th>\n",
       "      <td>1.0</td>\n",
       "    </tr>\n",
       "    <tr>\n",
       "      <th>7978</th>\n",
       "      <td>15.0</td>\n",
       "    </tr>\n",
       "    <tr>\n",
       "      <th>7979</th>\n",
       "      <td>11.0</td>\n",
       "    </tr>\n",
       "    <tr>\n",
       "      <th>7980</th>\n",
       "      <td>3.0</td>\n",
       "    </tr>\n",
       "    <tr>\n",
       "      <th>7981</th>\n",
       "      <td>1.0</td>\n",
       "    </tr>\n",
       "    <tr>\n",
       "      <th>7983</th>\n",
       "      <td>1.0</td>\n",
       "    </tr>\n",
       "    <tr>\n",
       "      <th>7984</th>\n",
       "      <td>1.0</td>\n",
       "    </tr>\n",
       "    <tr>\n",
       "      <th>7985</th>\n",
       "      <td>1.0</td>\n",
       "    </tr>\n",
       "    <tr>\n",
       "      <th>7986</th>\n",
       "      <td>2.0</td>\n",
       "    </tr>\n",
       "    <tr>\n",
       "      <th>7987</th>\n",
       "      <td>1.0</td>\n",
       "    </tr>\n",
       "    <tr>\n",
       "      <th>7988</th>\n",
       "      <td>13.0</td>\n",
       "    </tr>\n",
       "    <tr>\n",
       "      <th>7989</th>\n",
       "      <td>0.5</td>\n",
       "    </tr>\n",
       "    <tr>\n",
       "      <th>7990</th>\n",
       "      <td>5.0</td>\n",
       "    </tr>\n",
       "    <tr>\n",
       "      <th>7991</th>\n",
       "      <td>4.0</td>\n",
       "    </tr>\n",
       "    <tr>\n",
       "      <th>7992</th>\n",
       "      <td>2.0</td>\n",
       "    </tr>\n",
       "    <tr>\n",
       "      <th>7993</th>\n",
       "      <td>9.0</td>\n",
       "    </tr>\n",
       "    <tr>\n",
       "      <th>7994</th>\n",
       "      <td>10.0</td>\n",
       "    </tr>\n",
       "    <tr>\n",
       "      <th>7995</th>\n",
       "      <td>4.0</td>\n",
       "    </tr>\n",
       "    <tr>\n",
       "      <th>7996</th>\n",
       "      <td>6.0</td>\n",
       "    </tr>\n",
       "    <tr>\n",
       "      <th>7997</th>\n",
       "      <td>3.0</td>\n",
       "    </tr>\n",
       "    <tr>\n",
       "      <th>7999</th>\n",
       "      <td>4.0</td>\n",
       "    </tr>\n",
       "  </tbody>\n",
       "</table>\n",
       "<p>7909 rows × 1 columns</p>\n",
       "</div>"
      ],
      "text/plain": [
       "      Work Experience\n",
       "0                10.0\n",
       "1                 8.0\n",
       "2                 6.0\n",
       "3                 8.0\n",
       "4                 6.0\n",
       "5                 6.0\n",
       "6                24.0\n",
       "7                 5.0\n",
       "8                 7.0\n",
       "9                 5.0\n",
       "10               10.0\n",
       "11                9.0\n",
       "12                7.0\n",
       "13                9.0\n",
       "14                9.0\n",
       "15                7.0\n",
       "16                8.0\n",
       "17                9.0\n",
       "18                7.0\n",
       "19               14.0\n",
       "20                4.0\n",
       "21               15.0\n",
       "22                7.0\n",
       "23                6.0\n",
       "24               16.0\n",
       "25                8.0\n",
       "26                7.0\n",
       "27               16.0\n",
       "28                8.0\n",
       "29                6.0\n",
       "...               ...\n",
       "7968              9.0\n",
       "7969             13.0\n",
       "7970              2.0\n",
       "7971              5.0\n",
       "7972              3.0\n",
       "7973              2.0\n",
       "7974              5.0\n",
       "7975              4.0\n",
       "7976              3.0\n",
       "7977              1.0\n",
       "7978             15.0\n",
       "7979             11.0\n",
       "7980              3.0\n",
       "7981              1.0\n",
       "7983              1.0\n",
       "7984              1.0\n",
       "7985              1.0\n",
       "7986              2.0\n",
       "7987              1.0\n",
       "7988             13.0\n",
       "7989              0.5\n",
       "7990              5.0\n",
       "7991              4.0\n",
       "7992              2.0\n",
       "7993              9.0\n",
       "7994             10.0\n",
       "7995              4.0\n",
       "7996              6.0\n",
       "7997              3.0\n",
       "7999              4.0\n",
       "\n",
       "[7909 rows x 1 columns]"
      ]
     },
     "execution_count": 71,
     "metadata": {},
     "output_type": "execute_result"
    }
   ],
   "source": [
    "x = pd.DataFrame(salary_pred['Work Experience'])\n",
    "x"
   ]
  },
  {
   "cell_type": "code",
   "execution_count": 73,
   "metadata": {},
   "outputs": [
    {
     "data": {
      "text/plain": [
       "array([1000000., 1800000.,  927000., ...,  750000., 6000000., 2900000.])"
      ]
     },
     "execution_count": 73,
     "metadata": {},
     "output_type": "execute_result"
    }
   ],
   "source": [
    "y=salary_pred['Current Salary'].values\n",
    "y"
   ]
  },
  {
   "cell_type": "code",
   "execution_count": 74,
   "metadata": {},
   "outputs": [],
   "source": [
    "model=LinearRegression()"
   ]
  },
  {
   "cell_type": "code",
   "execution_count": 75,
   "metadata": {},
   "outputs": [
    {
     "data": {
      "text/plain": [
       "LinearRegression(copy_X=True, fit_intercept=True, n_jobs=None, normalize=False)"
      ]
     },
     "execution_count": 75,
     "metadata": {},
     "output_type": "execute_result"
    }
   ],
   "source": [
    "model.fit(x,y)"
   ]
  },
  {
   "cell_type": "code",
   "execution_count": 76,
   "metadata": {},
   "outputs": [
    {
     "data": {
      "text/plain": [
       "0.34976456096608366"
      ]
     },
     "execution_count": 76,
     "metadata": {},
     "output_type": "execute_result"
    }
   ],
   "source": [
    "model.score(x,y)"
   ]
  },
  {
   "cell_type": "code",
   "execution_count": 77,
   "metadata": {},
   "outputs": [
    {
     "data": {
      "text/plain": [
       "array([1834060.18296406, 1630488.14890484, 1426916.11484563, ...,\n",
       "       1426916.11484563, 1121558.06375681, 1223344.08078641])"
      ]
     },
     "execution_count": 77,
     "metadata": {},
     "output_type": "execute_result"
    }
   ],
   "source": [
    "salary=model.predict(x)\n",
    "salary"
   ]
  },
  {
   "cell_type": "code",
   "execution_count": 78,
   "metadata": {},
   "outputs": [
    {
     "data": {
      "text/plain": [
       "array([1000000., 1800000.,  927000., ...,  750000., 6000000., 2900000.])"
      ]
     },
     "execution_count": 78,
     "metadata": {},
     "output_type": "execute_result"
    }
   ],
   "source": [
    "y"
   ]
  },
  {
   "cell_type": "code",
   "execution_count": 79,
   "metadata": {},
   "outputs": [],
   "source": [
    "ensemble=salary"
   ]
  },
  {
   "cell_type": "code",
   "execution_count": 80,
   "metadata": {},
   "outputs": [],
   "source": [
    "# sub = pd.DataFrame()\n",
    "# sub['Id'] = salary_Id\n",
    "# sub['Current Salary'] = ensemble\n",
    "# sub.to_csv('submission_27.csv',index=False)"
   ]
  },
  {
   "cell_type": "code",
   "execution_count": 81,
   "metadata": {},
   "outputs": [],
   "source": [
    "# X = DfEncode.iloc[:,1:]\n",
    "# y = DfEncode.iloc[:,0]"
   ]
  },
  {
   "cell_type": "code",
   "execution_count": 82,
   "metadata": {},
   "outputs": [],
   "source": [
    "#salary_pred.head()\n",
    "#salary_pred['Email Id']"
   ]
  },
  {
   "cell_type": "code",
   "execution_count": 83,
   "metadata": {},
   "outputs": [
    {
     "data": {
      "text/plain": [
       "(7909,)"
      ]
     },
     "execution_count": 83,
     "metadata": {},
     "output_type": "execute_result"
    }
   ],
   "source": [
    "salary_Id=salary_pred['Unnamed: 0']\n",
    "salary_Id.shape"
   ]
  },
  {
   "cell_type": "code",
   "execution_count": 84,
   "metadata": {},
   "outputs": [
    {
     "data": {
      "text/plain": [
       "pandas.core.series.Series"
      ]
     },
     "execution_count": 84,
     "metadata": {},
     "output_type": "execute_result"
    }
   ],
   "source": [
    "type(salary_Id)"
   ]
  },
  {
   "cell_type": "code",
   "execution_count": 85,
   "metadata": {},
   "outputs": [],
   "source": [
    "sub = pd.DataFrame({'Id': salary_Id,'Salary Prediction':ensemble})\n",
    "sub.to_csv('submission_27.csv',index=False)"
   ]
  },
  {
   "cell_type": "code",
   "execution_count": 86,
   "metadata": {},
   "outputs": [],
   "source": [
    "# sub['Current Salary'] = ensemble\n",
    "# sub.to_csv('submission_27.csv',index=False)"
   ]
  },
  {
   "cell_type": "code",
   "execution_count": 87,
   "metadata": {},
   "outputs": [
    {
     "data": {
      "text/html": [
       "<div>\n",
       "<style scoped>\n",
       "    .dataframe tbody tr th:only-of-type {\n",
       "        vertical-align: middle;\n",
       "    }\n",
       "\n",
       "    .dataframe tbody tr th {\n",
       "        vertical-align: top;\n",
       "    }\n",
       "\n",
       "    .dataframe thead th {\n",
       "        text-align: right;\n",
       "    }\n",
       "</style>\n",
       "<table border=\"1\" class=\"dataframe\">\n",
       "  <thead>\n",
       "    <tr style=\"text-align: right;\">\n",
       "      <th></th>\n",
       "      <th>Id</th>\n",
       "      <th>Salary Prediction</th>\n",
       "    </tr>\n",
       "  </thead>\n",
       "  <tbody>\n",
       "    <tr>\n",
       "      <th>0</th>\n",
       "      <td>0</td>\n",
       "      <td>1.834060e+06</td>\n",
       "    </tr>\n",
       "    <tr>\n",
       "      <th>1</th>\n",
       "      <td>1</td>\n",
       "      <td>1.630488e+06</td>\n",
       "    </tr>\n",
       "    <tr>\n",
       "      <th>2</th>\n",
       "      <td>2</td>\n",
       "      <td>1.426916e+06</td>\n",
       "    </tr>\n",
       "    <tr>\n",
       "      <th>3</th>\n",
       "      <td>3</td>\n",
       "      <td>1.630488e+06</td>\n",
       "    </tr>\n",
       "    <tr>\n",
       "      <th>4</th>\n",
       "      <td>4</td>\n",
       "      <td>1.426916e+06</td>\n",
       "    </tr>\n",
       "  </tbody>\n",
       "</table>\n",
       "</div>"
      ],
      "text/plain": [
       "   Id  Salary Prediction\n",
       "0   0       1.834060e+06\n",
       "1   1       1.630488e+06\n",
       "2   2       1.426916e+06\n",
       "3   3       1.630488e+06\n",
       "4   4       1.426916e+06"
      ]
     },
     "execution_count": 87,
     "metadata": {},
     "output_type": "execute_result"
    }
   ],
   "source": [
    "sub.head()"
   ]
  },
  {
   "cell_type": "code",
   "execution_count": 102,
   "metadata": {},
   "outputs": [],
   "source": [
    "# 8000->\n",
    "# 6000 train -> 2000 test"
   ]
  },
  {
   "cell_type": "code",
   "execution_count": 89,
   "metadata": {},
   "outputs": [],
   "source": [
    "x_train,x_test,y_train,y_test=train_test_split(x,y,test_size=0.3,random_state=42)"
   ]
  },
  {
   "cell_type": "code",
   "execution_count": 90,
   "metadata": {},
   "outputs": [
    {
     "data": {
      "text/plain": [
       "LinearRegression(copy_X=True, fit_intercept=True, n_jobs=None, normalize=False)"
      ]
     },
     "execution_count": 90,
     "metadata": {},
     "output_type": "execute_result"
    }
   ],
   "source": [
    "model.fit(x_train,y_train)"
   ]
  },
  {
   "cell_type": "code",
   "execution_count": 91,
   "metadata": {},
   "outputs": [
    {
     "data": {
      "text/plain": [
       "0.3529004005453424"
      ]
     },
     "execution_count": 91,
     "metadata": {},
     "output_type": "execute_result"
    }
   ],
   "source": [
    "model.score(x_test,y_test)"
   ]
  },
  {
   "cell_type": "code",
   "execution_count": 92,
   "metadata": {},
   "outputs": [],
   "source": [
    "x_shuffle,y_shuffle=shuffle(x,y,random_state=42)"
   ]
  },
  {
   "cell_type": "code",
   "execution_count": 93,
   "metadata": {},
   "outputs": [
    {
     "data": {
      "text/plain": [
       "array([0.3678066 , 0.33454995, 0.36184749, 0.38023024, 0.30339536])"
      ]
     },
     "execution_count": 93,
     "metadata": {},
     "output_type": "execute_result"
    }
   ],
   "source": [
    "cross_val_score(LinearRegression(),x_shuffle,y_shuffle,cv=5,n_jobs=-1,)"
   ]
  },
  {
   "cell_type": "code",
   "execution_count": 94,
   "metadata": {},
   "outputs": [
    {
     "data": {
      "text/plain": [
       "0.34956592857889585"
      ]
     },
     "execution_count": 94,
     "metadata": {},
     "output_type": "execute_result"
    }
   ],
   "source": [
    "np.mean(cross_val_score(LinearRegression(),x_shuffle,y_shuffle,cv=5,n_jobs=-1,))"
   ]
  },
  {
   "cell_type": "code",
   "execution_count": 95,
   "metadata": {},
   "outputs": [],
   "source": [
    "scalar=StandardScaler()\n",
    "scalar.fit(x_shuffle)\n",
    "x_scaled=scalar.transform(x_shuffle)"
   ]
  },
  {
   "cell_type": "code",
   "execution_count": 96,
   "metadata": {},
   "outputs": [
    {
     "name": "stdout",
     "output_type": "stream",
     "text": [
      "[0.3678066  0.33454995 0.36184749 0.38023024 0.30339536]\n"
     ]
    },
    {
     "data": {
      "text/plain": [
       "0.34956592857889585"
      ]
     },
     "execution_count": 96,
     "metadata": {},
     "output_type": "execute_result"
    }
   ],
   "source": [
    "scores=(cross_val_score(LinearRegression(),x_scaled,y_shuffle,cv=5,n_jobs=-1))\n",
    "print(scores)\n",
    "np.mean(scores)"
   ]
  },
  {
   "cell_type": "code",
   "execution_count": 97,
   "metadata": {},
   "outputs": [
    {
     "name": "stdout",
     "output_type": "stream",
     "text": [
      "[0.3678066  0.33454995 0.36184749 0.38023024 0.30339536]\n"
     ]
    },
    {
     "data": {
      "text/plain": [
       "0.34956592858287916"
      ]
     },
     "execution_count": 97,
     "metadata": {},
     "output_type": "execute_result"
    }
   ],
   "source": [
    "scores=(cross_val_score(Lasso(alpha=0.01),x_scaled,y_shuffle,cv=5,n_jobs=-1))\n",
    "print(scores)\n",
    "np.mean(scores)"
   ]
  },
  {
   "cell_type": "code",
   "execution_count": 98,
   "metadata": {},
   "outputs": [
    {
     "name": "stdout",
     "output_type": "stream",
     "text": [
      "[0.36780833 0.33455636 0.36184218 0.38022131 0.303402  ]\n"
     ]
    },
    {
     "data": {
      "text/plain": [
       "0.34956603496310695"
      ]
     },
     "execution_count": 98,
     "metadata": {},
     "output_type": "execute_result"
    }
   ],
   "source": [
    "scores=(cross_val_score(Ridge(alpha=1),x_scaled,y_shuffle,cv=5,n_jobs=-1))\n",
    "print(scores)\n",
    "np.mean(scores)"
   ]
  },
  {
   "cell_type": "code",
   "execution_count": 99,
   "metadata": {},
   "outputs": [
    {
     "data": {
      "text/plain": [
       "RandomForestRegressor(bootstrap=True, criterion='mse', max_depth=1,\n",
       "                      max_features=1, max_leaf_nodes=None,\n",
       "                      min_impurity_decrease=0.0, min_impurity_split=None,\n",
       "                      min_samples_leaf=1, min_samples_split=2,\n",
       "                      min_weight_fraction_leaf=0.0, n_estimators=200, n_jobs=-1,\n",
       "                      oob_score=False, random_state=42, verbose=0,\n",
       "                      warm_start=False)"
      ]
     },
     "execution_count": 99,
     "metadata": {},
     "output_type": "execute_result"
    }
   ],
   "source": [
    "# %%time\n",
    "# params_rf={\n",
    "    \n",
    "#     'max_depth':[1],\n",
    "#     'min_samples_leaf': [1],\n",
    "#     'max_features': [0]\n",
    "# \n",
    "}\n",
    "\n",
    "model2 = RandomForestRegressor(n_estimators=200,random_state=42,n_jobs=-1,max_depth=1,\n",
    "                               min_samples_leaf=1,max_features=1)\n",
    "model2.fit(x_train,y_train)\n"
   ]
  },
  {
   "cell_type": "code",
   "execution_count": 100,
   "metadata": {},
   "outputs": [
    {
     "data": {
      "text/plain": [
       "0.482758228322601"
      ]
     },
     "execution_count": 100,
     "metadata": {},
     "output_type": "execute_result"
    }
   ],
   "source": [
    "model2.score(x_test,y_test)"
   ]
  },
  {
   "cell_type": "code",
   "execution_count": null,
   "metadata": {},
   "outputs": [],
   "source": []
  },
  {
   "cell_type": "code",
   "execution_count": null,
   "metadata": {},
   "outputs": [],
   "source": []
  }
 ],
 "metadata": {
  "kernelspec": {
   "display_name": "Python 3",
   "language": "python",
   "name": "python3"
  },
  "language_info": {
   "codemirror_mode": {
    "name": "ipython",
    "version": 3
   },
   "file_extension": ".py",
   "mimetype": "text/x-python",
   "name": "python",
   "nbconvert_exporter": "python",
   "pygments_lexer": "ipython3",
   "version": "3.7.3"
  }
 },
 "nbformat": 4,
 "nbformat_minor": 2
}
