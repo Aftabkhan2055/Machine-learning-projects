{
 "cells": [
  {
   "cell_type": "code",
   "execution_count": 5,
   "metadata": {},
   "outputs": [],
   "source": [
    "from sklearn import datasets\n",
    "from sklearn.neighbors import KNeighborsClassifier,KNeighborsRegressor\n",
    "from sklearn.linear_model import LinearRegression,LogisticRegression,Ridge,Lasso\n",
    "from sklearn.ensemble import RandomForestRegressor,  GradientBoostingRegressor\n",
    "from sklearn.model_selection import train_test_split,cross_val_score,GridSearchCV\n",
    "from sklearn.metrics import mean_squared_error\n",
    "from sklearn.utils import shuffle\n",
    "from sklearn.preprocessing import StandardScaler\n",
    "from scipy.stats import mode\n",
    "from sklearn.cluster import KMeans\n",
    "from sklearn.manifold import TSNE\n",
    "from sklearn.decomposition import PCA\n",
    "from sklearn.pipeline import make_pipeline\n",
    "from sklearn.svm import LinearSVC,LinearSVR,SVC,SVR\n",
    "import pandas as pd\n",
    "import matplotlib.pyplot as plt\n",
    "import numpy as np"
   ]
  },
  {
   "cell_type": "code",
   "execution_count": 6,
   "metadata": {},
   "outputs": [],
   "source": [
    "salary_pred=pd.read_csv(\"Downloads/Documents/sample_data.csv\")"
   ]
  },
  {
   "cell_type": "code",
   "execution_count": 7,
   "metadata": {},
   "outputs": [
    {
     "data": {
      "text/html": [
       "<div>\n",
       "<style scoped>\n",
       "    .dataframe tbody tr th:only-of-type {\n",
       "        vertical-align: middle;\n",
       "    }\n",
       "\n",
       "    .dataframe tbody tr th {\n",
       "        vertical-align: top;\n",
       "    }\n",
       "\n",
       "    .dataframe thead th {\n",
       "        text-align: right;\n",
       "    }\n",
       "</style>\n",
       "<table border=\"1\" class=\"dataframe\">\n",
       "  <thead>\n",
       "    <tr style=\"text-align: right;\">\n",
       "      <th></th>\n",
       "      <th>Unnamed: 0</th>\n",
       "      <th>Name</th>\n",
       "      <th>Email Id</th>\n",
       "      <th>Mobile No.</th>\n",
       "      <th>Industry</th>\n",
       "      <th>Resume Title</th>\n",
       "      <th>Key Skills</th>\n",
       "      <th>Work Experience</th>\n",
       "      <th>Current Employer</th>\n",
       "      <th>Current Salary</th>\n",
       "      <th>Current Location</th>\n",
       "      <th>Technical Specialist</th>\n",
       "      <th>Unnamed: 11</th>\n",
       "    </tr>\n",
       "  </thead>\n",
       "  <tbody>\n",
       "    <tr>\n",
       "      <th>0</th>\n",
       "      <td>0</td>\n",
       "      <td>M. vel Manikandan</td>\n",
       "      <td>vel.manikandan@gmail.com</td>\n",
       "      <td>91-7899887094</td>\n",
       "      <td>Manufacturing/Industrial,  Construction/Cement...</td>\n",
       "      <td>QA/Qc civil engineer with 10 yrs</td>\n",
       "      <td>concrete mix design.batching plant control,sit...</td>\n",
       "      <td>10</td>\n",
       "      <td>BL Kashyap &amp; sons limited</td>\n",
       "      <td>10,00,000 annually</td>\n",
       "      <td>Bengaluru/ Bangalore</td>\n",
       "      <td>Staff Process Engineer</td>\n",
       "      <td>NaN</td>\n",
       "    </tr>\n",
       "    <tr>\n",
       "      <th>1</th>\n",
       "      <td>1</td>\n",
       "      <td>GnanasekarVIVEK</td>\n",
       "      <td>vishavishal@gmail.com</td>\n",
       "      <td>91-8870579080</td>\n",
       "      <td>Software Services,  IT-Software,  Telecom</td>\n",
       "      <td>Lead software Engineer 8 years exp in c, pytho...</td>\n",
       "      <td>linux,c,c++,Data structures,telecom ,ATCA,pyth...</td>\n",
       "      <td>8</td>\n",
       "      <td>Sunedison</td>\n",
       "      <td>18,00,000 annually</td>\n",
       "      <td>Bengaluru/ Bangalore</td>\n",
       "      <td>Staff Process Engineer</td>\n",
       "      <td>NaN</td>\n",
       "    </tr>\n",
       "    <tr>\n",
       "      <th>2</th>\n",
       "      <td>2</td>\n",
       "      <td>Dilip Kumar</td>\n",
       "      <td>dilip.surendran@gmail.com</td>\n",
       "      <td>91-9986586474</td>\n",
       "      <td>Software Services,  Internet/Dot com/ISP</td>\n",
       "      <td>Senior Quality Engineer with 6.11yrs experience</td>\n",
       "      <td>Manual Testing,Senior Test Engineer,Writing Te...</td>\n",
       "      <td>6</td>\n",
       "      <td>InEight</td>\n",
       "      <td>9,27,000 annually</td>\n",
       "      <td>Bengaluru/ Bangalore</td>\n",
       "      <td>Staff Process Engineer</td>\n",
       "      <td>NaN</td>\n",
       "    </tr>\n",
       "    <tr>\n",
       "      <th>3</th>\n",
       "      <td>3</td>\n",
       "      <td>JAGDISH ROUT</td>\n",
       "      <td>jagdish.rout@yahoo.com</td>\n",
       "      <td>91-7259600554</td>\n",
       "      <td>Others</td>\n",
       "      <td>8.4 years of Data Engineering exp in exadata,d...</td>\n",
       "      <td>DATASTAGE,ORACLE,SQL,PL/SQL,UNIX,NETEZA,EXADAT...</td>\n",
       "      <td>8</td>\n",
       "      <td>Harman</td>\n",
       "      <td>10,80,000 annually</td>\n",
       "      <td>Bengaluru/ Bangalore</td>\n",
       "      <td>Staff Process Engineer</td>\n",
       "      <td>NaN</td>\n",
       "    </tr>\n",
       "    <tr>\n",
       "      <th>4</th>\n",
       "      <td>4</td>\n",
       "      <td>SANTHOSH KUMAR BHOOPATHI</td>\n",
       "      <td>santhu7159@gmail.com</td>\n",
       "      <td>91-7411442416</td>\n",
       "      <td>Software Services,  Internet/Dot com/ISP</td>\n",
       "      <td>6 yrs of exp. in S/w Quality Assurance and wor...</td>\n",
       "      <td>Selenium Webdriver ,Core Java ,sql,Soap Ui ,We...</td>\n",
       "      <td>6</td>\n",
       "      <td>Cgi Information Systems And Management Consult...</td>\n",
       "      <td>7,65,000 annually</td>\n",
       "      <td>Bengaluru/ Bangalore</td>\n",
       "      <td>Staff Process Engineer</td>\n",
       "      <td>NaN</td>\n",
       "    </tr>\n",
       "  </tbody>\n",
       "</table>\n",
       "</div>"
      ],
      "text/plain": [
       "   Unnamed: 0                      Name                   Email Id  \\\n",
       "0           0        M. vel Manikandan    vel.manikandan@gmail.com   \n",
       "1           1           GnanasekarVIVEK      vishavishal@gmail.com   \n",
       "2           2               Dilip Kumar  dilip.surendran@gmail.com   \n",
       "3           3              JAGDISH ROUT     jagdish.rout@yahoo.com   \n",
       "4           4  SANTHOSH KUMAR BHOOPATHI       santhu7159@gmail.com   \n",
       "\n",
       "       Mobile No.                                           Industry  \\\n",
       "0   91-7899887094  Manufacturing/Industrial,  Construction/Cement...   \n",
       "1   91-8870579080          Software Services,  IT-Software,  Telecom   \n",
       "2   91-9986586474           Software Services,  Internet/Dot com/ISP   \n",
       "3   91-7259600554                                             Others   \n",
       "4   91-7411442416           Software Services,  Internet/Dot com/ISP   \n",
       "\n",
       "                                        Resume Title  \\\n",
       "0                   QA/Qc civil engineer with 10 yrs   \n",
       "1  Lead software Engineer 8 years exp in c, pytho...   \n",
       "2    Senior Quality Engineer with 6.11yrs experience   \n",
       "3  8.4 years of Data Engineering exp in exadata,d...   \n",
       "4  6 yrs of exp. in S/w Quality Assurance and wor...   \n",
       "\n",
       "                                          Key Skills Work Experience  \\\n",
       "0  concrete mix design.batching plant control,sit...              10   \n",
       "1  linux,c,c++,Data structures,telecom ,ATCA,pyth...               8   \n",
       "2  Manual Testing,Senior Test Engineer,Writing Te...               6   \n",
       "3  DATASTAGE,ORACLE,SQL,PL/SQL,UNIX,NETEZA,EXADAT...               8   \n",
       "4  Selenium Webdriver ,Core Java ,sql,Soap Ui ,We...               6   \n",
       "\n",
       "                                    Current Employer      Current Salary  \\\n",
       "0                          BL Kashyap & sons limited  10,00,000 annually   \n",
       "1                                          Sunedison  18,00,000 annually   \n",
       "2                                            InEight   9,27,000 annually   \n",
       "3                                             Harman  10,80,000 annually   \n",
       "4  Cgi Information Systems And Management Consult...   7,65,000 annually   \n",
       "\n",
       "       Current Location     Technical Specialist  Unnamed: 11  \n",
       "0  Bengaluru/ Bangalore  Staff Process Engineer           NaN  \n",
       "1  Bengaluru/ Bangalore  Staff Process Engineer           NaN  \n",
       "2  Bengaluru/ Bangalore  Staff Process Engineer           NaN  \n",
       "3  Bengaluru/ Bangalore  Staff Process Engineer           NaN  \n",
       "4  Bengaluru/ Bangalore  Staff Process Engineer           NaN  "
      ]
     },
     "execution_count": 7,
     "metadata": {},
     "output_type": "execute_result"
    }
   ],
   "source": [
    "salary_pred.head()"
   ]
  },
  {
   "cell_type": "code",
   "execution_count": 8,
   "metadata": {},
   "outputs": [
    {
     "data": {
      "text/html": [
       "<div>\n",
       "<style scoped>\n",
       "    .dataframe tbody tr th:only-of-type {\n",
       "        vertical-align: middle;\n",
       "    }\n",
       "\n",
       "    .dataframe tbody tr th {\n",
       "        vertical-align: top;\n",
       "    }\n",
       "\n",
       "    .dataframe thead th {\n",
       "        text-align: right;\n",
       "    }\n",
       "</style>\n",
       "<table border=\"1\" class=\"dataframe\">\n",
       "  <thead>\n",
       "    <tr style=\"text-align: right;\">\n",
       "      <th></th>\n",
       "      <th>Unnamed: 0</th>\n",
       "      <th>Name</th>\n",
       "      <th>Email Id</th>\n",
       "      <th>Mobile No.</th>\n",
       "      <th>Industry</th>\n",
       "      <th>Resume Title</th>\n",
       "      <th>Key Skills</th>\n",
       "      <th>Work Experience</th>\n",
       "      <th>Current Employer</th>\n",
       "      <th>Current Salary</th>\n",
       "      <th>Current Location</th>\n",
       "      <th>Technical Specialist</th>\n",
       "      <th>Unnamed: 11</th>\n",
       "    </tr>\n",
       "  </thead>\n",
       "  <tbody>\n",
       "    <tr>\n",
       "      <th>7995</th>\n",
       "      <td>7995</td>\n",
       "      <td>Yashwanth</td>\n",
       "      <td>puneeth.ssmp@gmail.com</td>\n",
       "      <td>91-9964096346</td>\n",
       "      <td>Software Services,  Internet/Dot com/ISP,  IT-...</td>\n",
       "      <td>Automation/Manual Tester with 4+ years experience</td>\n",
       "      <td>Java,Selenium Webdriver,Python,MySQL,Automatio...</td>\n",
       "      <td>4</td>\n",
       "      <td>Clarivate Analytics</td>\n",
       "      <td>9,20,000 annually</td>\n",
       "      <td>Bengaluru/ Bangalore</td>\n",
       "      <td>Quality Engineer</td>\n",
       "      <td>NaN</td>\n",
       "    </tr>\n",
       "    <tr>\n",
       "      <th>7996</th>\n",
       "      <td>7996</td>\n",
       "      <td>PRADEEPA P</td>\n",
       "      <td>kaashu09@gmail.com</td>\n",
       "      <td>91-9566451977</td>\n",
       "      <td>Manufacturing/Industrial</td>\n",
       "      <td>Process enginear ,Quality enginear , Quality a...</td>\n",
       "      <td>ASSEMBLY,ASSEMBLY LINE,CONFIDENT, DOS,FIFO,FME...</td>\n",
       "      <td>6</td>\n",
       "      <td>Bosch Ltd</td>\n",
       "      <td>7,50,000 annually</td>\n",
       "      <td>Bengaluru/ Bangalore</td>\n",
       "      <td>Production engineer &amp; Quality Engineer</td>\n",
       "      <td>NaN</td>\n",
       "    </tr>\n",
       "    <tr>\n",
       "      <th>7997</th>\n",
       "      <td>7997</td>\n",
       "      <td>VIVEK S</td>\n",
       "      <td>sureshkumarinbarajan@gmail.com</td>\n",
       "      <td>91-8144993623</td>\n",
       "      <td>Manufacturing/Industrial,  Automobiles/Auto Co...</td>\n",
       "      <td>Senior Quality Engineer</td>\n",
       "      <td>man power handling,ISO 9001 ,PPAP ,Process Fme...</td>\n",
       "      <td>3</td>\n",
       "      <td>India Industries</td>\n",
       "      <td>60,00,000 annually</td>\n",
       "      <td>Chennai</td>\n",
       "      <td>Senior Quality Engineer</td>\n",
       "      <td>NaN</td>\n",
       "    </tr>\n",
       "    <tr>\n",
       "      <th>7998</th>\n",
       "      <td>7998</td>\n",
       "      <td>Alauddin khan</td>\n",
       "      <td>sarathyraman21@gmail.com</td>\n",
       "      <td>91-9092096032</td>\n",
       "      <td>Manufacturing/Industrial,  Automobiles/Auto Co...</td>\n",
       "      <td>Quantity surveyor cum estimator and quality en...</td>\n",
       "      <td>Quality control, Quantity surveying , Site Eng...</td>\n",
       "      <td>3</td>\n",
       "      <td>M S Engineering &amp; Sevices</td>\n",
       "      <td>9,60,000 annually</td>\n",
       "      <td>Gulbarga</td>\n",
       "      <td>Full Time Employed</td>\n",
       "      <td>NaN</td>\n",
       "    </tr>\n",
       "    <tr>\n",
       "      <th>7999</th>\n",
       "      <td>7999</td>\n",
       "      <td>MARINA E J</td>\n",
       "      <td>jayasoorya.kn@gmail.com</td>\n",
       "      <td>91-9600621339</td>\n",
       "      <td>Manufacturing/Industrial,  IT-Hardware/Network...</td>\n",
       "      <td>Product Quality Engineer 4yrs Exp</td>\n",
       "      <td>,Quality Analyst,Manual Testing,Sdlc,Manual &amp; ...</td>\n",
       "      <td>4</td>\n",
       "      <td>Fresher</td>\n",
       "      <td>29,00,000 annually</td>\n",
       "      <td>KERALA(Trivandrum)</td>\n",
       "      <td>Fresher</td>\n",
       "      <td>NaN</td>\n",
       "    </tr>\n",
       "  </tbody>\n",
       "</table>\n",
       "</div>"
      ],
      "text/plain": [
       "      Unnamed: 0            Name                        Email Id  \\\n",
       "7995        7995       Yashwanth          puneeth.ssmp@gmail.com   \n",
       "7996        7996     PRADEEPA P               kaashu09@gmail.com   \n",
       "7997        7997         VIVEK S  sureshkumarinbarajan@gmail.com   \n",
       "7998        7998  Alauddin khan         sarathyraman21@gmail.com   \n",
       "7999        7999      MARINA E J         jayasoorya.kn@gmail.com   \n",
       "\n",
       "          Mobile No.                                           Industry  \\\n",
       "7995   91-9964096346  Software Services,  Internet/Dot com/ISP,  IT-...   \n",
       "7996   91-9566451977                           Manufacturing/Industrial   \n",
       "7997   91-8144993623  Manufacturing/Industrial,  Automobiles/Auto Co...   \n",
       "7998   91-9092096032  Manufacturing/Industrial,  Automobiles/Auto Co...   \n",
       "7999   91-9600621339  Manufacturing/Industrial,  IT-Hardware/Network...   \n",
       "\n",
       "                                           Resume Title  \\\n",
       "7995  Automation/Manual Tester with 4+ years experience   \n",
       "7996  Process enginear ,Quality enginear , Quality a...   \n",
       "7997                            Senior Quality Engineer   \n",
       "7998  Quantity surveyor cum estimator and quality en...   \n",
       "7999                  Product Quality Engineer 4yrs Exp   \n",
       "\n",
       "                                             Key Skills Work Experience  \\\n",
       "7995  Java,Selenium Webdriver,Python,MySQL,Automatio...               4   \n",
       "7996  ASSEMBLY,ASSEMBLY LINE,CONFIDENT, DOS,FIFO,FME...               6   \n",
       "7997  man power handling,ISO 9001 ,PPAP ,Process Fme...               3   \n",
       "7998  Quality control, Quantity surveying , Site Eng...               3   \n",
       "7999  ,Quality Analyst,Manual Testing,Sdlc,Manual & ...               4   \n",
       "\n",
       "               Current Employer      Current Salary      Current Location  \\\n",
       "7995        Clarivate Analytics   9,20,000 annually  Bengaluru/ Bangalore   \n",
       "7996                  Bosch Ltd   7,50,000 annually  Bengaluru/ Bangalore   \n",
       "7997           India Industries  60,00,000 annually               Chennai   \n",
       "7998  M S Engineering & Sevices   9,60,000 annually              Gulbarga   \n",
       "7999                    Fresher  29,00,000 annually    KERALA(Trivandrum)   \n",
       "\n",
       "                        Technical Specialist  Unnamed: 11  \n",
       "7995                        Quality Engineer          NaN  \n",
       "7996  Production engineer & Quality Engineer          NaN  \n",
       "7997                 Senior Quality Engineer          NaN  \n",
       "7998                      Full Time Employed          NaN  \n",
       "7999                                 Fresher          NaN  "
      ]
     },
     "execution_count": 8,
     "metadata": {},
     "output_type": "execute_result"
    }
   ],
   "source": [
    "salary_pred.tail()"
   ]
  },
  {
   "cell_type": "code",
   "execution_count": 9,
   "metadata": {},
   "outputs": [
    {
     "data": {
      "text/plain": [
       "(8000, 13)"
      ]
     },
     "execution_count": 9,
     "metadata": {},
     "output_type": "execute_result"
    }
   ],
   "source": [
    "salary_pred.shape"
   ]
  },
  {
   "cell_type": "code",
   "execution_count": 10,
   "metadata": {},
   "outputs": [
    {
     "name": "stdout",
     "output_type": "stream",
     "text": [
      "<class 'pandas.core.frame.DataFrame'>\n",
      "RangeIndex: 8000 entries, 0 to 7999\n",
      "Data columns (total 13 columns):\n",
      "Unnamed: 0              8000 non-null int64\n",
      "Name                    7997 non-null object\n",
      "Email Id                7999 non-null object\n",
      "Mobile No.              7999 non-null object\n",
      "Industry                8000 non-null object\n",
      "Resume Title            7992 non-null object\n",
      "Key Skills              7999 non-null object\n",
      "Work Experience         8000 non-null object\n",
      "Current Employer        7853 non-null object\n",
      "Current Salary          8000 non-null object\n",
      "Current Location        7994 non-null object\n",
      "Technical Specialist    8000 non-null object\n",
      "Unnamed: 11             0 non-null float64\n",
      "dtypes: float64(1), int64(1), object(11)\n",
      "memory usage: 812.6+ KB\n"
     ]
    }
   ],
   "source": [
    "salary_pred.info()"
   ]
  },
  {
   "cell_type": "code",
   "execution_count": 11,
   "metadata": {},
   "outputs": [],
   "source": [
    "#fill=salary_pred['Name'].fillna(mode(salary_pred['Name']).mode[0],inplace=True)"
   ]
  },
  {
   "cell_type": "code",
   "execution_count": 12,
   "metadata": {
    "scrolled": true
   },
   "outputs": [
    {
     "data": {
      "text/plain": [
       "0             M. vel Manikandan \n",
       "1                GnanasekarVIVEK\n",
       "2                    Dilip Kumar\n",
       "3                   JAGDISH ROUT\n",
       "4       SANTHOSH KUMAR BHOOPATHI\n",
       "5                     Mann-Thapa\n",
       "6                    JACOBTHOMAS\n",
       "7                 Jagannath Bhat\n",
       "8                     SIVARAMAN \n",
       "9         Devendra Kumar Namdeo \n",
       "10               PremkumarPillai\n",
       "11                SAMEERSENAPATI\n",
       "12               Kalpesh Malviya\n",
       "13             RAGHU           Y\n",
       "14                Abhijeet Singh\n",
       "15               Riju Eyyappally\n",
       "16               Deepthi Chundru\n",
       "17                   Bhaskar T.R\n",
       "18                  K.M. BHAVANI\n",
       "19                     Sowmya HR\n",
       "20               uthika gajghate\n",
       "21              Lingaraja barera\n",
       "22                Netra Jagadish\n",
       "23                  Manikandan B\n",
       "24                   Syed Faheem\n",
       "25                    AVINASH BK\n",
       "26                  Roshan Kumar\n",
       "27                   Marimuthu L\n",
       "28                     Yuvaraja \n",
       "29               Amreeta Cherian\n",
       "                  ...           \n",
       "7970                   Manu K R \n",
       "7971                 N MADHUKAR \n",
       "7972                       Ajay \n",
       "7973     sivasaiteja seethiraju \n",
       "7974                   venkatram\n",
       "7975            Felix Nirmal dev\n",
       "7976                M Raj Kumar \n",
       "7977              GANESH BARAKER\n",
       "7978            ameen-ameensaheb\n",
       "7979                       K-raj\n",
       "7980                Prakash Raja\n",
       "7981               I.V.NISHANTH \n",
       "7982          Shivanand Yadagude\n",
       "7983             Vinoth kumar T \n",
       "7984                virat visha \n",
       "7985         Ramakrishna Eggati \n",
       "7986                Veera  Kumar\n",
       "7987            suhail salman h \n",
       "7988                   SMITHA R \n",
       "7989                  Arunkumar \n",
       "7990                   YUVARAJ.G\n",
       "7991               THANGAPANDI P\n",
       "7992              ANISH PRAKASH \n",
       "7993         KARTHIK KUMAR K.M. \n",
       "7994                  anjinappav\n",
       "7995                   Yashwanth\n",
       "7996                 PRADEEPA P \n",
       "7997                     VIVEK S\n",
       "7998              Alauddin khan \n",
       "7999                  MARINA E J\n",
       "Name: Name, Length: 8000, dtype: object"
      ]
     },
     "execution_count": 12,
     "metadata": {},
     "output_type": "execute_result"
    }
   ],
   "source": [
    "salary_pred['Name']"
   ]
  },
  {
   "cell_type": "code",
   "execution_count": 13,
   "metadata": {},
   "outputs": [
    {
     "data": {
      "text/html": [
       "<div>\n",
       "<style scoped>\n",
       "    .dataframe tbody tr th:only-of-type {\n",
       "        vertical-align: middle;\n",
       "    }\n",
       "\n",
       "    .dataframe tbody tr th {\n",
       "        vertical-align: top;\n",
       "    }\n",
       "\n",
       "    .dataframe thead th {\n",
       "        text-align: right;\n",
       "    }\n",
       "</style>\n",
       "<table border=\"1\" class=\"dataframe\">\n",
       "  <thead>\n",
       "    <tr style=\"text-align: right;\">\n",
       "      <th></th>\n",
       "      <th>Unnamed: 0</th>\n",
       "      <th>Unnamed: 11</th>\n",
       "    </tr>\n",
       "  </thead>\n",
       "  <tbody>\n",
       "    <tr>\n",
       "      <th>count</th>\n",
       "      <td>8000.00000</td>\n",
       "      <td>0.0</td>\n",
       "    </tr>\n",
       "    <tr>\n",
       "      <th>mean</th>\n",
       "      <td>3999.50000</td>\n",
       "      <td>NaN</td>\n",
       "    </tr>\n",
       "    <tr>\n",
       "      <th>std</th>\n",
       "      <td>2309.54541</td>\n",
       "      <td>NaN</td>\n",
       "    </tr>\n",
       "    <tr>\n",
       "      <th>min</th>\n",
       "      <td>0.00000</td>\n",
       "      <td>NaN</td>\n",
       "    </tr>\n",
       "    <tr>\n",
       "      <th>25%</th>\n",
       "      <td>1999.75000</td>\n",
       "      <td>NaN</td>\n",
       "    </tr>\n",
       "    <tr>\n",
       "      <th>50%</th>\n",
       "      <td>3999.50000</td>\n",
       "      <td>NaN</td>\n",
       "    </tr>\n",
       "    <tr>\n",
       "      <th>75%</th>\n",
       "      <td>5999.25000</td>\n",
       "      <td>NaN</td>\n",
       "    </tr>\n",
       "    <tr>\n",
       "      <th>max</th>\n",
       "      <td>7999.00000</td>\n",
       "      <td>NaN</td>\n",
       "    </tr>\n",
       "  </tbody>\n",
       "</table>\n",
       "</div>"
      ],
      "text/plain": [
       "       Unnamed: 0  Unnamed: 11\n",
       "count  8000.00000          0.0\n",
       "mean   3999.50000          NaN\n",
       "std    2309.54541          NaN\n",
       "min       0.00000          NaN\n",
       "25%    1999.75000          NaN\n",
       "50%    3999.50000          NaN\n",
       "75%    5999.25000          NaN\n",
       "max    7999.00000          NaN"
      ]
     },
     "execution_count": 13,
     "metadata": {},
     "output_type": "execute_result"
    }
   ],
   "source": [
    "salary_pred.describe()"
   ]
  },
  {
   "cell_type": "code",
   "execution_count": 14,
   "metadata": {},
   "outputs": [],
   "source": [
    "colToRemove = ['Name','Mobile No.','Resume Title','Key Skills','Current Employer','Unnamed: 11']"
   ]
  },
  {
   "cell_type": "code",
   "execution_count": 15,
   "metadata": {},
   "outputs": [],
   "source": [
    "salary_pred.drop(colToRemove, axis=1, inplace=True)"
   ]
  },
  {
   "cell_type": "code",
   "execution_count": 16,
   "metadata": {},
   "outputs": [
    {
     "data": {
      "text/html": [
       "<div>\n",
       "<style scoped>\n",
       "    .dataframe tbody tr th:only-of-type {\n",
       "        vertical-align: middle;\n",
       "    }\n",
       "\n",
       "    .dataframe tbody tr th {\n",
       "        vertical-align: top;\n",
       "    }\n",
       "\n",
       "    .dataframe thead th {\n",
       "        text-align: right;\n",
       "    }\n",
       "</style>\n",
       "<table border=\"1\" class=\"dataframe\">\n",
       "  <thead>\n",
       "    <tr style=\"text-align: right;\">\n",
       "      <th></th>\n",
       "      <th>Unnamed: 0</th>\n",
       "      <th>Email Id</th>\n",
       "      <th>Industry</th>\n",
       "      <th>Work Experience</th>\n",
       "      <th>Current Salary</th>\n",
       "      <th>Current Location</th>\n",
       "      <th>Technical Specialist</th>\n",
       "    </tr>\n",
       "  </thead>\n",
       "  <tbody>\n",
       "    <tr>\n",
       "      <th>0</th>\n",
       "      <td>0</td>\n",
       "      <td>vel.manikandan@gmail.com</td>\n",
       "      <td>Manufacturing/Industrial,  Construction/Cement...</td>\n",
       "      <td>10</td>\n",
       "      <td>10,00,000 annually</td>\n",
       "      <td>Bengaluru/ Bangalore</td>\n",
       "      <td>Staff Process Engineer</td>\n",
       "    </tr>\n",
       "    <tr>\n",
       "      <th>1</th>\n",
       "      <td>1</td>\n",
       "      <td>vishavishal@gmail.com</td>\n",
       "      <td>Software Services,  IT-Software,  Telecom</td>\n",
       "      <td>8</td>\n",
       "      <td>18,00,000 annually</td>\n",
       "      <td>Bengaluru/ Bangalore</td>\n",
       "      <td>Staff Process Engineer</td>\n",
       "    </tr>\n",
       "    <tr>\n",
       "      <th>2</th>\n",
       "      <td>2</td>\n",
       "      <td>dilip.surendran@gmail.com</td>\n",
       "      <td>Software Services,  Internet/Dot com/ISP</td>\n",
       "      <td>6</td>\n",
       "      <td>9,27,000 annually</td>\n",
       "      <td>Bengaluru/ Bangalore</td>\n",
       "      <td>Staff Process Engineer</td>\n",
       "    </tr>\n",
       "    <tr>\n",
       "      <th>3</th>\n",
       "      <td>3</td>\n",
       "      <td>jagdish.rout@yahoo.com</td>\n",
       "      <td>Others</td>\n",
       "      <td>8</td>\n",
       "      <td>10,80,000 annually</td>\n",
       "      <td>Bengaluru/ Bangalore</td>\n",
       "      <td>Staff Process Engineer</td>\n",
       "    </tr>\n",
       "    <tr>\n",
       "      <th>4</th>\n",
       "      <td>4</td>\n",
       "      <td>santhu7159@gmail.com</td>\n",
       "      <td>Software Services,  Internet/Dot com/ISP</td>\n",
       "      <td>6</td>\n",
       "      <td>7,65,000 annually</td>\n",
       "      <td>Bengaluru/ Bangalore</td>\n",
       "      <td>Staff Process Engineer</td>\n",
       "    </tr>\n",
       "  </tbody>\n",
       "</table>\n",
       "</div>"
      ],
      "text/plain": [
       "   Unnamed: 0                   Email Id  \\\n",
       "0           0   vel.manikandan@gmail.com   \n",
       "1           1      vishavishal@gmail.com   \n",
       "2           2  dilip.surendran@gmail.com   \n",
       "3           3     jagdish.rout@yahoo.com   \n",
       "4           4       santhu7159@gmail.com   \n",
       "\n",
       "                                            Industry Work Experience  \\\n",
       "0  Manufacturing/Industrial,  Construction/Cement...              10   \n",
       "1          Software Services,  IT-Software,  Telecom               8   \n",
       "2           Software Services,  Internet/Dot com/ISP               6   \n",
       "3                                             Others               8   \n",
       "4           Software Services,  Internet/Dot com/ISP               6   \n",
       "\n",
       "       Current Salary      Current Location     Technical Specialist  \n",
       "0  10,00,000 annually  Bengaluru/ Bangalore  Staff Process Engineer   \n",
       "1  18,00,000 annually  Bengaluru/ Bangalore  Staff Process Engineer   \n",
       "2   9,27,000 annually  Bengaluru/ Bangalore  Staff Process Engineer   \n",
       "3  10,80,000 annually  Bengaluru/ Bangalore  Staff Process Engineer   \n",
       "4   7,65,000 annually  Bengaluru/ Bangalore  Staff Process Engineer   "
      ]
     },
     "execution_count": 16,
     "metadata": {},
     "output_type": "execute_result"
    }
   ],
   "source": [
    "salary_pred.head()"
   ]
  },
  {
   "cell_type": "code",
   "execution_count": 17,
   "metadata": {},
   "outputs": [
    {
     "data": {
      "text/plain": [
       "str"
      ]
     },
     "execution_count": 17,
     "metadata": {},
     "output_type": "execute_result"
    }
   ],
   "source": [
    "type(salary_pred['Industry'][0])"
   ]
  },
  {
   "cell_type": "code",
   "execution_count": 18,
   "metadata": {},
   "outputs": [
    {
     "name": "stderr",
     "output_type": "stream",
     "text": [
      "C:\\Users\\User\\Anaconda3\\lib\\site-packages\\ipykernel_launcher.py:3: SettingWithCopyWarning: \n",
      "A value is trying to be set on a copy of a slice from a DataFrame\n",
      "\n",
      "See the caveats in the documentation: http://pandas.pydata.org/pandas-docs/stable/indexing.html#indexing-view-versus-copy\n",
      "  This is separate from the ipykernel package so we can avoid doing imports until\n"
     ]
    }
   ],
   "source": [
    "industryList = []\n",
    "for i in range(salary_pred['Industry'].shape[0]):\n",
    "    salary_pred['Industry'][i] = (str(salary_pred['Industry'][i])).split(',')"
   ]
  },
  {
   "cell_type": "code",
   "execution_count": 19,
   "metadata": {},
   "outputs": [
    {
     "data": {
      "text/html": [
       "<div>\n",
       "<style scoped>\n",
       "    .dataframe tbody tr th:only-of-type {\n",
       "        vertical-align: middle;\n",
       "    }\n",
       "\n",
       "    .dataframe tbody tr th {\n",
       "        vertical-align: top;\n",
       "    }\n",
       "\n",
       "    .dataframe thead th {\n",
       "        text-align: right;\n",
       "    }\n",
       "</style>\n",
       "<table border=\"1\" class=\"dataframe\">\n",
       "  <thead>\n",
       "    <tr style=\"text-align: right;\">\n",
       "      <th></th>\n",
       "      <th>Unnamed: 0</th>\n",
       "      <th>Email Id</th>\n",
       "      <th>Industry</th>\n",
       "      <th>Work Experience</th>\n",
       "      <th>Current Salary</th>\n",
       "      <th>Current Location</th>\n",
       "      <th>Technical Specialist</th>\n",
       "    </tr>\n",
       "  </thead>\n",
       "  <tbody>\n",
       "    <tr>\n",
       "      <th>0</th>\n",
       "      <td>0</td>\n",
       "      <td>vel.manikandan@gmail.com</td>\n",
       "      <td>[Manufacturing/Industrial,   Construction/Ceme...</td>\n",
       "      <td>10</td>\n",
       "      <td>10,00,000 annually</td>\n",
       "      <td>Bengaluru/ Bangalore</td>\n",
       "      <td>Staff Process Engineer</td>\n",
       "    </tr>\n",
       "    <tr>\n",
       "      <th>1</th>\n",
       "      <td>1</td>\n",
       "      <td>vishavishal@gmail.com</td>\n",
       "      <td>[Software Services,   IT-Software,   Telecom]</td>\n",
       "      <td>8</td>\n",
       "      <td>18,00,000 annually</td>\n",
       "      <td>Bengaluru/ Bangalore</td>\n",
       "      <td>Staff Process Engineer</td>\n",
       "    </tr>\n",
       "    <tr>\n",
       "      <th>2</th>\n",
       "      <td>2</td>\n",
       "      <td>dilip.surendran@gmail.com</td>\n",
       "      <td>[Software Services,   Internet/Dot com/ISP]</td>\n",
       "      <td>6</td>\n",
       "      <td>9,27,000 annually</td>\n",
       "      <td>Bengaluru/ Bangalore</td>\n",
       "      <td>Staff Process Engineer</td>\n",
       "    </tr>\n",
       "    <tr>\n",
       "      <th>3</th>\n",
       "      <td>3</td>\n",
       "      <td>jagdish.rout@yahoo.com</td>\n",
       "      <td>[Others]</td>\n",
       "      <td>8</td>\n",
       "      <td>10,80,000 annually</td>\n",
       "      <td>Bengaluru/ Bangalore</td>\n",
       "      <td>Staff Process Engineer</td>\n",
       "    </tr>\n",
       "    <tr>\n",
       "      <th>4</th>\n",
       "      <td>4</td>\n",
       "      <td>santhu7159@gmail.com</td>\n",
       "      <td>[Software Services,   Internet/Dot com/ISP]</td>\n",
       "      <td>6</td>\n",
       "      <td>7,65,000 annually</td>\n",
       "      <td>Bengaluru/ Bangalore</td>\n",
       "      <td>Staff Process Engineer</td>\n",
       "    </tr>\n",
       "  </tbody>\n",
       "</table>\n",
       "</div>"
      ],
      "text/plain": [
       "   Unnamed: 0                   Email Id  \\\n",
       "0           0   vel.manikandan@gmail.com   \n",
       "1           1      vishavishal@gmail.com   \n",
       "2           2  dilip.surendran@gmail.com   \n",
       "3           3     jagdish.rout@yahoo.com   \n",
       "4           4       santhu7159@gmail.com   \n",
       "\n",
       "                                            Industry Work Experience  \\\n",
       "0  [Manufacturing/Industrial,   Construction/Ceme...              10   \n",
       "1      [Software Services,   IT-Software,   Telecom]               8   \n",
       "2        [Software Services,   Internet/Dot com/ISP]               6   \n",
       "3                                           [Others]               8   \n",
       "4        [Software Services,   Internet/Dot com/ISP]               6   \n",
       "\n",
       "       Current Salary      Current Location     Technical Specialist  \n",
       "0  10,00,000 annually  Bengaluru/ Bangalore  Staff Process Engineer   \n",
       "1  18,00,000 annually  Bengaluru/ Bangalore  Staff Process Engineer   \n",
       "2   9,27,000 annually  Bengaluru/ Bangalore  Staff Process Engineer   \n",
       "3  10,80,000 annually  Bengaluru/ Bangalore  Staff Process Engineer   \n",
       "4   7,65,000 annually  Bengaluru/ Bangalore  Staff Process Engineer   "
      ]
     },
     "execution_count": 19,
     "metadata": {},
     "output_type": "execute_result"
    }
   ],
   "source": [
    "salary_pred.head()"
   ]
  },
  {
   "cell_type": "code",
   "execution_count": 20,
   "metadata": {},
   "outputs": [
    {
     "data": {
      "text/plain": [
       "[Software Services,   Internet/Dot com/ISP,   IT-Software]                                                                                                                                                                                                                                                                                                                           817\n",
       "[Software Services,   Internet/Dot com/ISP]                                                                                                                                                                                                                                                                                                                                          702\n",
       "[Software Services,   IT-Software]                                                                                                                                                                                                                                                                                                                                                   369\n",
       "[Manufacturing/Industrial,   Automobiles/Auto Component/Auto Ancillary]                                                                                                                                                                                                                                                                                                              351\n",
       "[Others]                                                                                                                                                                                                                                                                                                                                                                             333\n",
       "[Manufacturing/Industrial]                                                                                                                                                                                                                                                                                                                                                           237\n",
       "[CRM/CallCentres/BPO/ITES/Med.Trans]                                                                                                                                                                                                                                                                                                                                                 206\n",
       "[Manufacturing/Industrial,   Consumer Durables/FMCG,   Automobiles/Auto Component/Auto Ancillary]                                                                                                                                                                                                                                                                                    206\n",
       "[Manufacturing/Industrial,   Marine/Aviation/Military/Mining/Shipping,   Automobiles/Auto Component/Auto Ancillary]                                                                                                                                                                                                                                                                  164\n",
       "[Projects/Infrastructure/Power/Energy,   Petroleum/Oil and Gas/Power]                                                                                                                                                                                                                                                                                                                164\n",
       "[Manufacturing/Industrial,   Construction/Cement/Metal/Steel/Iron]                                                                                                                                                                                                                                                                                                                   151\n",
       "[Software Services,   Internet/Dot com/ISP,   IT-Hardware/Networking,   Telecom]                                                                                                                                                                                                                                                                                                     150\n",
       "[Petroleum/Oil and Gas/Power]                                                                                                                                                                                                                                                                                                                                                        149\n",
       "[Manufacturing/Industrial,   Projects/Infrastructure/Power/Energy,   Petroleum/Oil and Gas/Power]                                                                                                                                                                                                                                                                                    148\n",
       "[Software Services]                                                                                                                                                                                                                                                                                                                                                                  134\n",
       "[Internet/Dot com/ISP,   IT-Hardware/Networking,   Telecom]                                                                                                                                                                                                                                                                                                                          116\n",
       "[Financial Services/Stockbroking,   CRM/CallCentres/BPO/ITES/Med.Trans]                                                                                                                                                                                                                                                                                                              109\n",
       "[Financial Services/Stockbroking,   Banking]                                                                                                                                                                                                                                                                                                                                         105\n",
       "[Apparel/Garments,   Manufacturing/Industrial,   Petrochemicals,   Petroleum/Oil and Gas/Power]                                                                                                                                                                                                                                                                                       99\n",
       "[Consulting Services]                                                                                                                                                                                                                                                                                                                                                                 91\n",
       "[Software Services,   Telecom]                                                                                                                                                                                                                                                                                                                                                        76\n",
       "[Manufacturing/Industrial,   Biotechnology/Pharmaceutical/Medicine]                                                                                                                                                                                                                                                                                                                   76\n",
       "[Manufacturing/Industrial,   IT-Hardware/Networking,   Telecom]                                                                                                                                                                                                                                                                                                                       72\n",
       "[Software Services,   IT-Software,   Telecom]                                                                                                                                                                                                                                                                                                                                         71\n",
       "[Manufacturing/Industrial,   Consumer Durables/FMCG]                                                                                                                                                                                                                                                                                                                                  70\n",
       "[Software Services,   Internet/Dot com/ISP,   Telecom]                                                                                                                                                                                                                                                                                                                                58\n",
       "[IT-Software]                                                                                                                                                                                                                                                                                                                                                                         57\n",
       "[Financial Services/Stockbroking]                                                                                                                                                                                                                                                                                                                                                     56\n",
       "[Banking]                                                                                                                                                                                                                                                                                                                                                                             55\n",
       "[Engineering/Projects,   Consulting Services]                                                                                                                                                                                                                                                                                                                                         53\n",
       "                                                                                                                                                                                                                                                                                                                                                                                    ... \n",
       "[Entertainment/Media,   Software Services,   IT-Software]                                                                                                                                                                                                                                                                                                                              1\n",
       "[Manufacturing/Industrial,   Educational/Training,   Automobiles/Auto Component/Auto Ancillary]                                                                                                                                                                                                                                                                                        1\n",
       "[Manufacturing/Industrial,   Hotel/Travel/Tourism/Airlines/Hospitality,   IT-Hardware/Networking]                                                                                                                                                                                                                                                                                      1\n",
       "[Manufacturing/Industrial,   CRM/CallCentres/BPO/ITES/Med.Trans,   Petroleum/Oil and Gas/Power]                                                                                                                                                                                                                                                                                        1\n",
       "[Manufacturing/Industrial,   Construction/Cement/Metal/Steel/Iron,   Internet/Dot com/ISP,   IT-Hardware/Networking,   Telecom]                                                                                                                                                                                                                                                        1\n",
       "[Research/Surveyor/MR,   Educational/Training,   Advertising/PR/Event Management]                                                                                                                                                                                                                                                                                                      1\n",
       "[Manufacturing/Industrial,   CRM/CallCentres/BPO/ITES/Med.Trans,   Biotechnology/Pharmaceutical/Medicine]                                                                                                                                                                                                                                                                              1\n",
       "[Entertainment/Media,   Consumer Durables/FMCG,   Retailing,   Advertising/PR/Event Management]                                                                                                                                                                                                                                                                                        1\n",
       "[Entertainment/Media,   Software Services,   IT-Hardware/Networking,   IT-Software,   Advertising/PR/Event Management]                                                                                                                                                                                                                                                                 1\n",
       "[Educational/Training,   Architecture/Interior Design]                                                                                                                                                                                                                                                                                                                                 1\n",
       "[Others,   Projects/Infrastructure/Power/Energy]                                                                                                                                                                                                                                                                                                                                       1\n",
       "[Accounting-Tax/Consulting,   IT-Hardware/Networking,   Manufacturing/Industrial]                                                                                                                                                                                                                                                                                                      1\n",
       "[Engineering/Projects,   Manufacturing/Industrial,   Construction/Cement/Metal/Steel/Iron,   Consumer Durables/FMCG,   Automobiles/Auto Component/Auto Ancillary]                                                                                                                                                                                                                      1\n",
       "[Manufacturing/Industrial,   Consumer Durables/FMCG,   Petrochemicals]                                                                                                                                                                                                                                                                                                                 1\n",
       "[Research/Surveyor/MR,   Software Services,   Recruitment/Placement Agencies,   CRM/CallCentres/BPO/ITES/Med.Trans,   Financial Services/Stockbroking,   Healthcare,   Biotechnology/Pharmaceutical/Medicine,   Printing/Packaging,   IT-Hardware/Networking,   IT-Software,   Law/Legal Firms,   Advertising/PR/Event Management,   Engineering/Projects,   Consulting Services]      1\n",
       "[Manufacturing/Industrial,   Consumer Durables/FMCG,   Automobiles/Auto Component/Auto Ancillary,   Warehousing]                                                                                                                                                                                                                                                                       1\n",
       "[Manufacturing/Industrial,   Petrochemicals,   Petroleum/Oil and Gas/Power,   Banking]                                                                                                                                                                                                                                                                                                 1\n",
       "[Entertainment/Media,   Others,   Advertising/PR/Event Management]                                                                                                                                                                                                                                                                                                                     1\n",
       "[Manufacturing/Industrial,   Telecom,   Consulting Services]                                                                                                                                                                                                                                                                                                                           1\n",
       "[Petrochemicals,   Apparel/Garments,   Manufacturing/Industrial]                                                                                                                                                                                                                                                                                                                       1\n",
       "[Biotechnology/Pharmaceutical/Medicine,   Engineering/Projects,   Manufacturing/Industrial]                                                                                                                                                                                                                                                                                            1\n",
       "[Manufacturing/Industrial,   Financial Services/Stockbroking,   Automobiles/Auto Component/Auto Ancillary]                                                                                                                                                                                                                                                                             1\n",
       "[Manufacturing/Industrial,   Software Services,   Construction/Cement/Metal/Steel/Iron,   Internet/Dot com/ISP]                                                                                                                                                                                                                                                                        1\n",
       "[Engineering/Projects,   Consulting Services,   Defence,   Security/Law Enforcement]                                                                                                                                                                                                                                                                                                   1\n",
       "[Projects/Infrastructure/Power/Energy,   Petroleum/Oil and Gas/Power,   Engineering/Projects]                                                                                                                                                                                                                                                                                          1\n",
       "[Engineering/Projects,   Manufacturing/Industrial,   Construction/Cement/Metal/Steel/Iron,   Projects/Infrastructure/Power/Energy,   Petroleum/Oil and Gas/Power]                                                                                                                                                                                                                      1\n",
       "[Software Services,   Printing/Packaging,   Internet/Dot com/ISP]                                                                                                                                                                                                                                                                                                                      1\n",
       "[Manufacturing/Industrial,   Internet/Dot com/ISP]                                                                                                                                                                                                                                                                                                                                     1\n",
       "[Entertainment/Media,   Printing/Packaging]                                                                                                                                                                                                                                                                                                                                            1\n",
       "[Manufacturing/Industrial,   Marine/Aviation/Military/Mining/Shipping,   Projects/Infrastructure/Power/Energy,   Automobiles/Auto Component/Auto Ancillary,   Petroleum/Oil and Gas/Power]                                                                                                                                                                                             1\n",
       "Name: Industry, Length: 665, dtype: int64"
      ]
     },
     "execution_count": 20,
     "metadata": {},
     "output_type": "execute_result"
    }
   ],
   "source": [
    "salary_pred['Industry'].value_counts()"
   ]
  },
  {
   "cell_type": "code",
   "execution_count": 21,
   "metadata": {},
   "outputs": [
    {
     "data": {
      "text/plain": [
       "(8000, 7)"
      ]
     },
     "execution_count": 21,
     "metadata": {},
     "output_type": "execute_result"
    }
   ],
   "source": [
    "salary_pred.shape"
   ]
  },
  {
   "cell_type": "code",
   "execution_count": 22,
   "metadata": {},
   "outputs": [
    {
     "name": "stderr",
     "output_type": "stream",
     "text": [
      "C:\\Users\\User\\Anaconda3\\lib\\site-packages\\ipykernel_launcher.py:3: SettingWithCopyWarning: \n",
      "A value is trying to be set on a copy of a slice from a DataFrame\n",
      "\n",
      "See the caveats in the documentation: http://pandas.pydata.org/pandas-docs/stable/indexing.html#indexing-view-versus-copy\n",
      "  This is separate from the ipykernel package so we can avoid doing imports until\n"
     ]
    }
   ],
   "source": [
    "industryList = []\n",
    "for i in range(salary_pred['Industry'].shape[0]):\n",
    "    salary_pred['Industry'][i] = (str(salary_pred['Industry'][i])).split('/')[0]"
   ]
  },
  {
   "cell_type": "code",
   "execution_count": 23,
   "metadata": {},
   "outputs": [
    {
     "data": {
      "text/html": [
       "<div>\n",
       "<style scoped>\n",
       "    .dataframe tbody tr th:only-of-type {\n",
       "        vertical-align: middle;\n",
       "    }\n",
       "\n",
       "    .dataframe tbody tr th {\n",
       "        vertical-align: top;\n",
       "    }\n",
       "\n",
       "    .dataframe thead th {\n",
       "        text-align: right;\n",
       "    }\n",
       "</style>\n",
       "<table border=\"1\" class=\"dataframe\">\n",
       "  <thead>\n",
       "    <tr style=\"text-align: right;\">\n",
       "      <th></th>\n",
       "      <th>Unnamed: 0</th>\n",
       "      <th>Email Id</th>\n",
       "      <th>Industry</th>\n",
       "      <th>Work Experience</th>\n",
       "      <th>Current Salary</th>\n",
       "      <th>Current Location</th>\n",
       "      <th>Technical Specialist</th>\n",
       "    </tr>\n",
       "  </thead>\n",
       "  <tbody>\n",
       "    <tr>\n",
       "      <th>0</th>\n",
       "      <td>0</td>\n",
       "      <td>vel.manikandan@gmail.com</td>\n",
       "      <td>['Manufacturing</td>\n",
       "      <td>10</td>\n",
       "      <td>10,00,000 annually</td>\n",
       "      <td>Bengaluru/ Bangalore</td>\n",
       "      <td>Staff Process Engineer</td>\n",
       "    </tr>\n",
       "    <tr>\n",
       "      <th>1</th>\n",
       "      <td>1</td>\n",
       "      <td>vishavishal@gmail.com</td>\n",
       "      <td>['Software Services', '  IT-Software', '  Tele...</td>\n",
       "      <td>8</td>\n",
       "      <td>18,00,000 annually</td>\n",
       "      <td>Bengaluru/ Bangalore</td>\n",
       "      <td>Staff Process Engineer</td>\n",
       "    </tr>\n",
       "    <tr>\n",
       "      <th>2</th>\n",
       "      <td>2</td>\n",
       "      <td>dilip.surendran@gmail.com</td>\n",
       "      <td>['Software Services', '  Internet</td>\n",
       "      <td>6</td>\n",
       "      <td>9,27,000 annually</td>\n",
       "      <td>Bengaluru/ Bangalore</td>\n",
       "      <td>Staff Process Engineer</td>\n",
       "    </tr>\n",
       "    <tr>\n",
       "      <th>3</th>\n",
       "      <td>3</td>\n",
       "      <td>jagdish.rout@yahoo.com</td>\n",
       "      <td>['Others']</td>\n",
       "      <td>8</td>\n",
       "      <td>10,80,000 annually</td>\n",
       "      <td>Bengaluru/ Bangalore</td>\n",
       "      <td>Staff Process Engineer</td>\n",
       "    </tr>\n",
       "    <tr>\n",
       "      <th>4</th>\n",
       "      <td>4</td>\n",
       "      <td>santhu7159@gmail.com</td>\n",
       "      <td>['Software Services', '  Internet</td>\n",
       "      <td>6</td>\n",
       "      <td>7,65,000 annually</td>\n",
       "      <td>Bengaluru/ Bangalore</td>\n",
       "      <td>Staff Process Engineer</td>\n",
       "    </tr>\n",
       "  </tbody>\n",
       "</table>\n",
       "</div>"
      ],
      "text/plain": [
       "   Unnamed: 0                   Email Id  \\\n",
       "0           0   vel.manikandan@gmail.com   \n",
       "1           1      vishavishal@gmail.com   \n",
       "2           2  dilip.surendran@gmail.com   \n",
       "3           3     jagdish.rout@yahoo.com   \n",
       "4           4       santhu7159@gmail.com   \n",
       "\n",
       "                                            Industry Work Experience  \\\n",
       "0                                    ['Manufacturing              10   \n",
       "1  ['Software Services', '  IT-Software', '  Tele...               8   \n",
       "2                  ['Software Services', '  Internet               6   \n",
       "3                                         ['Others']               8   \n",
       "4                  ['Software Services', '  Internet               6   \n",
       "\n",
       "       Current Salary      Current Location     Technical Specialist  \n",
       "0  10,00,000 annually  Bengaluru/ Bangalore  Staff Process Engineer   \n",
       "1  18,00,000 annually  Bengaluru/ Bangalore  Staff Process Engineer   \n",
       "2   9,27,000 annually  Bengaluru/ Bangalore  Staff Process Engineer   \n",
       "3  10,80,000 annually  Bengaluru/ Bangalore  Staff Process Engineer   \n",
       "4   7,65,000 annually  Bengaluru/ Bangalore  Staff Process Engineer   "
      ]
     },
     "execution_count": 23,
     "metadata": {},
     "output_type": "execute_result"
    }
   ],
   "source": [
    "salary_pred.head()"
   ]
  },
  {
   "cell_type": "code",
   "execution_count": 24,
   "metadata": {},
   "outputs": [
    {
     "data": {
      "text/plain": [
       "['Manufacturing                                                  2364\n",
       "['Software Services', '  Internet                                1821\n",
       "['Software Services', '  IT-Software']                            369\n",
       "['Others']                                                        333\n",
       "['Engineering                                                     328\n",
       "['Financial Services                                              318\n",
       "['CRM                                                             266\n",
       "['Internet                                                        190\n",
       "['Projects                                                        178\n",
       "['Apparel                                                         163\n",
       "['Petroleum                                                       151\n",
       "['Software Services']                                             134\n",
       "['IT-Hardware                                                      94\n",
       "['Consulting Services']                                            91\n",
       "['Software Services', '  IT-Hardware                               81\n",
       "['Software Services', '  Telecom']                                 76\n",
       "['Software Services', '  IT-Software', '  Telecom']                71\n",
       "['Software Services', '  CRM                                       65\n",
       "['IT-Software']                                                    57\n",
       "['Banking']                                                        55\n",
       "['Software Services', '  Financial Services                        51\n",
       "['Consulting Services', '  Financial Services                      37\n",
       "['Real Estate']                                                    35\n",
       "['Consumer Durables                                                34\n",
       "['Research                                                         33\n",
       "['Consulting Services', '  Software Services', '  Internet         33\n",
       "['Consulting Services', '  CRM                                     32\n",
       "['Entertainment                                                    32\n",
       "['Construction                                                     25\n",
       "['Software Services', '  Others', '  Internet                      24\n",
       "                                                                 ... \n",
       "['Software Services', '  Catering                                   1\n",
       "['Consulting Services', '  Consumer Durables                        1\n",
       "['Banking', '  CRM                                                  1\n",
       "['Software Services', '  Printing                                   1\n",
       "['Others', '  Manufacturing                                         1\n",
       "['Petrochemicals', '  Biotechnology                                 1\n",
       "['Consulting Services', '  Manufacturing                            1\n",
       "['Retailing', '  Healthcare']                                       1\n",
       "['Others', '  Advertising                                           1\n",
       "['Software Services', '  IT-Software', '  Financial Services        1\n",
       "['Government Sector', '  Advertising                                1\n",
       "['Retailing', '  Architecture                                       1\n",
       "['Government Sector', '  Hotel                                      1\n",
       "['Banking', '  IT-Software']                                        1\n",
       "['Consulting Services', '  Educational                              1\n",
       "['Consulting Services', '  Architecture                             1\n",
       "['Consulting Services', '  IT-Hardware                              1\n",
       "['Others', '  Government Sector']                                   1\n",
       "['Software Services', '  Consulting Services', '  Recruitment       1\n",
       "['Software Services', '  Real Estate', '  Internet                  1\n",
       "['Petrochemicals', '  Apparel                                       1\n",
       "['Consulting Services', '  Software Services', '  IT-Hardware       1\n",
       "['Banking', '  IT-Software', '  Insurance']                         1\n",
       "['IT-Software', '  Petroleum                                        1\n",
       "['Consulting Services', '  Warehousing']                            1\n",
       "['NGO                                                               1\n",
       "['Software Services', '  Healthcare', '  Biotechnology              1\n",
       "['Software Services', '  Insurance', '  Telecom']                   1\n",
       "['Government Sector', '  Projects                                   1\n",
       "['Retailing', '  Warehousing']                                      1\n",
       "Name: Industry, Length: 139, dtype: int64"
      ]
     },
     "execution_count": 24,
     "metadata": {},
     "output_type": "execute_result"
    }
   ],
   "source": [
    "salary_pred['Industry'].value_counts()"
   ]
  },
  {
   "cell_type": "code",
   "execution_count": 25,
   "metadata": {},
   "outputs": [
    {
     "name": "stderr",
     "output_type": "stream",
     "text": [
      "C:\\Users\\User\\Anaconda3\\lib\\site-packages\\ipykernel_launcher.py:3: SettingWithCopyWarning: \n",
      "A value is trying to be set on a copy of a slice from a DataFrame\n",
      "\n",
      "See the caveats in the documentation: http://pandas.pydata.org/pandas-docs/stable/indexing.html#indexing-view-versus-copy\n",
      "  This is separate from the ipykernel package so we can avoid doing imports until\n"
     ]
    }
   ],
   "source": [
    "industryList = []\n",
    "for i in range(salary_pred['Industry'].shape[0]):\n",
    "    salary_pred['Industry'][i] = (str(salary_pred['Industry'][i])).split('(')[0]"
   ]
  },
  {
   "cell_type": "code",
   "execution_count": 26,
   "metadata": {},
   "outputs": [
    {
     "data": {
      "text/plain": [
       "['Manufacturing                                                  2364\n",
       "['Software Services', '  Internet                                1821\n",
       "['Software Services', '  IT-Software']                            369\n",
       "['Others']                                                        333\n",
       "['Engineering                                                     328\n",
       "['Financial Services                                              318\n",
       "['CRM                                                             266\n",
       "['Internet                                                        190\n",
       "['Projects                                                        178\n",
       "['Apparel                                                         163\n",
       "['Petroleum                                                       151\n",
       "['Software Services']                                             134\n",
       "['IT-Hardware                                                      94\n",
       "['Consulting Services']                                            91\n",
       "['Software Services', '  IT-Hardware                               81\n",
       "['Software Services', '  Telecom']                                 76\n",
       "['Software Services', '  IT-Software', '  Telecom']                71\n",
       "['Software Services', '  CRM                                       65\n",
       "['IT-Software']                                                    57\n",
       "['Banking']                                                        55\n",
       "['Software Services', '  Financial Services                        51\n",
       "['Consulting Services', '  Financial Services                      37\n",
       "['Real Estate']                                                    35\n",
       "['Consumer Durables                                                34\n",
       "['Research                                                         33\n",
       "['Consulting Services', '  Software Services', '  Internet         33\n",
       "['Consulting Services', '  CRM                                     32\n",
       "['Entertainment                                                    32\n",
       "['Construction                                                     25\n",
       "['Software Services', '  Others', '  Internet                      24\n",
       "                                                                 ... \n",
       "['Software Services', '  Catering                                   1\n",
       "['Consulting Services', '  Consumer Durables                        1\n",
       "['Banking', '  CRM                                                  1\n",
       "['Software Services', '  Printing                                   1\n",
       "['Others', '  Manufacturing                                         1\n",
       "['Petrochemicals', '  Biotechnology                                 1\n",
       "['Consulting Services', '  Manufacturing                            1\n",
       "['Retailing', '  Healthcare']                                       1\n",
       "['Others', '  Advertising                                           1\n",
       "['Software Services', '  IT-Software', '  Financial Services        1\n",
       "['Government Sector', '  Advertising                                1\n",
       "['Retailing', '  Architecture                                       1\n",
       "['Government Sector', '  Hotel                                      1\n",
       "['Banking', '  IT-Software']                                        1\n",
       "['Consulting Services', '  Educational                              1\n",
       "['Consulting Services', '  Architecture                             1\n",
       "['Consulting Services', '  IT-Hardware                              1\n",
       "['Others', '  Government Sector']                                   1\n",
       "['Software Services', '  Consulting Services', '  Recruitment       1\n",
       "['Software Services', '  Real Estate', '  Internet                  1\n",
       "['Petrochemicals', '  Apparel                                       1\n",
       "['Consulting Services', '  Software Services', '  IT-Hardware       1\n",
       "['Banking', '  IT-Software', '  Insurance']                         1\n",
       "['IT-Software', '  Petroleum                                        1\n",
       "['Consulting Services', '  Warehousing']                            1\n",
       "['NGO                                                               1\n",
       "['Software Services', '  Healthcare', '  Biotechnology              1\n",
       "['Software Services', '  Insurance', '  Telecom']                   1\n",
       "['Government Sector', '  Projects                                   1\n",
       "['Retailing', '  Warehousing']                                      1\n",
       "Name: Industry, Length: 139, dtype: int64"
      ]
     },
     "execution_count": 26,
     "metadata": {},
     "output_type": "execute_result"
    }
   ],
   "source": [
    "salary_pred['Industry'].value_counts()"
   ]
  },
  {
   "cell_type": "code",
   "execution_count": 27,
   "metadata": {},
   "outputs": [
    {
     "data": {
      "text/plain": [
       "['Manufacturing                                                  2364\n",
       "['Software Services', '  Internet                                1821\n",
       "['Software Services', '  IT-Software']                            369\n",
       "['Others']                                                        333\n",
       "['Engineering                                                     328\n",
       "['Financial Services                                              318\n",
       "['CRM                                                             266\n",
       "['Internet                                                        190\n",
       "['PInfrastructure                                                 178\n",
       "['Apparel                                                         163\n",
       "['Petroleum                                                       151\n",
       "['Software Services']                                             134\n",
       "['IT-Hardware                                                      94\n",
       "['Consulting Services']                                            91\n",
       "['Software Services', '  IT-Hardware                               81\n",
       "['Software Services', '  Telecom']                                 76\n",
       "['Software Services', '  IT-Software', '  Telecom']                71\n",
       "['Software Services', '  CRM                                       65\n",
       "['IT-Software']                                                    57\n",
       "['Banking']                                                        55\n",
       "['Software Services', '  Financial Services                        51\n",
       "['Consulting Services', '  Financial Services                      37\n",
       "['Real Estate']                                                    35\n",
       "['Consumer Durables                                                34\n",
       "['Research                                                         33\n",
       "['Consulting Services', '  Software Services', '  Internet         33\n",
       "['Consulting Services', '  CRM                                     32\n",
       "['Entertainment                                                    32\n",
       "['Construction                                                     25\n",
       "['Software Services', '  Others', '  Internet                      24\n",
       "                                                                 ... \n",
       "['Software Services', '  IT-Software', '  Financial Services        1\n",
       "['Others', '  Construction                                          1\n",
       "['Software Services', '  Catering                                   1\n",
       "['Others', '  Advertising                                           1\n",
       "['Retailing', '  Healthcare']                                       1\n",
       "['Consulting Services', '  Consumer Durables                        1\n",
       "['Banking', '  CRM                                                  1\n",
       "['Others', '  Defence', '  Security                                 1\n",
       "['Banking', '  IT-Software']                                        1\n",
       "['Real Estate', '  Educational                                      1\n",
       "['Others', '  Government Sector']                                   1\n",
       "['Consulting Services', '  Software Services', '  IT-Hardware       1\n",
       "['Consulting Services', '  Warehousing']                            1\n",
       "['Government Sector', '  PInfrastructure                            1\n",
       "['NGO                                                               1\n",
       "['Others', '  Manufacturing                                         1\n",
       "['Software Services', '  Healthcare', '  Biotechnology              1\n",
       "['Petrochemicals', '  Apparel                                       1\n",
       "['Software Services', '  Real Estate', '  Internet                  1\n",
       "['Consulting Services', '  Manufacturing                            1\n",
       "['IT-Software', '  Petroleum                                        1\n",
       "['Software Services', '  Insurance', '  Telecom']                   1\n",
       "['Consulting Services', '  IT-Hardware                              1\n",
       "['Software Services', '  Consulting Services', '  Recruitment       1\n",
       "['Petrochemicals', '  Biotechnology                                 1\n",
       "['Consulting Services', '  Architecture                             1\n",
       "['Consulting Services', '  Educational                              1\n",
       "['Real Estate', '  Law                                              1\n",
       "['Consulting Services', '  Government Sector']                      1\n",
       "['Consulting Services', '  Law                                      1\n",
       "Name: Industry, Length: 139, dtype: int64"
      ]
     },
     "execution_count": 27,
     "metadata": {},
     "output_type": "execute_result"
    }
   ],
   "source": [
    "salary_pred['Industry'] = salary_pred['Industry'].str.replace('rojects', 'Projects ')\n",
    "salary_pred['Industry'] = salary_pred['Industry'].str.replace('Petrochemical s', 'Petrochemical')\n",
    "salary_pred['Industry'] = salary_pred['Industry'].str.replace('IT Software : Software Products & Services', 'IT-Software')\n",
    "salary_pred['Industry'] = salary_pred['Industry'].str.replace('Projects', 'Infrastructure')\n",
    "salary_pred['Industry'] = salary_pred['Industry'].str.replace('Hotel', 'Hotel')\n",
    "salary_pred['Industry'].value_counts()\n"
   ]
  },
  {
   "cell_type": "code",
   "execution_count": 28,
   "metadata": {},
   "outputs": [
    {
     "data": {
      "text/plain": [
       "Unnamed: 0               int64\n",
       "Email Id                object\n",
       "Industry                object\n",
       "Work Experience         object\n",
       "Current Salary          object\n",
       "Current Location        object\n",
       "Technical Specialist    object\n",
       "dtype: object"
      ]
     },
     "execution_count": 28,
     "metadata": {},
     "output_type": "execute_result"
    }
   ],
   "source": [
    "salary_pred.dtypes"
   ]
  },
  {
   "cell_type": "code",
   "execution_count": 29,
   "metadata": {},
   "outputs": [],
   "source": [
    "# #months into year conversion\n",
    "# for i in range(salary_pred.shape[0]):\n",
    "#     if('months' in salary_pred['Work Experience'][i]):\n",
    "#         print(salary_pred['Work Experience'][i])"
   ]
  },
  {
   "cell_type": "code",
   "execution_count": 30,
   "metadata": {},
   "outputs": [],
   "source": [
    "salary_pred['Work Experience'] = salary_pred['Work Experience'].str.replace('6 months', '0.5 ')"
   ]
  },
  {
   "cell_type": "code",
   "execution_count": 31,
   "metadata": {},
   "outputs": [
    {
     "data": {
      "text/plain": [
       "str"
      ]
     },
     "execution_count": 31,
     "metadata": {},
     "output_type": "execute_result"
    }
   ],
   "source": [
    "type(salary_pred['Work Experience'][0])"
   ]
  },
  {
   "cell_type": "code",
   "execution_count": 32,
   "metadata": {},
   "outputs": [],
   "source": [
    "salary_pred['Work Experience'] = salary_pred['Work Experience'].astype(float)"
   ]
  },
  {
   "cell_type": "code",
   "execution_count": 33,
   "metadata": {},
   "outputs": [
    {
     "data": {
      "text/plain": [
       "numpy.float64"
      ]
     },
     "execution_count": 33,
     "metadata": {},
     "output_type": "execute_result"
    }
   ],
   "source": [
    "type(salary_pred['Work Experience'][0])"
   ]
  },
  {
   "cell_type": "code",
   "execution_count": 34,
   "metadata": {},
   "outputs": [
    {
     "data": {
      "text/html": [
       "<div>\n",
       "<style scoped>\n",
       "    .dataframe tbody tr th:only-of-type {\n",
       "        vertical-align: middle;\n",
       "    }\n",
       "\n",
       "    .dataframe tbody tr th {\n",
       "        vertical-align: top;\n",
       "    }\n",
       "\n",
       "    .dataframe thead th {\n",
       "        text-align: right;\n",
       "    }\n",
       "</style>\n",
       "<table border=\"1\" class=\"dataframe\">\n",
       "  <thead>\n",
       "    <tr style=\"text-align: right;\">\n",
       "      <th></th>\n",
       "      <th>Unnamed: 0</th>\n",
       "      <th>Email Id</th>\n",
       "      <th>Industry</th>\n",
       "      <th>Work Experience</th>\n",
       "      <th>Current Salary</th>\n",
       "      <th>Current Location</th>\n",
       "      <th>Technical Specialist</th>\n",
       "    </tr>\n",
       "  </thead>\n",
       "  <tbody>\n",
       "    <tr>\n",
       "      <th>0</th>\n",
       "      <td>0</td>\n",
       "      <td>vel.manikandan@gmail.com</td>\n",
       "      <td>['Manufacturing</td>\n",
       "      <td>10.0</td>\n",
       "      <td>10,00,000 annually</td>\n",
       "      <td>Bengaluru/ Bangalore</td>\n",
       "      <td>Staff Process Engineer</td>\n",
       "    </tr>\n",
       "    <tr>\n",
       "      <th>1</th>\n",
       "      <td>1</td>\n",
       "      <td>vishavishal@gmail.com</td>\n",
       "      <td>['Software Services', '  IT-Software', '  Tele...</td>\n",
       "      <td>8.0</td>\n",
       "      <td>18,00,000 annually</td>\n",
       "      <td>Bengaluru/ Bangalore</td>\n",
       "      <td>Staff Process Engineer</td>\n",
       "    </tr>\n",
       "    <tr>\n",
       "      <th>2</th>\n",
       "      <td>2</td>\n",
       "      <td>dilip.surendran@gmail.com</td>\n",
       "      <td>['Software Services', '  Internet</td>\n",
       "      <td>6.0</td>\n",
       "      <td>9,27,000 annually</td>\n",
       "      <td>Bengaluru/ Bangalore</td>\n",
       "      <td>Staff Process Engineer</td>\n",
       "    </tr>\n",
       "    <tr>\n",
       "      <th>3</th>\n",
       "      <td>3</td>\n",
       "      <td>jagdish.rout@yahoo.com</td>\n",
       "      <td>['Others']</td>\n",
       "      <td>8.0</td>\n",
       "      <td>10,80,000 annually</td>\n",
       "      <td>Bengaluru/ Bangalore</td>\n",
       "      <td>Staff Process Engineer</td>\n",
       "    </tr>\n",
       "    <tr>\n",
       "      <th>4</th>\n",
       "      <td>4</td>\n",
       "      <td>santhu7159@gmail.com</td>\n",
       "      <td>['Software Services', '  Internet</td>\n",
       "      <td>6.0</td>\n",
       "      <td>7,65,000 annually</td>\n",
       "      <td>Bengaluru/ Bangalore</td>\n",
       "      <td>Staff Process Engineer</td>\n",
       "    </tr>\n",
       "  </tbody>\n",
       "</table>\n",
       "</div>"
      ],
      "text/plain": [
       "   Unnamed: 0                   Email Id  \\\n",
       "0           0   vel.manikandan@gmail.com   \n",
       "1           1      vishavishal@gmail.com   \n",
       "2           2  dilip.surendran@gmail.com   \n",
       "3           3     jagdish.rout@yahoo.com   \n",
       "4           4       santhu7159@gmail.com   \n",
       "\n",
       "                                            Industry  Work Experience  \\\n",
       "0                                    ['Manufacturing             10.0   \n",
       "1  ['Software Services', '  IT-Software', '  Tele...              8.0   \n",
       "2                  ['Software Services', '  Internet              6.0   \n",
       "3                                         ['Others']              8.0   \n",
       "4                  ['Software Services', '  Internet              6.0   \n",
       "\n",
       "       Current Salary      Current Location     Technical Specialist  \n",
       "0  10,00,000 annually  Bengaluru/ Bangalore  Staff Process Engineer   \n",
       "1  18,00,000 annually  Bengaluru/ Bangalore  Staff Process Engineer   \n",
       "2   9,27,000 annually  Bengaluru/ Bangalore  Staff Process Engineer   \n",
       "3  10,80,000 annually  Bengaluru/ Bangalore  Staff Process Engineer   \n",
       "4   7,65,000 annually  Bengaluru/ Bangalore  Staff Process Engineer   "
      ]
     },
     "execution_count": 34,
     "metadata": {},
     "output_type": "execute_result"
    }
   ],
   "source": [
    "salary_pred.head()"
   ]
  },
  {
   "cell_type": "code",
   "execution_count": 35,
   "metadata": {},
   "outputs": [
    {
     "data": {
      "text/plain": [
       "18,00,000 annually    259\n",
       "15,00,000 annually    258\n",
       "14,00,000 annually    235\n",
       "20,00,000 annually    225\n",
       "13,00,000 annually    189\n",
       "40,00,000 annually    179\n",
       "16,00,000 annually    169\n",
       "10,00,000 annually    148\n",
       "17,00,000 annually    142\n",
       "35,00,000 annually    141\n",
       "25,00,000 annually    138\n",
       "8,00,000 annually     138\n",
       "7,00,000 annually     138\n",
       "50,00,000 annually    129\n",
       "36,00,000 annually    129\n",
       "24,00,000 annually    122\n",
       "32,00,000 annually    121\n",
       "9,00,000 annually     120\n",
       "19,00,000 annually    110\n",
       "22,00,000 annually    106\n",
       "12,00,000 annually    105\n",
       "45,00,000 annually     96\n",
       "13,50,000 annually     92\n",
       "7,50,000 annually      88\n",
       "21,00,000 annually     87\n",
       "15,50,000 annually     79\n",
       "11,00,000 annually     79\n",
       "16,50,000 annually     78\n",
       "8,50,000 annually      77\n",
       "14,50,000 annually     75\n",
       "                     ... \n",
       "29,90,000 annually      1\n",
       "36,20,000 annually      1\n",
       "46,28,000 annually      1\n",
       "47,80,000 annually      1\n",
       "12,42,000 annually      1\n",
       "19,29,000 annually      1\n",
       "8,96,000 annually       1\n",
       "34,80,000 annually      1\n",
       "9,88,000 annually       1\n",
       "8,26,000 annually       1\n",
       "40,60,000 annually      1\n",
       "45,15,000 annually      1\n",
       "48,70,000 annually      1\n",
       "15,64,000 annually      1\n",
       "12,76,000 annually      1\n",
       "30,78,000 annually      1\n",
       "27,65,000 annually      1\n",
       "35,75,000 annually      1\n",
       "9,89,000 annually       1\n",
       "31,60,000 annually      1\n",
       "51,50,000 annually      1\n",
       "12,09,000 annually      1\n",
       "11,65,000 annually      1\n",
       "8,48,000 annually       1\n",
       "17,95,000 annually      1\n",
       "43,10,000 annually      1\n",
       "12,12,000 annually      1\n",
       "7,29,000 annually       1\n",
       "27,20,000 annually      1\n",
       "10,21,000 annually      1\n",
       "Name: Current Salary, Length: 936, dtype: int64"
      ]
     },
     "execution_count": 35,
     "metadata": {},
     "output_type": "execute_result"
    }
   ],
   "source": [
    "salary_pred['Current Salary'].value_counts()"
   ]
  },
  {
   "cell_type": "code",
   "execution_count": 36,
   "metadata": {},
   "outputs": [],
   "source": [
    "#Remove all the char except the numbers\n",
    "salary_pred['Current Salary'] = salary_pred['Current Salary'].str.replace('annually','')"
   ]
  },
  {
   "cell_type": "code",
   "execution_count": 37,
   "metadata": {},
   "outputs": [],
   "source": [
    "salary_pred['Current Salary'] = salary_pred['Current Salary'].str.replace(',','')"
   ]
  },
  {
   "cell_type": "code",
   "execution_count": 38,
   "metadata": {},
   "outputs": [
    {
     "data": {
      "text/plain": [
       "float"
      ]
     },
     "execution_count": 38,
     "metadata": {},
     "output_type": "execute_result"
    }
   ],
   "source": [
    "type(float(salary_pred['Current Salary'][1]))"
   ]
  },
  {
   "cell_type": "code",
   "execution_count": 39,
   "metadata": {},
   "outputs": [
    {
     "data": {
      "text/plain": [
       "1800000     259\n",
       "1500000     258\n",
       "1400000     235\n",
       "2000000     225\n",
       "1300000     189\n",
       "4000000     179\n",
       "1600000     169\n",
       "1000000     148\n",
       "1700000     142\n",
       "3500000     141\n",
       "700000      138\n",
       "800000      138\n",
       "2500000     138\n",
       "3600000     129\n",
       "5000000     129\n",
       "2400000     122\n",
       "3200000     121\n",
       "900000      120\n",
       "1900000     110\n",
       "2200000     106\n",
       "1200000     105\n",
       "4500000      96\n",
       "1350000      92\n",
       "750000       88\n",
       "2100000      87\n",
       "1100000      79\n",
       "1550000      79\n",
       "1650000      78\n",
       "850000       77\n",
       "1450000      75\n",
       "           ... \n",
       "809000        1\n",
       "1031000       1\n",
       "1308000       1\n",
       "4320000       1\n",
       "749000        1\n",
       "1317000       1\n",
       "1212000       1\n",
       "3390000       1\n",
       "4136000       1\n",
       "964000        1\n",
       "3455000       1\n",
       "2290000       1\n",
       "3230000       1\n",
       "773000        1\n",
       "2449000       1\n",
       "1153000       1\n",
       "322000        1\n",
       "1696000       1\n",
       "5030000       1\n",
       "3701000       1\n",
       "5422000       1\n",
       "4550000       1\n",
       "843000        1\n",
       "3276000       1\n",
       "5472000       1\n",
       "1401000       1\n",
       "1138000       1\n",
       "3827000       1\n",
       "1126000       1\n",
       "1543000       1\n",
       "Name: Current Salary, Length: 936, dtype: int64"
      ]
     },
     "execution_count": 39,
     "metadata": {},
     "output_type": "execute_result"
    }
   ],
   "source": [
    "salary_pred['Current Salary'].value_counts()"
   ]
  },
  {
   "cell_type": "code",
   "execution_count": 40,
   "metadata": {},
   "outputs": [],
   "source": [
    "salary_pred['Current Salary'] = salary_pred['Current Salary'].str.replace('\\n', '')"
   ]
  },
  {
   "cell_type": "code",
   "execution_count": 41,
   "metadata": {},
   "outputs": [
    {
     "data": {
      "text/plain": [
       "1800000     259\n",
       "1500000     258\n",
       "1400000     235\n",
       "2000000     225\n",
       "1300000     189\n",
       "4000000     179\n",
       "1600000     169\n",
       "1000000     148\n",
       "1700000     142\n",
       "3500000     141\n",
       "700000      138\n",
       "800000      138\n",
       "2500000     138\n",
       "3600000     129\n",
       "5000000     129\n",
       "2400000     122\n",
       "3200000     121\n",
       "900000      120\n",
       "1900000     110\n",
       "2200000     106\n",
       "1200000     105\n",
       "4500000      96\n",
       "1350000      92\n",
       "750000       88\n",
       "2100000      87\n",
       "1100000      79\n",
       "1550000      79\n",
       "1650000      78\n",
       "850000       77\n",
       "1450000      75\n",
       "           ... \n",
       "809000        1\n",
       "1031000       1\n",
       "1308000       1\n",
       "4320000       1\n",
       "749000        1\n",
       "1317000       1\n",
       "1212000       1\n",
       "3390000       1\n",
       "4136000       1\n",
       "964000        1\n",
       "3455000       1\n",
       "2290000       1\n",
       "3230000       1\n",
       "773000        1\n",
       "2449000       1\n",
       "1153000       1\n",
       "322000        1\n",
       "1696000       1\n",
       "5030000       1\n",
       "3701000       1\n",
       "5422000       1\n",
       "4550000       1\n",
       "843000        1\n",
       "3276000       1\n",
       "5472000       1\n",
       "1401000       1\n",
       "1138000       1\n",
       "3827000       1\n",
       "1126000       1\n",
       "1543000       1\n",
       "Name: Current Salary, Length: 936, dtype: int64"
      ]
     },
     "execution_count": 41,
     "metadata": {},
     "output_type": "execute_result"
    }
   ],
   "source": [
    "salary_pred['Current Salary'].value_counts()"
   ]
  },
  {
   "cell_type": "code",
   "execution_count": 42,
   "metadata": {},
   "outputs": [
    {
     "data": {
      "text/plain": [
       "Unnamed: 0              0\n",
       "Email Id                1\n",
       "Industry                0\n",
       "Work Experience         0\n",
       "Current Salary          0\n",
       "Current Location        6\n",
       "Technical Specialist    0\n",
       "dtype: int64"
      ]
     },
     "execution_count": 42,
     "metadata": {},
     "output_type": "execute_result"
    }
   ],
   "source": [
    "salary_pred.isnull().sum()"
   ]
  },
  {
   "cell_type": "code",
   "execution_count": 43,
   "metadata": {},
   "outputs": [
    {
     "data": {
      "text/plain": [
       "str"
      ]
     },
     "execution_count": 43,
     "metadata": {},
     "output_type": "execute_result"
    }
   ],
   "source": [
    "type(salary_pred['Current Salary'][2])"
   ]
  },
  {
   "cell_type": "code",
   "execution_count": 44,
   "metadata": {},
   "outputs": [],
   "source": [
    "# salary_pred['Current Salary'] = salary_pred['Current Salary'].str.replace('2000-02-16 00:00:00', '0')\n",
    "# salary_pred['Current Salary'] = salary_pred['Current Salary'].str.replace('2000-03-25 00:00:00', '0')"
   ]
  },
  {
   "cell_type": "code",
   "execution_count": 45,
   "metadata": {},
   "outputs": [],
   "source": [
    "for i in range(salary_pred.shape[0]):\n",
    "    if(salary_pred['Current Salary'][i] == ''):\n",
    "        print(i)"
   ]
  },
  {
   "cell_type": "code",
   "execution_count": 46,
   "metadata": {},
   "outputs": [],
   "source": [
    "#Missing value\n",
    "salary_pred['Current Salary'].fillna(0, inplace = True)"
   ]
  },
  {
   "cell_type": "code",
   "execution_count": 47,
   "metadata": {},
   "outputs": [],
   "source": [
    "salary_pred['Current Salary'] = salary_pred['Current Salary'].astype(float)"
   ]
  },
  {
   "cell_type": "code",
   "execution_count": 48,
   "metadata": {},
   "outputs": [
    {
     "data": {
      "text/plain": [
       "Unnamed: 0                int64\n",
       "Email Id                 object\n",
       "Industry                 object\n",
       "Work Experience         float64\n",
       "Current Salary          float64\n",
       "Current Location         object\n",
       "Technical Specialist     object\n",
       "dtype: object"
      ]
     },
     "execution_count": 48,
     "metadata": {},
     "output_type": "execute_result"
    }
   ],
   "source": [
    "salary_pred.dtypes"
   ]
  },
  {
   "cell_type": "code",
   "execution_count": 49,
   "metadata": {},
   "outputs": [
    {
     "data": {
      "text/html": [
       "<div>\n",
       "<style scoped>\n",
       "    .dataframe tbody tr th:only-of-type {\n",
       "        vertical-align: middle;\n",
       "    }\n",
       "\n",
       "    .dataframe tbody tr th {\n",
       "        vertical-align: top;\n",
       "    }\n",
       "\n",
       "    .dataframe thead th {\n",
       "        text-align: right;\n",
       "    }\n",
       "</style>\n",
       "<table border=\"1\" class=\"dataframe\">\n",
       "  <thead>\n",
       "    <tr style=\"text-align: right;\">\n",
       "      <th></th>\n",
       "      <th>Unnamed: 0</th>\n",
       "      <th>Email Id</th>\n",
       "      <th>Industry</th>\n",
       "      <th>Work Experience</th>\n",
       "      <th>Current Salary</th>\n",
       "      <th>Current Location</th>\n",
       "      <th>Technical Specialist</th>\n",
       "    </tr>\n",
       "  </thead>\n",
       "  <tbody>\n",
       "    <tr>\n",
       "      <th>0</th>\n",
       "      <td>0</td>\n",
       "      <td>vel.manikandan@gmail.com</td>\n",
       "      <td>['Manufacturing</td>\n",
       "      <td>10.0</td>\n",
       "      <td>1000000.0</td>\n",
       "      <td>Bengaluru/ Bangalore</td>\n",
       "      <td>Staff Process Engineer</td>\n",
       "    </tr>\n",
       "    <tr>\n",
       "      <th>1</th>\n",
       "      <td>1</td>\n",
       "      <td>vishavishal@gmail.com</td>\n",
       "      <td>['Software Services', '  IT-Software', '  Tele...</td>\n",
       "      <td>8.0</td>\n",
       "      <td>1800000.0</td>\n",
       "      <td>Bengaluru/ Bangalore</td>\n",
       "      <td>Staff Process Engineer</td>\n",
       "    </tr>\n",
       "  </tbody>\n",
       "</table>\n",
       "</div>"
      ],
      "text/plain": [
       "   Unnamed: 0                  Email Id  \\\n",
       "0           0  vel.manikandan@gmail.com   \n",
       "1           1     vishavishal@gmail.com   \n",
       "\n",
       "                                            Industry  Work Experience  \\\n",
       "0                                    ['Manufacturing             10.0   \n",
       "1  ['Software Services', '  IT-Software', '  Tele...              8.0   \n",
       "\n",
       "   Current Salary      Current Location     Technical Specialist  \n",
       "0       1000000.0  Bengaluru/ Bangalore  Staff Process Engineer   \n",
       "1       1800000.0  Bengaluru/ Bangalore  Staff Process Engineer   "
      ]
     },
     "execution_count": 49,
     "metadata": {},
     "output_type": "execute_result"
    }
   ],
   "source": [
    "salary_pred.head(2)"
   ]
  },
  {
   "cell_type": "code",
   "execution_count": 50,
   "metadata": {},
   "outputs": [
    {
     "data": {
      "text/plain": [
       "Bengaluru/ Bangalore               6238\n",
       "Pune                                648\n",
       "Chennai                             207\n",
       "Mumbai                               94\n",
       "Hyderabad/ Secunderabad              87\n",
       "Delhi                                53\n",
       "Ahmedabad                            42\n",
       "Coimbatore                           28\n",
       "Gurgaon                              26\n",
       "Noida/ Greater Noida                 24\n",
       "Kolkata                              21\n",
       "Dubai                                16\n",
       "Pakistan                             16\n",
       "Canada                               14\n",
       "Abu Dhabi                            14\n",
       "Dehradun                             13\n",
       "Vadodara                             12\n",
       "Cairo                                12\n",
       "Hosur                                11\n",
       "Faridabad                            11\n",
       "OTHERS                               11\n",
       "Algeria                              10\n",
       "Visakhapatnam                        10\n",
       "Malaysia                              7\n",
       "Mysoru/ Mysore                        6\n",
       "Gandhinagar                           6\n",
       "Houston                               6\n",
       "Muscat                                6\n",
       "KUWAIT                                6\n",
       "EGYPT                                 6\n",
       "                                   ... \n",
       "INTERNATIONAL(Tanzania)               1\n",
       "Chittoor                              1\n",
       "Parwanoo                              1\n",
       "MADHYA PRADESH(Shahdol)               1\n",
       "Sangareddy                            1\n",
       "Ghaziabad                             1\n",
       "Lonavala                              1\n",
       "GULF/ MIDDLE EAST(kish)               1\n",
       "Palakkad                              1\n",
       "SAUDI ARABIA(Makkah)                  1\n",
       "Ahmednagar                            1\n",
       "Jeddah                                1\n",
       "Kollam                                1\n",
       "KERALA(Trivandrum)                    1\n",
       "GOA( verna,goa)                       1\n",
       "INTERNATIONAL(Stavanger Norway)       1\n",
       "INTERNATIONAL(Azerbaijan)             1\n",
       "INTERNATIONAL(ZULIA, VENEZUELA)       1\n",
       "TAMIL NADU(CHENNAI)                   1\n",
       "Ropar                                 1\n",
       "US(Tampa)                             1\n",
       "Mathura                               1\n",
       "Baddi                                 1\n",
       "INTERNATIONAL(Lagos, Nigeria)         1\n",
       "Tuticorin                             1\n",
       "Muktsar                               1\n",
       "Patan                                 1\n",
       "Ranchi                                1\n",
       "Philippines                           1\n",
       "Akola                                 1\n",
       "Name: Current Location, Length: 226, dtype: int64"
      ]
     },
     "execution_count": 50,
     "metadata": {},
     "output_type": "execute_result"
    }
   ],
   "source": [
    "salary_pred['Current Location'].value_counts()"
   ]
  },
  {
   "cell_type": "code",
   "execution_count": 51,
   "metadata": {},
   "outputs": [
    {
     "name": "stderr",
     "output_type": "stream",
     "text": [
      "C:\\Users\\User\\Anaconda3\\lib\\site-packages\\ipykernel_launcher.py:2: SettingWithCopyWarning: \n",
      "A value is trying to be set on a copy of a slice from a DataFrame\n",
      "\n",
      "See the caveats in the documentation: http://pandas.pydata.org/pandas-docs/stable/indexing.html#indexing-view-versus-copy\n",
      "  \n"
     ]
    },
    {
     "name": "stdout",
     "output_type": "stream",
     "text": [
      "0\n",
      "1000\n",
      "2000\n",
      "3000\n",
      "4000\n",
      "5000\n",
      "6000\n",
      "7000\n"
     ]
    }
   ],
   "source": [
    "for i in range(salary_pred['Current Location'].shape[0]):\n",
    "    salary_pred['Current Location'][i] = (str(salary_pred['Current Location'][i])).split('/')[0]\n",
    "    if(i%1000 == 0):\n",
    "        print(i)"
   ]
  },
  {
   "cell_type": "code",
   "execution_count": 52,
   "metadata": {},
   "outputs": [
    {
     "data": {
      "text/plain": [
       "Bengaluru                           6238\n",
       "Pune                                 648\n",
       "Chennai                              207\n",
       "Mumbai                                94\n",
       "Hyderabad                             87\n",
       "Delhi                                 53\n",
       "Ahmedabad                             42\n",
       "Coimbatore                            28\n",
       "Gurgaon                               26\n",
       "Noida                                 24\n",
       "Kolkata                               21\n",
       "Pakistan                              16\n",
       "Dubai                                 16\n",
       "Canada                                14\n",
       "Abu Dhabi                             14\n",
       "Dehradun                              13\n",
       "Cairo                                 12\n",
       "Vadodara                              12\n",
       "Hosur                                 11\n",
       "OTHERS                                11\n",
       "Faridabad                             11\n",
       "Algeria                               10\n",
       "Visakhapatnam                         10\n",
       "Malaysia                               7\n",
       "KUWAIT                                 6\n",
       "Mysoru                                 6\n",
       "Houston                                6\n",
       "Muscat                                 6\n",
       "nan                                    6\n",
       "Gandhinagar                            6\n",
       "                                    ... \n",
       "Kollam                                 1\n",
       "Kurnool                                1\n",
       "Nadiad                                 1\n",
       "Erode                                  1\n",
       "Chittoor                               1\n",
       "Burdwan                                1\n",
       "Morocco                                1\n",
       "US(Louisiana)                          1\n",
       "Ras Al Khaimah                         1\n",
       "Lonavala                               1\n",
       "Palakkad                               1\n",
       "SAUDI ARABIA(Makkah)                   1\n",
       "Ahmednagar                             1\n",
       "SAUDI ARABIA(Dhahran)                  1\n",
       "KERALA(Trivandrum)                     1\n",
       "Patan                                  1\n",
       "Tirupati                               1\n",
       "GOA( verna,goa)                        1\n",
       "INTERNATIONAL(Azerbaijan)              1\n",
       "KARNATAKA(Hosapete )                   1\n",
       "Ropar                                  1\n",
       "US(Tampa)                              1\n",
       "INTERNATIONAL(Romania Timisoara)       1\n",
       "Baddi                                  1\n",
       "Ratlam                                 1\n",
       "Bareilly                               1\n",
       "Tuticorin                              1\n",
       "MADHYA PRADESH(Shahdol)                1\n",
       "Muktsar                                1\n",
       "Akola                                  1\n",
       "Name: Current Location, Length: 224, dtype: int64"
      ]
     },
     "execution_count": 52,
     "metadata": {},
     "output_type": "execute_result"
    }
   ],
   "source": [
    "salary_pred['Current Location'].value_counts()"
   ]
  },
  {
   "cell_type": "code",
   "execution_count": 53,
   "metadata": {},
   "outputs": [
    {
     "name": "stderr",
     "output_type": "stream",
     "text": [
      "C:\\Users\\User\\Anaconda3\\lib\\site-packages\\ipykernel_launcher.py:2: SettingWithCopyWarning: \n",
      "A value is trying to be set on a copy of a slice from a DataFrame\n",
      "\n",
      "See the caveats in the documentation: http://pandas.pydata.org/pandas-docs/stable/indexing.html#indexing-view-versus-copy\n",
      "  \n",
      "C:\\Users\\User\\Anaconda3\\lib\\site-packages\\ipykernel_launcher.py:3: SettingWithCopyWarning: \n",
      "A value is trying to be set on a copy of a slice from a DataFrame\n",
      "\n",
      "See the caveats in the documentation: http://pandas.pydata.org/pandas-docs/stable/indexing.html#indexing-view-versus-copy\n",
      "  This is separate from the ipykernel package so we can avoid doing imports until\n"
     ]
    },
    {
     "name": "stdout",
     "output_type": "stream",
     "text": [
      "0\n",
      "1000\n",
      "2000\n",
      "3000\n",
      "4000\n",
      "5000\n",
      "6000\n",
      "7000\n"
     ]
    }
   ],
   "source": [
    "for i in range(salary_pred['Current Location'].shape[0]):\n",
    "    salary_pred['Current Location'][i] = (str(salary_pred['Current Location'][i])).split(',')[0]\n",
    "    salary_pred['Current Location'][i] = (str(salary_pred['Current Location'][i])).split('(')[0]\n",
    "    if(i%1000 == 0):\n",
    "        print(i)"
   ]
  },
  {
   "cell_type": "code",
   "execution_count": 54,
   "metadata": {},
   "outputs": [
    {
     "data": {
      "text/plain": [
       "Bengaluru        6238\n",
       "Pune              648\n",
       "Chennai           207\n",
       "Mumbai             94\n",
       "Hyderabad          87\n",
       "Delhi              53\n",
       "Ahmedabad          42\n",
       "INTERNATIONAL      41\n",
       "Coimbatore         28\n",
       "Gurgaon            26\n",
       "Noida              24\n",
       "Kolkata            21\n",
       "Pakistan           16\n",
       "Dubai              16\n",
       "Canada             14\n",
       "Abu Dhabi          14\n",
       "Dehradun           13\n",
       "Vadodara           12\n",
       "Cairo              12\n",
       "Faridabad          11\n",
       "Hosur              11\n",
       "OTHERS             11\n",
       "Visakhapatnam      10\n",
       "Algeria            10\n",
       "KUWAIT              7\n",
       "Malaysia            7\n",
       "nan                 6\n",
       "Gandhinagar         6\n",
       "Muscat              6\n",
       "EGYPT               6\n",
       "                 ... \n",
       "Baddi               1\n",
       "Tuticorin           1\n",
       "Sangareddy          1\n",
       "South Africa        1\n",
       "Muktsar             1\n",
       "Patan               1\n",
       "CHHATTISGARH        1\n",
       "Ranchi              1\n",
       "Philippines         1\n",
       "Singapore           1\n",
       "Nadiad              1\n",
       "Ahmednagar          1\n",
       "Parwanoo            1\n",
       "Palakkad            1\n",
       "GOA                 1\n",
       "Jeddah              1\n",
       "Chandigarh          1\n",
       "Tunisia             1\n",
       "Mathura             1\n",
       "Guwahati            1\n",
       "Anantapur           1\n",
       "UAE                 1\n",
       "Erode               1\n",
       "Chittoor            1\n",
       "Satara              1\n",
       "Mohali              1\n",
       "Allahabad           1\n",
       "New Zealand         1\n",
       "Lonavala            1\n",
       "Akola               1\n",
       "Name: Current Location, Length: 173, dtype: int64"
      ]
     },
     "execution_count": 54,
     "metadata": {},
     "output_type": "execute_result"
    }
   ],
   "source": [
    "salary_pred['Current Location'].value_counts()"
   ]
  },
  {
   "cell_type": "code",
   "execution_count": 55,
   "metadata": {},
   "outputs": [
    {
     "data": {
      "text/html": [
       "<div>\n",
       "<style scoped>\n",
       "    .dataframe tbody tr th:only-of-type {\n",
       "        vertical-align: middle;\n",
       "    }\n",
       "\n",
       "    .dataframe tbody tr th {\n",
       "        vertical-align: top;\n",
       "    }\n",
       "\n",
       "    .dataframe thead th {\n",
       "        text-align: right;\n",
       "    }\n",
       "</style>\n",
       "<table border=\"1\" class=\"dataframe\">\n",
       "  <thead>\n",
       "    <tr style=\"text-align: right;\">\n",
       "      <th></th>\n",
       "      <th>Unnamed: 0</th>\n",
       "      <th>Email Id</th>\n",
       "      <th>Industry</th>\n",
       "      <th>Work Experience</th>\n",
       "      <th>Current Salary</th>\n",
       "      <th>Current Location</th>\n",
       "      <th>Technical Specialist</th>\n",
       "    </tr>\n",
       "  </thead>\n",
       "  <tbody>\n",
       "    <tr>\n",
       "      <th>0</th>\n",
       "      <td>0</td>\n",
       "      <td>vel.manikandan@gmail.com</td>\n",
       "      <td>['Manufacturing</td>\n",
       "      <td>10.0</td>\n",
       "      <td>1000000.0</td>\n",
       "      <td>Bengaluru</td>\n",
       "      <td>Staff Process Engineer</td>\n",
       "    </tr>\n",
       "    <tr>\n",
       "      <th>1</th>\n",
       "      <td>1</td>\n",
       "      <td>vishavishal@gmail.com</td>\n",
       "      <td>['Software Services', '  IT-Software', '  Tele...</td>\n",
       "      <td>8.0</td>\n",
       "      <td>1800000.0</td>\n",
       "      <td>Bengaluru</td>\n",
       "      <td>Staff Process Engineer</td>\n",
       "    </tr>\n",
       "    <tr>\n",
       "      <th>2</th>\n",
       "      <td>2</td>\n",
       "      <td>dilip.surendran@gmail.com</td>\n",
       "      <td>['Software Services', '  Internet</td>\n",
       "      <td>6.0</td>\n",
       "      <td>927000.0</td>\n",
       "      <td>Bengaluru</td>\n",
       "      <td>Staff Process Engineer</td>\n",
       "    </tr>\n",
       "    <tr>\n",
       "      <th>3</th>\n",
       "      <td>3</td>\n",
       "      <td>jagdish.rout@yahoo.com</td>\n",
       "      <td>['Others']</td>\n",
       "      <td>8.0</td>\n",
       "      <td>1080000.0</td>\n",
       "      <td>Bengaluru</td>\n",
       "      <td>Staff Process Engineer</td>\n",
       "    </tr>\n",
       "    <tr>\n",
       "      <th>4</th>\n",
       "      <td>4</td>\n",
       "      <td>santhu7159@gmail.com</td>\n",
       "      <td>['Software Services', '  Internet</td>\n",
       "      <td>6.0</td>\n",
       "      <td>765000.0</td>\n",
       "      <td>Bengaluru</td>\n",
       "      <td>Staff Process Engineer</td>\n",
       "    </tr>\n",
       "  </tbody>\n",
       "</table>\n",
       "</div>"
      ],
      "text/plain": [
       "   Unnamed: 0                   Email Id  \\\n",
       "0           0   vel.manikandan@gmail.com   \n",
       "1           1      vishavishal@gmail.com   \n",
       "2           2  dilip.surendran@gmail.com   \n",
       "3           3     jagdish.rout@yahoo.com   \n",
       "4           4       santhu7159@gmail.com   \n",
       "\n",
       "                                            Industry  Work Experience  \\\n",
       "0                                    ['Manufacturing             10.0   \n",
       "1  ['Software Services', '  IT-Software', '  Tele...              8.0   \n",
       "2                  ['Software Services', '  Internet              6.0   \n",
       "3                                         ['Others']              8.0   \n",
       "4                  ['Software Services', '  Internet              6.0   \n",
       "\n",
       "   Current Salary Current Location     Technical Specialist  \n",
       "0       1000000.0        Bengaluru  Staff Process Engineer   \n",
       "1       1800000.0        Bengaluru  Staff Process Engineer   \n",
       "2        927000.0        Bengaluru  Staff Process Engineer   \n",
       "3       1080000.0        Bengaluru  Staff Process Engineer   \n",
       "4        765000.0        Bengaluru  Staff Process Engineer   "
      ]
     },
     "execution_count": 55,
     "metadata": {},
     "output_type": "execute_result"
    }
   ],
   "source": [
    "salary_pred.head()"
   ]
  },
  {
   "cell_type": "code",
   "execution_count": 56,
   "metadata": {},
   "outputs": [
    {
     "data": {
      "text/plain": [
       "'business process engineer'"
      ]
     },
     "execution_count": 56,
     "metadata": {},
     "output_type": "execute_result"
    }
   ],
   "source": [
    "'Business Process Engineer'.lower()"
   ]
  },
  {
   "cell_type": "code",
   "execution_count": 57,
   "metadata": {},
   "outputs": [],
   "source": [
    "salary_pred['Technical Specialist'] = salary_pred['Technical Specialist'].str.lower()"
   ]
  },
  {
   "cell_type": "code",
   "execution_count": 58,
   "metadata": {},
   "outputs": [
    {
     "name": "stderr",
     "output_type": "stream",
     "text": [
      "C:\\Users\\User\\Anaconda3\\lib\\site-packages\\ipykernel_launcher.py:3: SettingWithCopyWarning: \n",
      "A value is trying to be set on a copy of a slice from a DataFrame\n",
      "\n",
      "See the caveats in the documentation: http://pandas.pydata.org/pandas-docs/stable/indexing.html#indexing-view-versus-copy\n",
      "  This is separate from the ipykernel package so we can avoid doing imports until\n"
     ]
    }
   ],
   "source": [
    "for i in range(salary_pred.shape[0]):\n",
    "    words = str(salary_pred['Technical Specialist'][i]).lower().split()\n",
    "    salary_pred['Technical Specialist'][i] = \" \".join( words )"
   ]
  },
  {
   "cell_type": "code",
   "execution_count": 59,
   "metadata": {},
   "outputs": [],
   "source": [
    "salary_pred = salary_pred[salary_pred['Technical Specialist'] != 'full time employed' ]\n",
    "salary_pred= salary_pred[salary_pred['Technical Specialist'] != 'nan' ]\n",
    "salary_pred = salary_pred[salary_pred['Technical Specialist'] != 'currently unemployed' ]"
   ]
  },
  {
   "cell_type": "code",
   "execution_count": 60,
   "metadata": {},
   "outputs": [],
   "source": [
    "#Replace Sr to Senior\n",
    "salary_pred['Technical Specialist'] = salary_pred['Technical Specialist'].str.replace('manager', 'project manager')\n",
    "salary_pred['Technical Specialist'] = salary_pred['Technical Specialist'].str.replace('team lead', 'tech lead')\n",
    "salary_pred['Technical Specialist'] = salary_pred['Technical Specialist'].str.replace('seniour', 'senior')\n",
    "salary_pred['Technical Specialist'] = salary_pred['Technical Specialist'].str.replace('sr', 'senior')\n",
    "salary_pred['Technical Specialist'] = salary_pred['Technical Specialist'].str.replace('Supervisor', 'supervisor')\n",
    "salary_pred['Technical Specialist'] = salary_pred['Technical Specialist'].str.replace('Safety', 'safety')\n",
    "salary_pred['Technical Specialist'] = salary_pred['Technical Specialist'].str.replace('senior project project manager', 'project manager')\n",
    "salary_pred['Technical Specialist'] = salary_pred['Technical Specialist'].str.replace('project project manager', 'project manager')\n",
    "\n",
    "salary_pred['Technical Specialist'] = salary_pred['Technical Specialist'].str.replace('senior ', '')\n",
    "salary_pred['Technical Specialist'] = salary_pred['Technical Specialist'].str.replace('experienced ', '')\n",
    "salary_pred['Technical Specialist'] = salary_pred['Technical Specialist'].str.replace('project project manager', 'project manager')\n",
    "salary_pred['Technical Specialist'] = salary_pred['Technical Specialist'].str.replace('engineering project manager', 'project manager')\n",
    "\n",
    "salary_pred['Technical Specialist'] = salary_pred['Technical Specialist'].str.replace('lead engineer', 'engineer')\n",
    "salary_pred['Technical Specialist'] = salary_pred['Technical Specialist'].str.replace('project lead', 'tech lead')\n",
    "salary_pred['Technical Specialist'] = salary_pred['Technical Specialist'].str.replace('project engineer', 'project manager')\n",
    "salary_pred['Technical Specialist'] = salary_pred['Technical Specialist'].str.replace('lead engineer', 'engineer')\n",
    "salary_pred['Technical Specialist'] = salary_pred['Technical Specialist'].str.replace('system engineer', 'engineer')\n",
    "\n",
    "salary_pred['Technical Specialist'] = salary_pred['Technical Specialist'].str.replace('tech lead', 'technical leader')\n",
    "#df['Designation'] = df['Designation'].str.replace('technical lead', 'technical leader')\n",
    "salary_pred['Technical Specialist'] = salary_pred['Technical Specialist'].str.replace('system engineer', 'engineer')\n",
    "salary_pred['Technical Specialist'] = salary_pred['Technical Specialist'].str.replace('assistant ', '')\n",
    "\n",
    "\n",
    "salary_pred['Technical Specialist'] = salary_pred['Technical Specialist'].str.replace('technicalnical ', '')\n",
    "salary_pred['Technical Specialist'] = salary_pred['Technical Specialist'].str.replace('program project manager', 'project manager')\n",
    "salary_pred['Technical Specialist'] = salary_pred['Technical Specialist'].str.replace('leaderer', 'leader')\n",
    "salary_pred['Technical Specialist'] = salary_pred['Technical Specialist'].str.replace('associate ', '')"
   ]
  },
  {
   "cell_type": "code",
   "execution_count": 61,
   "metadata": {},
   "outputs": [],
   "source": [
    "salary_pred = salary_pred[salary_pred['Technical Specialist'] != 'associate' ]"
   ]
  },
  {
   "cell_type": "code",
   "execution_count": 62,
   "metadata": {},
   "outputs": [],
   "source": [
    "salary_pred['Technical Specialist'] = salary_pred['Technical Specialist'].str.replace('software developer', 'software engineer')\n",
    "salary_pred['Technical Specialist'] = salary_pred['Technical Specialist'].str.replace('hardware design engineer', 'hardware engineer')\n",
    "salary_pred['Technical Specialist'] = salary_pred['Technical Specialist'].str.replace('general project manager - projects', 'project manager')\n",
    "\n",
    "salary_pred['Technical Specialist'] = salary_pred['Technical Specialist'].str.replace('test technician', 'test engineer')\n",
    "salary_pred['Technical Specialist'] = salary_pred['Technical Specialist'].str.replace('safety officer', 'software supervisor')\n",
    "salary_pred['Technical Specialist'] = salary_pred['Technical Specialist'].str.replace(' design', '')\n",
    "salary_pred['Technical Specialist'] = salary_pred['Technical Specialist'].str.replace('software supervisor', 'software engineer')\n",
    "salary_pred['Technical Specialist'] = salary_pred['Technical Specialist'].str.replace('test lead', 'test engineer')"
   ]
  },
  {
   "cell_type": "code",
   "execution_count": 63,
   "metadata": {},
   "outputs": [
    {
     "data": {
      "text/plain": [
       "staff process engineer                                       1500\n",
       "process engineer                                             1500\n",
       "network engineer                                             1460\n",
       "quality engineer                                              944\n",
       "reservoir engineer                                            941\n",
       "project manager                                               164\n",
       "technical leader                                              102\n",
       "technical lead                                                 76\n",
       "software engineer                                              61\n",
       "consultant                                                     60\n",
       "technical project manager                                      28\n",
       "engineer                                                       20\n",
       "test engineer                                                  15\n",
       "solution architect                                             13\n",
       "architect                                                      13\n",
       "technical architect                                            13\n",
       "lead consultant                                                13\n",
       "principal consultant                                           11\n",
       "module lead                                                    10\n",
       "test project manager                                           10\n",
       "qa engineer                                                    10\n",
       "qa lead                                                        10\n",
       "technical specialist                                            9\n",
       "business analyst                                                8\n",
       "supplier quality engineer                                       8\n",
       "member technical staff                                          8\n",
       "developer                                                       8\n",
       "qa project manager                                              8\n",
       "specialist                                                      7\n",
       "quality assurance engineer                                      7\n",
       "                                                             ... \n",
       "software engineer consultant/ technical leader                  1\n",
       "hr consultant                                                   1\n",
       "quality inspection engineer                                     1\n",
       "release engineer grade                                          1\n",
       "project manager-structures                                      1\n",
       "advisory system analyst                                         1\n",
       "test automation lead                                            1\n",
       "principal technical consultant                                  1\n",
       "delivery project manager ,europe region                         1\n",
       "delivery lead at nesle and os db migration hana certified       1\n",
       "principal developer                                             1\n",
       "java developer                                                  1\n",
       "hvac project manager                                            1\n",
       "technical test architect                                        1\n",
       "software engineer - level 3                                     1\n",
       "principal applications engineer                                 1\n",
       "customer quality engineer                                       1\n",
       "technical lead -qa                                              1\n",
       "senior.corproate trainer                                        1\n",
       "software engineer - php                                         1\n",
       "qa engineer lead                                                1\n",
       "field quality engineer,civil engineer                           1\n",
       "senior. consultant (sap basis support/implementation)           1\n",
       "quality assurance -graduate engineer trainee                    1\n",
       "developer and test engineer                                     1\n",
       "audio quality engineer                                          1\n",
       "lead technical consultant                                       1\n",
       "technical lead software development                             1\n",
       "production/quality engineer                                     1\n",
       "test engineer analyst                                           1\n",
       "Name: Technical Specialist, Length: 715, dtype: int64"
      ]
     },
     "execution_count": 63,
     "metadata": {},
     "output_type": "execute_result"
    }
   ],
   "source": [
    "salary_pred['Technical Specialist'].value_counts()"
   ]
  },
  {
   "cell_type": "code",
   "execution_count": 64,
   "metadata": {},
   "outputs": [],
   "source": [
    "count = salary_pred['Technical Specialist'].value_counts()"
   ]
  },
  {
   "cell_type": "code",
   "execution_count": 65,
   "metadata": {},
   "outputs": [
    {
     "data": {
      "text/plain": [
       "staff process engineer    1500\n",
       "process engineer          1500\n",
       "network engineer          1460\n",
       "quality engineer           944\n",
       "reservoir engineer         941\n",
       "project manager            164\n",
       "technical leader           102\n",
       "Name: Technical Specialist, dtype: int64"
      ]
     },
     "execution_count": 65,
     "metadata": {},
     "output_type": "execute_result"
    }
   ],
   "source": [
    "count[count >= 100]"
   ]
  },
  {
   "cell_type": "code",
   "execution_count": 66,
   "metadata": {},
   "outputs": [],
   "source": [
    "dfFresh = salary_pred[salary_pred['Technical Specialist'].isin(count[count >= 100].index)]"
   ]
  },
  {
   "cell_type": "code",
   "execution_count": 67,
   "metadata": {},
   "outputs": [
    {
     "data": {
      "text/plain": [
       "(6611, 7)"
      ]
     },
     "execution_count": 67,
     "metadata": {},
     "output_type": "execute_result"
    }
   ],
   "source": [
    "dfFresh.shape"
   ]
  },
  {
   "cell_type": "code",
   "execution_count": 68,
   "metadata": {},
   "outputs": [
    {
     "data": {
      "text/plain": [
       "staff process engineer    1500\n",
       "process engineer          1500\n",
       "network engineer          1460\n",
       "quality engineer           944\n",
       "reservoir engineer         941\n",
       "project manager            164\n",
       "technical leader           102\n",
       "Name: Technical Specialist, dtype: int64"
      ]
     },
     "execution_count": 68,
     "metadata": {},
     "output_type": "execute_result"
    }
   ],
   "source": [
    "dfFresh['Technical Specialist'].value_counts()"
   ]
  },
  {
   "cell_type": "code",
   "execution_count": 69,
   "metadata": {},
   "outputs": [],
   "source": [
    "#Save to csv - temporary\n",
    "salary_pred.to_csv(\"DataModel.csv\",index=False)"
   ]
  },
  {
   "cell_type": "code",
   "execution_count": 70,
   "metadata": {},
   "outputs": [
    {
     "data": {
      "text/html": [
       "<div>\n",
       "<style scoped>\n",
       "    .dataframe tbody tr th:only-of-type {\n",
       "        vertical-align: middle;\n",
       "    }\n",
       "\n",
       "    .dataframe tbody tr th {\n",
       "        vertical-align: top;\n",
       "    }\n",
       "\n",
       "    .dataframe thead th {\n",
       "        text-align: right;\n",
       "    }\n",
       "</style>\n",
       "<table border=\"1\" class=\"dataframe\">\n",
       "  <thead>\n",
       "    <tr style=\"text-align: right;\">\n",
       "      <th></th>\n",
       "      <th>Unnamed: 0</th>\n",
       "      <th>Email Id</th>\n",
       "      <th>Industry</th>\n",
       "      <th>Work Experience</th>\n",
       "      <th>Current Location</th>\n",
       "      <th>Technical Specialist</th>\n",
       "    </tr>\n",
       "  </thead>\n",
       "  <tbody>\n",
       "    <tr>\n",
       "      <th>0</th>\n",
       "      <td>0</td>\n",
       "      <td>vel.manikandan@gmail.com</td>\n",
       "      <td>['Manufacturing</td>\n",
       "      <td>10.0</td>\n",
       "      <td>Bengaluru</td>\n",
       "      <td>staff process engineer</td>\n",
       "    </tr>\n",
       "    <tr>\n",
       "      <th>1</th>\n",
       "      <td>1</td>\n",
       "      <td>vishavishal@gmail.com</td>\n",
       "      <td>['Software Services', '  IT-Software', '  Tele...</td>\n",
       "      <td>8.0</td>\n",
       "      <td>Bengaluru</td>\n",
       "      <td>staff process engineer</td>\n",
       "    </tr>\n",
       "    <tr>\n",
       "      <th>2</th>\n",
       "      <td>2</td>\n",
       "      <td>dilip.surendran@gmail.com</td>\n",
       "      <td>['Software Services', '  Internet</td>\n",
       "      <td>6.0</td>\n",
       "      <td>Bengaluru</td>\n",
       "      <td>staff process engineer</td>\n",
       "    </tr>\n",
       "    <tr>\n",
       "      <th>3</th>\n",
       "      <td>3</td>\n",
       "      <td>jagdish.rout@yahoo.com</td>\n",
       "      <td>['Others']</td>\n",
       "      <td>8.0</td>\n",
       "      <td>Bengaluru</td>\n",
       "      <td>staff process engineer</td>\n",
       "    </tr>\n",
       "    <tr>\n",
       "      <th>4</th>\n",
       "      <td>4</td>\n",
       "      <td>santhu7159@gmail.com</td>\n",
       "      <td>['Software Services', '  Internet</td>\n",
       "      <td>6.0</td>\n",
       "      <td>Bengaluru</td>\n",
       "      <td>staff process engineer</td>\n",
       "    </tr>\n",
       "    <tr>\n",
       "      <th>5</th>\n",
       "      <td>5</td>\n",
       "      <td>thapamann@gmail.com</td>\n",
       "      <td>['Software Services', '  Internet</td>\n",
       "      <td>6.0</td>\n",
       "      <td>Bengaluru</td>\n",
       "      <td>staff process engineer</td>\n",
       "    </tr>\n",
       "    <tr>\n",
       "      <th>6</th>\n",
       "      <td>6</td>\n",
       "      <td>jacob_thomas1@yahoo.com</td>\n",
       "      <td>['Software Services', '  Internet</td>\n",
       "      <td>24.0</td>\n",
       "      <td>Bengaluru</td>\n",
       "      <td>staff process engineer</td>\n",
       "    </tr>\n",
       "    <tr>\n",
       "      <th>7</th>\n",
       "      <td>7</td>\n",
       "      <td>jagannathmbhat@gmail.com</td>\n",
       "      <td>['Software Services', '  Internet</td>\n",
       "      <td>5.0</td>\n",
       "      <td>Bengaluru</td>\n",
       "      <td>staff process engineer</td>\n",
       "    </tr>\n",
       "    <tr>\n",
       "      <th>8</th>\n",
       "      <td>8</td>\n",
       "      <td>siva.8u8@gmail.com</td>\n",
       "      <td>['Manufacturing</td>\n",
       "      <td>7.0</td>\n",
       "      <td>Bengaluru</td>\n",
       "      <td>staff process engineer</td>\n",
       "    </tr>\n",
       "    <tr>\n",
       "      <th>9</th>\n",
       "      <td>9</td>\n",
       "      <td>namdeo.devendra5@gmail.com</td>\n",
       "      <td>['Software Services', '  Internet</td>\n",
       "      <td>5.0</td>\n",
       "      <td>Bengaluru</td>\n",
       "      <td>staff process engineer</td>\n",
       "    </tr>\n",
       "    <tr>\n",
       "      <th>10</th>\n",
       "      <td>10</td>\n",
       "      <td>prempc1976@gmail.com</td>\n",
       "      <td>['Engineering</td>\n",
       "      <td>10.0</td>\n",
       "      <td>Bengaluru</td>\n",
       "      <td>staff process engineer</td>\n",
       "    </tr>\n",
       "    <tr>\n",
       "      <th>11</th>\n",
       "      <td>11</td>\n",
       "      <td>sameer.senapati@gmail.com</td>\n",
       "      <td>['Software Services']</td>\n",
       "      <td>9.0</td>\n",
       "      <td>Bengaluru</td>\n",
       "      <td>staff process engineer</td>\n",
       "    </tr>\n",
       "    <tr>\n",
       "      <th>12</th>\n",
       "      <td>12</td>\n",
       "      <td>kalpi877@gmail.com</td>\n",
       "      <td>['Software Services', '  IT-Software']</td>\n",
       "      <td>7.0</td>\n",
       "      <td>Bengaluru</td>\n",
       "      <td>staff process engineer</td>\n",
       "    </tr>\n",
       "    <tr>\n",
       "      <th>13</th>\n",
       "      <td>13</td>\n",
       "      <td>raghu.yvr@gmail.com</td>\n",
       "      <td>['Manufacturing</td>\n",
       "      <td>9.0</td>\n",
       "      <td>Bengaluru</td>\n",
       "      <td>staff process engineer</td>\n",
       "    </tr>\n",
       "    <tr>\n",
       "      <th>14</th>\n",
       "      <td>14</td>\n",
       "      <td>abhijeet2035@gmail.com</td>\n",
       "      <td>['Software Services', '  IT-Software', '  Tele...</td>\n",
       "      <td>9.0</td>\n",
       "      <td>Bengaluru</td>\n",
       "      <td>staff process engineer</td>\n",
       "    </tr>\n",
       "    <tr>\n",
       "      <th>15</th>\n",
       "      <td>15</td>\n",
       "      <td>group4ep@gmail.com</td>\n",
       "      <td>['Manufacturing</td>\n",
       "      <td>7.0</td>\n",
       "      <td>Bengaluru</td>\n",
       "      <td>staff process engineer</td>\n",
       "    </tr>\n",
       "    <tr>\n",
       "      <th>16</th>\n",
       "      <td>16</td>\n",
       "      <td>deepthi2210@gmail.com</td>\n",
       "      <td>['Others']</td>\n",
       "      <td>8.0</td>\n",
       "      <td>Bengaluru</td>\n",
       "      <td>staff process engineer</td>\n",
       "    </tr>\n",
       "    <tr>\n",
       "      <th>17</th>\n",
       "      <td>17</td>\n",
       "      <td>bhaskartr@gmail.com</td>\n",
       "      <td>['Manufacturing</td>\n",
       "      <td>9.0</td>\n",
       "      <td>Bengaluru</td>\n",
       "      <td>staff process engineer</td>\n",
       "    </tr>\n",
       "    <tr>\n",
       "      <th>18</th>\n",
       "      <td>18</td>\n",
       "      <td>bhavanikm9@gmail.com</td>\n",
       "      <td>['Others']</td>\n",
       "      <td>7.0</td>\n",
       "      <td>Bengaluru</td>\n",
       "      <td>staff process engineer</td>\n",
       "    </tr>\n",
       "    <tr>\n",
       "      <th>19</th>\n",
       "      <td>19</td>\n",
       "      <td>sowmyarao_liboct@yahoo.com</td>\n",
       "      <td>['Architecture</td>\n",
       "      <td>14.0</td>\n",
       "      <td>Bengaluru</td>\n",
       "      <td>staff process engineer</td>\n",
       "    </tr>\n",
       "    <tr>\n",
       "      <th>20</th>\n",
       "      <td>20</td>\n",
       "      <td>uthika2004@gmail.com</td>\n",
       "      <td>['Internet</td>\n",
       "      <td>4.0</td>\n",
       "      <td>Bengaluru</td>\n",
       "      <td>staff process engineer</td>\n",
       "    </tr>\n",
       "    <tr>\n",
       "      <th>21</th>\n",
       "      <td>21</td>\n",
       "      <td>barera.lingaraja@gmail.com</td>\n",
       "      <td>['Manufacturing</td>\n",
       "      <td>15.0</td>\n",
       "      <td>Bengaluru</td>\n",
       "      <td>staff process engineer</td>\n",
       "    </tr>\n",
       "    <tr>\n",
       "      <th>22</th>\n",
       "      <td>22</td>\n",
       "      <td>netramca@gmail.com</td>\n",
       "      <td>['Software Services', '  IT-Software']</td>\n",
       "      <td>7.0</td>\n",
       "      <td>Bengaluru</td>\n",
       "      <td>staff process engineer</td>\n",
       "    </tr>\n",
       "    <tr>\n",
       "      <th>23</th>\n",
       "      <td>23</td>\n",
       "      <td>manikandan.b34@gmail.com</td>\n",
       "      <td>['Internet</td>\n",
       "      <td>6.0</td>\n",
       "      <td>Bengaluru</td>\n",
       "      <td>staff process engineer</td>\n",
       "    </tr>\n",
       "    <tr>\n",
       "      <th>24</th>\n",
       "      <td>24</td>\n",
       "      <td>syedabdulfaheem@gmail.com</td>\n",
       "      <td>['Consulting Services', '  Software Services']</td>\n",
       "      <td>16.0</td>\n",
       "      <td>Bengaluru</td>\n",
       "      <td>staff process engineer</td>\n",
       "    </tr>\n",
       "    <tr>\n",
       "      <th>25</th>\n",
       "      <td>25</td>\n",
       "      <td>avinashbk.021@gmail.com</td>\n",
       "      <td>['Others']</td>\n",
       "      <td>8.0</td>\n",
       "      <td>Bengaluru</td>\n",
       "      <td>staff process engineer</td>\n",
       "    </tr>\n",
       "    <tr>\n",
       "      <th>26</th>\n",
       "      <td>26</td>\n",
       "      <td>roshan.mishra09@gmail.com</td>\n",
       "      <td>['Software Services', '  Internet</td>\n",
       "      <td>7.0</td>\n",
       "      <td>Bengaluru</td>\n",
       "      <td>staff process engineer</td>\n",
       "    </tr>\n",
       "    <tr>\n",
       "      <th>27</th>\n",
       "      <td>27</td>\n",
       "      <td>muthu.civil@gmail.com</td>\n",
       "      <td>['Engineering</td>\n",
       "      <td>16.0</td>\n",
       "      <td>Bengaluru</td>\n",
       "      <td>staff process engineer</td>\n",
       "    </tr>\n",
       "    <tr>\n",
       "      <th>28</th>\n",
       "      <td>28</td>\n",
       "      <td>yuve2591@gmail.com</td>\n",
       "      <td>['Software Services', '  IT-Software']</td>\n",
       "      <td>8.0</td>\n",
       "      <td>Bengaluru</td>\n",
       "      <td>staff process engineer</td>\n",
       "    </tr>\n",
       "    <tr>\n",
       "      <th>29</th>\n",
       "      <td>29</td>\n",
       "      <td>amreetacherian@yahoo.com</td>\n",
       "      <td>['Software Services', '  IT-Software', '  Tele...</td>\n",
       "      <td>6.0</td>\n",
       "      <td>Bengaluru</td>\n",
       "      <td>staff process engineer</td>\n",
       "    </tr>\n",
       "    <tr>\n",
       "      <th>...</th>\n",
       "      <td>...</td>\n",
       "      <td>...</td>\n",
       "      <td>...</td>\n",
       "      <td>...</td>\n",
       "      <td>...</td>\n",
       "      <td>...</td>\n",
       "    </tr>\n",
       "    <tr>\n",
       "      <th>7968</th>\n",
       "      <td>7968</td>\n",
       "      <td>rakesharamaiah@gmail.com</td>\n",
       "      <td>['Manufacturing</td>\n",
       "      <td>9.0</td>\n",
       "      <td>Bengaluru</td>\n",
       "      <td>supplier quality engineer</td>\n",
       "    </tr>\n",
       "    <tr>\n",
       "      <th>7969</th>\n",
       "      <td>7969</td>\n",
       "      <td>maheshj03121995@gmail.com</td>\n",
       "      <td>['Manufacturing</td>\n",
       "      <td>13.0</td>\n",
       "      <td>Bengaluru</td>\n",
       "      <td>quality engineer</td>\n",
       "    </tr>\n",
       "    <tr>\n",
       "      <th>7970</th>\n",
       "      <td>7970</td>\n",
       "      <td>likanraj@gmail.com</td>\n",
       "      <td>['Manufacturing</td>\n",
       "      <td>2.0</td>\n",
       "      <td>Bengaluru</td>\n",
       "      <td>quality engineer</td>\n",
       "    </tr>\n",
       "    <tr>\n",
       "      <th>7971</th>\n",
       "      <td>7971</td>\n",
       "      <td>nareshsana62@gmail.com</td>\n",
       "      <td>['Manufacturing</td>\n",
       "      <td>5.0</td>\n",
       "      <td>Bengaluru</td>\n",
       "      <td>quality engineer</td>\n",
       "    </tr>\n",
       "    <tr>\n",
       "      <th>7972</th>\n",
       "      <td>7972</td>\n",
       "      <td>gandiboina91@gmail.com</td>\n",
       "      <td>['Manufacturing</td>\n",
       "      <td>3.0</td>\n",
       "      <td>Chennai</td>\n",
       "      <td>fresher</td>\n",
       "    </tr>\n",
       "    <tr>\n",
       "      <th>7973</th>\n",
       "      <td>7973</td>\n",
       "      <td>anbu.vinoth9830@gmail.com</td>\n",
       "      <td>['Manufacturing</td>\n",
       "      <td>2.0</td>\n",
       "      <td>Bengaluru</td>\n",
       "      <td>get</td>\n",
       "    </tr>\n",
       "    <tr>\n",
       "      <th>7974</th>\n",
       "      <td>7974</td>\n",
       "      <td>naveenamd99@gmail.com</td>\n",
       "      <td>['Manufacturing</td>\n",
       "      <td>5.0</td>\n",
       "      <td>Chennai</td>\n",
       "      <td>quality engineer</td>\n",
       "    </tr>\n",
       "    <tr>\n",
       "      <th>7975</th>\n",
       "      <td>7975</td>\n",
       "      <td>thirumoorthygk@gmail.com</td>\n",
       "      <td>['Manufacturing</td>\n",
       "      <td>4.0</td>\n",
       "      <td>Coimbatore</td>\n",
       "      <td>quality engineer</td>\n",
       "    </tr>\n",
       "    <tr>\n",
       "      <th>7976</th>\n",
       "      <td>7976</td>\n",
       "      <td>bhimujkd@gmail.com</td>\n",
       "      <td>['Manufacturing</td>\n",
       "      <td>3.0</td>\n",
       "      <td>Hyderabad</td>\n",
       "      <td>quality engineer</td>\n",
       "    </tr>\n",
       "    <tr>\n",
       "      <th>7977</th>\n",
       "      <td>7977</td>\n",
       "      <td>vijumuddanna@gmail.com</td>\n",
       "      <td>['Manufacturing</td>\n",
       "      <td>1.0</td>\n",
       "      <td>Bengaluru</td>\n",
       "      <td>quality engineer</td>\n",
       "    </tr>\n",
       "    <tr>\n",
       "      <th>7978</th>\n",
       "      <td>7978</td>\n",
       "      <td>ga.umesha429@gmail.com</td>\n",
       "      <td>['Internet</td>\n",
       "      <td>15.0</td>\n",
       "      <td>Bengaluru</td>\n",
       "      <td>production supervisor</td>\n",
       "    </tr>\n",
       "    <tr>\n",
       "      <th>7979</th>\n",
       "      <td>7979</td>\n",
       "      <td>viveks9595@gmail.com</td>\n",
       "      <td>['Manufacturing</td>\n",
       "      <td>11.0</td>\n",
       "      <td>Bengaluru</td>\n",
       "      <td>quality engineer</td>\n",
       "    </tr>\n",
       "    <tr>\n",
       "      <th>7980</th>\n",
       "      <td>7980</td>\n",
       "      <td>chandru_bemech@rediffmail.com</td>\n",
       "      <td>['Manufacturing</td>\n",
       "      <td>3.0</td>\n",
       "      <td>Chennai</td>\n",
       "      <td>quality engineer</td>\n",
       "    </tr>\n",
       "    <tr>\n",
       "      <th>7981</th>\n",
       "      <td>7981</td>\n",
       "      <td>ashokkumar.kga@gmail.com</td>\n",
       "      <td>['Manufacturing</td>\n",
       "      <td>1.0</td>\n",
       "      <td>Chennai</td>\n",
       "      <td>quality engineer</td>\n",
       "    </tr>\n",
       "    <tr>\n",
       "      <th>7983</th>\n",
       "      <td>7983</td>\n",
       "      <td>chaitragpc@gmail.com</td>\n",
       "      <td>['Manufacturing</td>\n",
       "      <td>1.0</td>\n",
       "      <td>Chennai</td>\n",
       "      <td>quality engineer</td>\n",
       "    </tr>\n",
       "    <tr>\n",
       "      <th>7984</th>\n",
       "      <td>7984</td>\n",
       "      <td>sunsuni441@gmail.com</td>\n",
       "      <td>['Manufacturing</td>\n",
       "      <td>1.0</td>\n",
       "      <td>Bengaluru</td>\n",
       "      <td>quality engineer</td>\n",
       "    </tr>\n",
       "    <tr>\n",
       "      <th>7985</th>\n",
       "      <td>7985</td>\n",
       "      <td>sathishqa.kmf@gmail.com</td>\n",
       "      <td>['Manufacturing</td>\n",
       "      <td>1.0</td>\n",
       "      <td>Bengaluru</td>\n",
       "      <td>quality engineer</td>\n",
       "    </tr>\n",
       "    <tr>\n",
       "      <th>7986</th>\n",
       "      <td>7986</td>\n",
       "      <td>ssenthilsv@gmail.com</td>\n",
       "      <td>['Manufacturing</td>\n",
       "      <td>2.0</td>\n",
       "      <td>Chennai</td>\n",
       "      <td>trainee</td>\n",
       "    </tr>\n",
       "    <tr>\n",
       "      <th>7987</th>\n",
       "      <td>7987</td>\n",
       "      <td>srivignesh393@gmail.com</td>\n",
       "      <td>['Manufacturing</td>\n",
       "      <td>1.0</td>\n",
       "      <td>Bengaluru</td>\n",
       "      <td>quality engineer - piping</td>\n",
       "    </tr>\n",
       "    <tr>\n",
       "      <th>7988</th>\n",
       "      <td>7988</td>\n",
       "      <td>mdzahoorkhan@gmail.com</td>\n",
       "      <td>['Software Services', '  Internet</td>\n",
       "      <td>13.0</td>\n",
       "      <td>Bengaluru</td>\n",
       "      <td>senior. quality engineer</td>\n",
       "    </tr>\n",
       "    <tr>\n",
       "      <th>7989</th>\n",
       "      <td>7989</td>\n",
       "      <td>venkatesh.v2410@gmail.com</td>\n",
       "      <td>['Software Services', '  Internet</td>\n",
       "      <td>0.5</td>\n",
       "      <td>Chennai</td>\n",
       "      <td>fresher</td>\n",
       "    </tr>\n",
       "    <tr>\n",
       "      <th>7990</th>\n",
       "      <td>7990</td>\n",
       "      <td>rbk0407@gmail.com</td>\n",
       "      <td>['Software Services', '  Internet</td>\n",
       "      <td>5.0</td>\n",
       "      <td>Chennai</td>\n",
       "      <td>quality engineer</td>\n",
       "    </tr>\n",
       "    <tr>\n",
       "      <th>7991</th>\n",
       "      <td>7991</td>\n",
       "      <td>d19santhosh@gmail.com</td>\n",
       "      <td>['Manufacturing</td>\n",
       "      <td>4.0</td>\n",
       "      <td>Erode</td>\n",
       "      <td>quality engineer</td>\n",
       "    </tr>\n",
       "    <tr>\n",
       "      <th>7992</th>\n",
       "      <td>7992</td>\n",
       "      <td>bharathguna.v@gmail.com</td>\n",
       "      <td>['Manufacturing</td>\n",
       "      <td>2.0</td>\n",
       "      <td>Chennai</td>\n",
       "      <td>production planning and control engineer</td>\n",
       "    </tr>\n",
       "    <tr>\n",
       "      <th>7993</th>\n",
       "      <td>7993</td>\n",
       "      <td>vinodkumarsubramanium@gmail.com</td>\n",
       "      <td>['Manufacturing</td>\n",
       "      <td>9.0</td>\n",
       "      <td>Bengaluru</td>\n",
       "      <td>quality engineer</td>\n",
       "    </tr>\n",
       "    <tr>\n",
       "      <th>7994</th>\n",
       "      <td>7994</td>\n",
       "      <td>prasanthsathian@gmail.com</td>\n",
       "      <td>['Manufacturing</td>\n",
       "      <td>10.0</td>\n",
       "      <td>Bengaluru</td>\n",
       "      <td>quality engineer</td>\n",
       "    </tr>\n",
       "    <tr>\n",
       "      <th>7995</th>\n",
       "      <td>7995</td>\n",
       "      <td>puneeth.ssmp@gmail.com</td>\n",
       "      <td>['Software Services', '  Internet</td>\n",
       "      <td>4.0</td>\n",
       "      <td>Bengaluru</td>\n",
       "      <td>quality engineer</td>\n",
       "    </tr>\n",
       "    <tr>\n",
       "      <th>7996</th>\n",
       "      <td>7996</td>\n",
       "      <td>kaashu09@gmail.com</td>\n",
       "      <td>['Manufacturing</td>\n",
       "      <td>6.0</td>\n",
       "      <td>Bengaluru</td>\n",
       "      <td>production engineer &amp; quality engineer</td>\n",
       "    </tr>\n",
       "    <tr>\n",
       "      <th>7997</th>\n",
       "      <td>7997</td>\n",
       "      <td>sureshkumarinbarajan@gmail.com</td>\n",
       "      <td>['Manufacturing</td>\n",
       "      <td>3.0</td>\n",
       "      <td>Chennai</td>\n",
       "      <td>quality engineer</td>\n",
       "    </tr>\n",
       "    <tr>\n",
       "      <th>7999</th>\n",
       "      <td>7999</td>\n",
       "      <td>jayasoorya.kn@gmail.com</td>\n",
       "      <td>['Manufacturing</td>\n",
       "      <td>4.0</td>\n",
       "      <td>KERALA</td>\n",
       "      <td>fresher</td>\n",
       "    </tr>\n",
       "  </tbody>\n",
       "</table>\n",
       "<p>7909 rows × 6 columns</p>\n",
       "</div>"
      ],
      "text/plain": [
       "      Unnamed: 0                         Email Id  \\\n",
       "0              0         vel.manikandan@gmail.com   \n",
       "1              1            vishavishal@gmail.com   \n",
       "2              2        dilip.surendran@gmail.com   \n",
       "3              3           jagdish.rout@yahoo.com   \n",
       "4              4             santhu7159@gmail.com   \n",
       "5              5              thapamann@gmail.com   \n",
       "6              6          jacob_thomas1@yahoo.com   \n",
       "7              7         jagannathmbhat@gmail.com   \n",
       "8              8               siva.8u8@gmail.com   \n",
       "9              9       namdeo.devendra5@gmail.com   \n",
       "10            10             prempc1976@gmail.com   \n",
       "11            11        sameer.senapati@gmail.com   \n",
       "12            12               kalpi877@gmail.com   \n",
       "13            13              raghu.yvr@gmail.com   \n",
       "14            14           abhijeet2035@gmail.com   \n",
       "15            15               group4ep@gmail.com   \n",
       "16            16            deepthi2210@gmail.com   \n",
       "17            17              bhaskartr@gmail.com   \n",
       "18            18             bhavanikm9@gmail.com   \n",
       "19            19       sowmyarao_liboct@yahoo.com   \n",
       "20            20             uthika2004@gmail.com   \n",
       "21            21       barera.lingaraja@gmail.com   \n",
       "22            22               netramca@gmail.com   \n",
       "23            23         manikandan.b34@gmail.com   \n",
       "24            24        syedabdulfaheem@gmail.com   \n",
       "25            25          avinashbk.021@gmail.com   \n",
       "26            26        roshan.mishra09@gmail.com   \n",
       "27            27            muthu.civil@gmail.com   \n",
       "28            28               yuve2591@gmail.com   \n",
       "29            29         amreetacherian@yahoo.com   \n",
       "...          ...                              ...   \n",
       "7968        7968         rakesharamaiah@gmail.com   \n",
       "7969        7969        maheshj03121995@gmail.com   \n",
       "7970        7970               likanraj@gmail.com   \n",
       "7971        7971           nareshsana62@gmail.com   \n",
       "7972        7972           gandiboina91@gmail.com   \n",
       "7973        7973        anbu.vinoth9830@gmail.com   \n",
       "7974        7974            naveenamd99@gmail.com   \n",
       "7975        7975         thirumoorthygk@gmail.com   \n",
       "7976        7976               bhimujkd@gmail.com   \n",
       "7977        7977           vijumuddanna@gmail.com   \n",
       "7978        7978           ga.umesha429@gmail.com   \n",
       "7979        7979             viveks9595@gmail.com   \n",
       "7980        7980    chandru_bemech@rediffmail.com   \n",
       "7981        7981         ashokkumar.kga@gmail.com   \n",
       "7983        7983             chaitragpc@gmail.com   \n",
       "7984        7984             sunsuni441@gmail.com   \n",
       "7985        7985          sathishqa.kmf@gmail.com   \n",
       "7986        7986             ssenthilsv@gmail.com   \n",
       "7987        7987          srivignesh393@gmail.com   \n",
       "7988        7988           mdzahoorkhan@gmail.com   \n",
       "7989        7989        venkatesh.v2410@gmail.com   \n",
       "7990        7990                rbk0407@gmail.com   \n",
       "7991        7991            d19santhosh@gmail.com   \n",
       "7992        7992          bharathguna.v@gmail.com   \n",
       "7993        7993  vinodkumarsubramanium@gmail.com   \n",
       "7994        7994        prasanthsathian@gmail.com   \n",
       "7995        7995           puneeth.ssmp@gmail.com   \n",
       "7996        7996               kaashu09@gmail.com   \n",
       "7997        7997   sureshkumarinbarajan@gmail.com   \n",
       "7999        7999          jayasoorya.kn@gmail.com   \n",
       "\n",
       "                                               Industry  Work Experience  \\\n",
       "0                                       ['Manufacturing             10.0   \n",
       "1     ['Software Services', '  IT-Software', '  Tele...              8.0   \n",
       "2                     ['Software Services', '  Internet              6.0   \n",
       "3                                            ['Others']              8.0   \n",
       "4                     ['Software Services', '  Internet              6.0   \n",
       "5                     ['Software Services', '  Internet              6.0   \n",
       "6                     ['Software Services', '  Internet             24.0   \n",
       "7                     ['Software Services', '  Internet              5.0   \n",
       "8                                       ['Manufacturing              7.0   \n",
       "9                     ['Software Services', '  Internet              5.0   \n",
       "10                                        ['Engineering             10.0   \n",
       "11                                ['Software Services']              9.0   \n",
       "12               ['Software Services', '  IT-Software']              7.0   \n",
       "13                                      ['Manufacturing              9.0   \n",
       "14    ['Software Services', '  IT-Software', '  Tele...              9.0   \n",
       "15                                      ['Manufacturing              7.0   \n",
       "16                                           ['Others']              8.0   \n",
       "17                                      ['Manufacturing              9.0   \n",
       "18                                           ['Others']              7.0   \n",
       "19                                       ['Architecture             14.0   \n",
       "20                                           ['Internet              4.0   \n",
       "21                                      ['Manufacturing             15.0   \n",
       "22               ['Software Services', '  IT-Software']              7.0   \n",
       "23                                           ['Internet              6.0   \n",
       "24       ['Consulting Services', '  Software Services']             16.0   \n",
       "25                                           ['Others']              8.0   \n",
       "26                    ['Software Services', '  Internet              7.0   \n",
       "27                                        ['Engineering             16.0   \n",
       "28               ['Software Services', '  IT-Software']              8.0   \n",
       "29    ['Software Services', '  IT-Software', '  Tele...              6.0   \n",
       "...                                                 ...              ...   \n",
       "7968                                    ['Manufacturing              9.0   \n",
       "7969                                    ['Manufacturing             13.0   \n",
       "7970                                    ['Manufacturing              2.0   \n",
       "7971                                    ['Manufacturing              5.0   \n",
       "7972                                    ['Manufacturing              3.0   \n",
       "7973                                    ['Manufacturing              2.0   \n",
       "7974                                    ['Manufacturing              5.0   \n",
       "7975                                    ['Manufacturing              4.0   \n",
       "7976                                    ['Manufacturing              3.0   \n",
       "7977                                    ['Manufacturing              1.0   \n",
       "7978                                         ['Internet             15.0   \n",
       "7979                                    ['Manufacturing             11.0   \n",
       "7980                                    ['Manufacturing              3.0   \n",
       "7981                                    ['Manufacturing              1.0   \n",
       "7983                                    ['Manufacturing              1.0   \n",
       "7984                                    ['Manufacturing              1.0   \n",
       "7985                                    ['Manufacturing              1.0   \n",
       "7986                                    ['Manufacturing              2.0   \n",
       "7987                                    ['Manufacturing              1.0   \n",
       "7988                  ['Software Services', '  Internet             13.0   \n",
       "7989                  ['Software Services', '  Internet              0.5   \n",
       "7990                  ['Software Services', '  Internet              5.0   \n",
       "7991                                    ['Manufacturing              4.0   \n",
       "7992                                    ['Manufacturing              2.0   \n",
       "7993                                    ['Manufacturing              9.0   \n",
       "7994                                    ['Manufacturing             10.0   \n",
       "7995                  ['Software Services', '  Internet              4.0   \n",
       "7996                                    ['Manufacturing              6.0   \n",
       "7997                                    ['Manufacturing              3.0   \n",
       "7999                                    ['Manufacturing              4.0   \n",
       "\n",
       "     Current Location                      Technical Specialist  \n",
       "0           Bengaluru                    staff process engineer  \n",
       "1           Bengaluru                    staff process engineer  \n",
       "2           Bengaluru                    staff process engineer  \n",
       "3           Bengaluru                    staff process engineer  \n",
       "4           Bengaluru                    staff process engineer  \n",
       "5           Bengaluru                    staff process engineer  \n",
       "6           Bengaluru                    staff process engineer  \n",
       "7           Bengaluru                    staff process engineer  \n",
       "8           Bengaluru                    staff process engineer  \n",
       "9           Bengaluru                    staff process engineer  \n",
       "10          Bengaluru                    staff process engineer  \n",
       "11          Bengaluru                    staff process engineer  \n",
       "12          Bengaluru                    staff process engineer  \n",
       "13          Bengaluru                    staff process engineer  \n",
       "14          Bengaluru                    staff process engineer  \n",
       "15          Bengaluru                    staff process engineer  \n",
       "16          Bengaluru                    staff process engineer  \n",
       "17          Bengaluru                    staff process engineer  \n",
       "18          Bengaluru                    staff process engineer  \n",
       "19          Bengaluru                    staff process engineer  \n",
       "20          Bengaluru                    staff process engineer  \n",
       "21          Bengaluru                    staff process engineer  \n",
       "22          Bengaluru                    staff process engineer  \n",
       "23          Bengaluru                    staff process engineer  \n",
       "24          Bengaluru                    staff process engineer  \n",
       "25          Bengaluru                    staff process engineer  \n",
       "26          Bengaluru                    staff process engineer  \n",
       "27          Bengaluru                    staff process engineer  \n",
       "28          Bengaluru                    staff process engineer  \n",
       "29          Bengaluru                    staff process engineer  \n",
       "...               ...                                       ...  \n",
       "7968        Bengaluru                 supplier quality engineer  \n",
       "7969        Bengaluru                          quality engineer  \n",
       "7970        Bengaluru                          quality engineer  \n",
       "7971        Bengaluru                          quality engineer  \n",
       "7972          Chennai                                   fresher  \n",
       "7973        Bengaluru                                       get  \n",
       "7974          Chennai                          quality engineer  \n",
       "7975       Coimbatore                          quality engineer  \n",
       "7976        Hyderabad                          quality engineer  \n",
       "7977        Bengaluru                          quality engineer  \n",
       "7978        Bengaluru                     production supervisor  \n",
       "7979        Bengaluru                          quality engineer  \n",
       "7980          Chennai                          quality engineer  \n",
       "7981          Chennai                          quality engineer  \n",
       "7983          Chennai                          quality engineer  \n",
       "7984        Bengaluru                          quality engineer  \n",
       "7985        Bengaluru                          quality engineer  \n",
       "7986          Chennai                                   trainee  \n",
       "7987        Bengaluru                 quality engineer - piping  \n",
       "7988        Bengaluru                  senior. quality engineer  \n",
       "7989          Chennai                                   fresher  \n",
       "7990          Chennai                          quality engineer  \n",
       "7991            Erode                          quality engineer  \n",
       "7992          Chennai  production planning and control engineer  \n",
       "7993        Bengaluru                          quality engineer  \n",
       "7994        Bengaluru                          quality engineer  \n",
       "7995        Bengaluru                          quality engineer  \n",
       "7996        Bengaluru    production engineer & quality engineer  \n",
       "7997          Chennai                          quality engineer  \n",
       "7999           KERALA                                   fresher  \n",
       "\n",
       "[7909 rows x 6 columns]"
      ]
     },
     "execution_count": 70,
     "metadata": {},
     "output_type": "execute_result"
    }
   ],
   "source": [
    "x=salary_pred.drop(['Current Salary'],axis=1)\n",
    "x"
   ]
  },
  {
   "cell_type": "code",
   "execution_count": 71,
   "metadata": {},
   "outputs": [
    {
     "data": {
      "text/html": [
       "<div>\n",
       "<style scoped>\n",
       "    .dataframe tbody tr th:only-of-type {\n",
       "        vertical-align: middle;\n",
       "    }\n",
       "\n",
       "    .dataframe tbody tr th {\n",
       "        vertical-align: top;\n",
       "    }\n",
       "\n",
       "    .dataframe thead th {\n",
       "        text-align: right;\n",
       "    }\n",
       "</style>\n",
       "<table border=\"1\" class=\"dataframe\">\n",
       "  <thead>\n",
       "    <tr style=\"text-align: right;\">\n",
       "      <th></th>\n",
       "      <th>Work Experience</th>\n",
       "    </tr>\n",
       "  </thead>\n",
       "  <tbody>\n",
       "    <tr>\n",
       "      <th>0</th>\n",
       "      <td>10.0</td>\n",
       "    </tr>\n",
       "    <tr>\n",
       "      <th>1</th>\n",
       "      <td>8.0</td>\n",
       "    </tr>\n",
       "    <tr>\n",
       "      <th>2</th>\n",
       "      <td>6.0</td>\n",
       "    </tr>\n",
       "    <tr>\n",
       "      <th>3</th>\n",
       "      <td>8.0</td>\n",
       "    </tr>\n",
       "    <tr>\n",
       "      <th>4</th>\n",
       "      <td>6.0</td>\n",
       "    </tr>\n",
       "    <tr>\n",
       "      <th>5</th>\n",
       "      <td>6.0</td>\n",
       "    </tr>\n",
       "    <tr>\n",
       "      <th>6</th>\n",
       "      <td>24.0</td>\n",
       "    </tr>\n",
       "    <tr>\n",
       "      <th>7</th>\n",
       "      <td>5.0</td>\n",
       "    </tr>\n",
       "    <tr>\n",
       "      <th>8</th>\n",
       "      <td>7.0</td>\n",
       "    </tr>\n",
       "    <tr>\n",
       "      <th>9</th>\n",
       "      <td>5.0</td>\n",
       "    </tr>\n",
       "    <tr>\n",
       "      <th>10</th>\n",
       "      <td>10.0</td>\n",
       "    </tr>\n",
       "    <tr>\n",
       "      <th>11</th>\n",
       "      <td>9.0</td>\n",
       "    </tr>\n",
       "    <tr>\n",
       "      <th>12</th>\n",
       "      <td>7.0</td>\n",
       "    </tr>\n",
       "    <tr>\n",
       "      <th>13</th>\n",
       "      <td>9.0</td>\n",
       "    </tr>\n",
       "    <tr>\n",
       "      <th>14</th>\n",
       "      <td>9.0</td>\n",
       "    </tr>\n",
       "    <tr>\n",
       "      <th>15</th>\n",
       "      <td>7.0</td>\n",
       "    </tr>\n",
       "    <tr>\n",
       "      <th>16</th>\n",
       "      <td>8.0</td>\n",
       "    </tr>\n",
       "    <tr>\n",
       "      <th>17</th>\n",
       "      <td>9.0</td>\n",
       "    </tr>\n",
       "    <tr>\n",
       "      <th>18</th>\n",
       "      <td>7.0</td>\n",
       "    </tr>\n",
       "    <tr>\n",
       "      <th>19</th>\n",
       "      <td>14.0</td>\n",
       "    </tr>\n",
       "    <tr>\n",
       "      <th>20</th>\n",
       "      <td>4.0</td>\n",
       "    </tr>\n",
       "    <tr>\n",
       "      <th>21</th>\n",
       "      <td>15.0</td>\n",
       "    </tr>\n",
       "    <tr>\n",
       "      <th>22</th>\n",
       "      <td>7.0</td>\n",
       "    </tr>\n",
       "    <tr>\n",
       "      <th>23</th>\n",
       "      <td>6.0</td>\n",
       "    </tr>\n",
       "    <tr>\n",
       "      <th>24</th>\n",
       "      <td>16.0</td>\n",
       "    </tr>\n",
       "    <tr>\n",
       "      <th>25</th>\n",
       "      <td>8.0</td>\n",
       "    </tr>\n",
       "    <tr>\n",
       "      <th>26</th>\n",
       "      <td>7.0</td>\n",
       "    </tr>\n",
       "    <tr>\n",
       "      <th>27</th>\n",
       "      <td>16.0</td>\n",
       "    </tr>\n",
       "    <tr>\n",
       "      <th>28</th>\n",
       "      <td>8.0</td>\n",
       "    </tr>\n",
       "    <tr>\n",
       "      <th>29</th>\n",
       "      <td>6.0</td>\n",
       "    </tr>\n",
       "    <tr>\n",
       "      <th>...</th>\n",
       "      <td>...</td>\n",
       "    </tr>\n",
       "    <tr>\n",
       "      <th>7968</th>\n",
       "      <td>9.0</td>\n",
       "    </tr>\n",
       "    <tr>\n",
       "      <th>7969</th>\n",
       "      <td>13.0</td>\n",
       "    </tr>\n",
       "    <tr>\n",
       "      <th>7970</th>\n",
       "      <td>2.0</td>\n",
       "    </tr>\n",
       "    <tr>\n",
       "      <th>7971</th>\n",
       "      <td>5.0</td>\n",
       "    </tr>\n",
       "    <tr>\n",
       "      <th>7972</th>\n",
       "      <td>3.0</td>\n",
       "    </tr>\n",
       "    <tr>\n",
       "      <th>7973</th>\n",
       "      <td>2.0</td>\n",
       "    </tr>\n",
       "    <tr>\n",
       "      <th>7974</th>\n",
       "      <td>5.0</td>\n",
       "    </tr>\n",
       "    <tr>\n",
       "      <th>7975</th>\n",
       "      <td>4.0</td>\n",
       "    </tr>\n",
       "    <tr>\n",
       "      <th>7976</th>\n",
       "      <td>3.0</td>\n",
       "    </tr>\n",
       "    <tr>\n",
       "      <th>7977</th>\n",
       "      <td>1.0</td>\n",
       "    </tr>\n",
       "    <tr>\n",
       "      <th>7978</th>\n",
       "      <td>15.0</td>\n",
       "    </tr>\n",
       "    <tr>\n",
       "      <th>7979</th>\n",
       "      <td>11.0</td>\n",
       "    </tr>\n",
       "    <tr>\n",
       "      <th>7980</th>\n",
       "      <td>3.0</td>\n",
       "    </tr>\n",
       "    <tr>\n",
       "      <th>7981</th>\n",
       "      <td>1.0</td>\n",
       "    </tr>\n",
       "    <tr>\n",
       "      <th>7983</th>\n",
       "      <td>1.0</td>\n",
       "    </tr>\n",
       "    <tr>\n",
       "      <th>7984</th>\n",
       "      <td>1.0</td>\n",
       "    </tr>\n",
       "    <tr>\n",
       "      <th>7985</th>\n",
       "      <td>1.0</td>\n",
       "    </tr>\n",
       "    <tr>\n",
       "      <th>7986</th>\n",
       "      <td>2.0</td>\n",
       "    </tr>\n",
       "    <tr>\n",
       "      <th>7987</th>\n",
       "      <td>1.0</td>\n",
       "    </tr>\n",
       "    <tr>\n",
       "      <th>7988</th>\n",
       "      <td>13.0</td>\n",
       "    </tr>\n",
       "    <tr>\n",
       "      <th>7989</th>\n",
       "      <td>0.5</td>\n",
       "    </tr>\n",
       "    <tr>\n",
       "      <th>7990</th>\n",
       "      <td>5.0</td>\n",
       "    </tr>\n",
       "    <tr>\n",
       "      <th>7991</th>\n",
       "      <td>4.0</td>\n",
       "    </tr>\n",
       "    <tr>\n",
       "      <th>7992</th>\n",
       "      <td>2.0</td>\n",
       "    </tr>\n",
       "    <tr>\n",
       "      <th>7993</th>\n",
       "      <td>9.0</td>\n",
       "    </tr>\n",
       "    <tr>\n",
       "      <th>7994</th>\n",
       "      <td>10.0</td>\n",
       "    </tr>\n",
       "    <tr>\n",
       "      <th>7995</th>\n",
       "      <td>4.0</td>\n",
       "    </tr>\n",
       "    <tr>\n",
       "      <th>7996</th>\n",
       "      <td>6.0</td>\n",
       "    </tr>\n",
       "    <tr>\n",
       "      <th>7997</th>\n",
       "      <td>3.0</td>\n",
       "    </tr>\n",
       "    <tr>\n",
       "      <th>7999</th>\n",
       "      <td>4.0</td>\n",
       "    </tr>\n",
       "  </tbody>\n",
       "</table>\n",
       "<p>7909 rows × 1 columns</p>\n",
       "</div>"
      ],
      "text/plain": [
       "      Work Experience\n",
       "0                10.0\n",
       "1                 8.0\n",
       "2                 6.0\n",
       "3                 8.0\n",
       "4                 6.0\n",
       "5                 6.0\n",
       "6                24.0\n",
       "7                 5.0\n",
       "8                 7.0\n",
       "9                 5.0\n",
       "10               10.0\n",
       "11                9.0\n",
       "12                7.0\n",
       "13                9.0\n",
       "14                9.0\n",
       "15                7.0\n",
       "16                8.0\n",
       "17                9.0\n",
       "18                7.0\n",
       "19               14.0\n",
       "20                4.0\n",
       "21               15.0\n",
       "22                7.0\n",
       "23                6.0\n",
       "24               16.0\n",
       "25                8.0\n",
       "26                7.0\n",
       "27               16.0\n",
       "28                8.0\n",
       "29                6.0\n",
       "...               ...\n",
       "7968              9.0\n",
       "7969             13.0\n",
       "7970              2.0\n",
       "7971              5.0\n",
       "7972              3.0\n",
       "7973              2.0\n",
       "7974              5.0\n",
       "7975              4.0\n",
       "7976              3.0\n",
       "7977              1.0\n",
       "7978             15.0\n",
       "7979             11.0\n",
       "7980              3.0\n",
       "7981              1.0\n",
       "7983              1.0\n",
       "7984              1.0\n",
       "7985              1.0\n",
       "7986              2.0\n",
       "7987              1.0\n",
       "7988             13.0\n",
       "7989              0.5\n",
       "7990              5.0\n",
       "7991              4.0\n",
       "7992              2.0\n",
       "7993              9.0\n",
       "7994             10.0\n",
       "7995              4.0\n",
       "7996              6.0\n",
       "7997              3.0\n",
       "7999              4.0\n",
       "\n",
       "[7909 rows x 1 columns]"
      ]
     },
     "execution_count": 71,
     "metadata": {},
     "output_type": "execute_result"
    }
   ],
   "source": [
    "x = pd.DataFrame(salary_pred['Work Experience'])\n",
    "x"
   ]
  },
  {
   "cell_type": "code",
   "execution_count": 72,
   "metadata": {},
   "outputs": [
    {
     "data": {
      "text/plain": [
       "array([1000000., 1800000.,  927000., ...,  750000., 6000000., 2900000.])"
      ]
     },
     "execution_count": 72,
     "metadata": {},
     "output_type": "execute_result"
    }
   ],
   "source": [
    "y=salary_pred['Current Salary'].values\n",
    "y"
   ]
  },
  {
   "cell_type": "code",
   "execution_count": 73,
   "metadata": {},
   "outputs": [],
   "source": [
    "model=GradientBoostingRegressor(n_estimators=3000, learning_rate=0.05,\n",
    "                                   max_depth=4, max_features='sqrt',\n",
    "                                   min_samples_leaf=15, min_samples_split=10, \n",
    "                                   loss='huber', random_state =5)"
   ]
  },
  {
   "cell_type": "code",
   "execution_count": 74,
   "metadata": {},
   "outputs": [
    {
     "data": {
      "text/plain": [
       "GradientBoostingRegressor(alpha=0.9, criterion='friedman_mse', init=None,\n",
       "                          learning_rate=0.05, loss='huber', max_depth=4,\n",
       "                          max_features='sqrt', max_leaf_nodes=None,\n",
       "                          min_impurity_decrease=0.0, min_impurity_split=None,\n",
       "                          min_samples_leaf=15, min_samples_split=10,\n",
       "                          min_weight_fraction_leaf=0.0, n_estimators=3000,\n",
       "                          n_iter_no_change=None, presort='auto', random_state=5,\n",
       "                          subsample=1.0, tol=0.0001, validation_fraction=0.1,\n",
       "                          verbose=0, warm_start=False)"
      ]
     },
     "execution_count": 74,
     "metadata": {},
     "output_type": "execute_result"
    }
   ],
   "source": [
    "model.fit(x,y)"
   ]
  },
  {
   "cell_type": "code",
   "execution_count": 75,
   "metadata": {},
   "outputs": [
    {
     "data": {
      "text/plain": [
       "0.5111556555844973"
      ]
     },
     "execution_count": 75,
     "metadata": {},
     "output_type": "execute_result"
    }
   ],
   "source": [
    "model.score(x,y)"
   ]
  },
  {
   "cell_type": "code",
   "execution_count": 76,
   "metadata": {},
   "outputs": [
    {
     "data": {
      "text/plain": [
       "array([1495463.5975332 , 1377763.35788068, 1225501.01834749, ...,\n",
       "       1225501.01834749, 1431005.67822058, 1353999.93916557])"
      ]
     },
     "execution_count": 76,
     "metadata": {},
     "output_type": "execute_result"
    }
   ],
   "source": [
    "sal1=model.predict(x)\n",
    "sal1"
   ]
  },
  {
   "cell_type": "code",
   "execution_count": 77,
   "metadata": {},
   "outputs": [
    {
     "data": {
      "text/plain": [
       "array([1000000., 1800000.,  927000., ...,  750000., 6000000., 2900000.])"
      ]
     },
     "execution_count": 77,
     "metadata": {},
     "output_type": "execute_result"
    }
   ],
   "source": [
    "y"
   ]
  },
  {
   "cell_type": "code",
   "execution_count": 78,
   "metadata": {},
   "outputs": [],
   "source": [
    "# sub = pd.DataFrame()\n",
    "# sub['Id'] = salary_Id\n",
    "# sub['Current Salary'] = ensemble\n",
    "# sub.to_csv('submission_27.csv',index=False)"
   ]
  },
  {
   "cell_type": "code",
   "execution_count": 79,
   "metadata": {},
   "outputs": [],
   "source": [
    "# X = DfEncode.iloc[:,1:]\n",
    "# y = DfEncode.iloc[:,0]"
   ]
  },
  {
   "cell_type": "code",
   "execution_count": 80,
   "metadata": {},
   "outputs": [
    {
     "data": {
      "text/plain": [
       "(7909,)"
      ]
     },
     "execution_count": 80,
     "metadata": {},
     "output_type": "execute_result"
    }
   ],
   "source": [
    "salary_Id=salary_pred['Unnamed: 0']\n",
    "salary_Id.shape"
   ]
  },
  {
   "cell_type": "code",
   "execution_count": 81,
   "metadata": {},
   "outputs": [
    {
     "data": {
      "text/plain": [
       "pandas.core.series.Series"
      ]
     },
     "execution_count": 81,
     "metadata": {},
     "output_type": "execute_result"
    }
   ],
   "source": [
    "type(salary_Id)"
   ]
  },
  {
   "cell_type": "code",
   "execution_count": 82,
   "metadata": {},
   "outputs": [],
   "source": [
    "# sub = pd.DataFrame({'Id': salary_Id,'Salary Prediction':ensemble})\n",
    "# sub.to_csv('submission_27.csv',index=False)\n",
    "\n",
    "# sub.head(10)"
   ]
  },
  {
   "cell_type": "code",
   "execution_count": 83,
   "metadata": {},
   "outputs": [],
   "source": [
    "# x_train,x_test,y_train,y_test=train_test_split(x,y,test_size=0.3,random_state=42)\n",
    "\n",
    "# model.fit(x_train,y_train)\n",
    "\n",
    "# model.score(x_test,y_test)"
   ]
  },
  {
   "cell_type": "code",
   "execution_count": 84,
   "metadata": {},
   "outputs": [],
   "source": [
    "# sal1=model.predict(x_test)\n",
    "# sal1"
   ]
  },
  {
   "cell_type": "code",
   "execution_count": 85,
   "metadata": {},
   "outputs": [],
   "source": [
    "# y_test"
   ]
  },
  {
   "cell_type": "code",
   "execution_count": 86,
   "metadata": {},
   "outputs": [],
   "source": [
    "# sal1=model.predict(x_train)\n",
    "# sal1"
   ]
  },
  {
   "cell_type": "code",
   "execution_count": 87,
   "metadata": {},
   "outputs": [],
   "source": [
    "# y_train"
   ]
  },
  {
   "cell_type": "code",
   "execution_count": 88,
   "metadata": {},
   "outputs": [],
   "source": [
    "x_shuffle,y_shuffle=shuffle(x,y,random_state=42)"
   ]
  },
  {
   "cell_type": "code",
   "execution_count": 89,
   "metadata": {},
   "outputs": [
    {
     "data": {
      "text/plain": [
       "array([0.49855287, 0.53085244, 0.51101534, 0.51506435, 0.47800943])"
      ]
     },
     "execution_count": 89,
     "metadata": {},
     "output_type": "execute_result"
    }
   ],
   "source": [
    "cross_val_score(GradientBoostingRegressor(),x_shuffle,y_shuffle,cv=5,n_jobs=-1,)"
   ]
  },
  {
   "cell_type": "code",
   "execution_count": 90,
   "metadata": {},
   "outputs": [
    {
     "data": {
      "text/plain": [
       "0.5066988859709046"
      ]
     },
     "execution_count": 90,
     "metadata": {},
     "output_type": "execute_result"
    }
   ],
   "source": [
    "np.mean(cross_val_score(GradientBoostingRegressor(),x_shuffle,y_shuffle,cv=5,n_jobs=-1,))"
   ]
  },
  {
   "cell_type": "code",
   "execution_count": 91,
   "metadata": {},
   "outputs": [],
   "source": [
    "scalar=StandardScaler()\n",
    "scalar.fit(x_shuffle)\n",
    "x_scaled=scalar.transform(x_shuffle)"
   ]
  },
  {
   "cell_type": "code",
   "execution_count": 92,
   "metadata": {},
   "outputs": [
    {
     "name": "stdout",
     "output_type": "stream",
     "text": [
      "[0.49855287 0.53085244 0.51101534 0.51506435 0.47800943]\n"
     ]
    },
    {
     "data": {
      "text/plain": [
       "0.5066988859709046"
      ]
     },
     "execution_count": 92,
     "metadata": {},
     "output_type": "execute_result"
    }
   ],
   "source": [
    "scores=(cross_val_score(GradientBoostingRegressor(),x_scaled,y_shuffle,cv=5,n_jobs=-1))\n",
    "print(scores)\n",
    "np.mean(scores)"
   ]
  },
  {
   "cell_type": "code",
   "execution_count": 93,
   "metadata": {},
   "outputs": [
    {
     "name": "stdout",
     "output_type": "stream",
     "text": [
      "[0.3678066  0.33454995 0.36184749 0.38023024 0.30339536]\n"
     ]
    },
    {
     "data": {
      "text/plain": [
       "0.34956592858287916"
      ]
     },
     "execution_count": 93,
     "metadata": {},
     "output_type": "execute_result"
    }
   ],
   "source": [
    "scores=(cross_val_score(Lasso(alpha=0.01),x_scaled,y_shuffle,cv=5,n_jobs=-1))\n",
    "print(scores)\n",
    "np.mean(scores)"
   ]
  },
  {
   "cell_type": "code",
   "execution_count": 94,
   "metadata": {},
   "outputs": [
    {
     "name": "stdout",
     "output_type": "stream",
     "text": [
      "[0.36780833 0.33455636 0.36184218 0.38022131 0.303402  ]\n"
     ]
    },
    {
     "data": {
      "text/plain": [
       "0.34956603496310695"
      ]
     },
     "execution_count": 94,
     "metadata": {},
     "output_type": "execute_result"
    }
   ],
   "source": [
    "scores=(cross_val_score(Ridge(alpha=1),x_scaled,y_shuffle,cv=5,n_jobs=-1))\n",
    "print(scores)\n",
    "np.mean(scores)"
   ]
  },
  {
   "cell_type": "code",
   "execution_count": 95,
   "metadata": {},
   "outputs": [],
   "source": [
    "model2 = RandomForestRegressor(n_estimators=200,random_state=42,n_jobs=-1,max_depth=1,min_samples_leaf=1,max_features=1)"
   ]
  },
  {
   "cell_type": "code",
   "execution_count": 96,
   "metadata": {},
   "outputs": [
    {
     "data": {
      "text/plain": [
       "RandomForestRegressor(bootstrap=True, criterion='mse', max_depth=1,\n",
       "                      max_features=1, max_leaf_nodes=None,\n",
       "                      min_impurity_decrease=0.0, min_impurity_split=None,\n",
       "                      min_samples_leaf=1, min_samples_split=2,\n",
       "                      min_weight_fraction_leaf=0.0, n_estimators=200, n_jobs=-1,\n",
       "                      oob_score=False, random_state=42, verbose=0,\n",
       "                      warm_start=False)"
      ]
     },
     "execution_count": 96,
     "metadata": {},
     "output_type": "execute_result"
    }
   ],
   "source": [
    "model2.fit(x,y)"
   ]
  },
  {
   "cell_type": "code",
   "execution_count": 97,
   "metadata": {},
   "outputs": [
    {
     "data": {
      "text/plain": [
       "0.48272119632666377"
      ]
     },
     "execution_count": 97,
     "metadata": {},
     "output_type": "execute_result"
    }
   ],
   "source": [
    "model2.score(x,y)"
   ]
  },
  {
   "cell_type": "code",
   "execution_count": 98,
   "metadata": {},
   "outputs": [
    {
     "data": {
      "text/plain": [
       "array([1532241.60278951, 1532241.60278951, 1532241.60278951, ...,\n",
       "       1532241.60278951, 1532241.60278951, 1532241.60278951])"
      ]
     },
     "execution_count": 98,
     "metadata": {},
     "output_type": "execute_result"
    }
   ],
   "source": [
    "sal2=model2.predict(x)\n",
    "sal2"
   ]
  },
  {
   "cell_type": "code",
   "execution_count": 99,
   "metadata": {},
   "outputs": [
    {
     "data": {
      "text/plain": [
       "array([1000000., 1800000.,  927000., ...,  750000., 6000000., 2900000.])"
      ]
     },
     "execution_count": 99,
     "metadata": {},
     "output_type": "execute_result"
    }
   ],
   "source": [
    "y"
   ]
  },
  {
   "cell_type": "code",
   "execution_count": 100,
   "metadata": {},
   "outputs": [],
   "source": [
    "# x_train,x_test,y_train,y_test=train_test_split(x,y,test_size=0.3,random_state=42)\n",
    "# model2.fit(x_train,y_train)\n",
    "\n",
    "# model2.score(x_test,y_test)"
   ]
  },
  {
   "cell_type": "code",
   "execution_count": 101,
   "metadata": {},
   "outputs": [],
   "source": [
    "# sal2=model2.predict(x_test)\n",
    "# sal2"
   ]
  },
  {
   "cell_type": "code",
   "execution_count": 102,
   "metadata": {},
   "outputs": [],
   "source": [
    "# y_test"
   ]
  },
  {
   "cell_type": "code",
   "execution_count": 103,
   "metadata": {},
   "outputs": [],
   "source": [
    "# sal2=model2.predict(x_train)\n",
    "# sal2"
   ]
  },
  {
   "cell_type": "code",
   "execution_count": 104,
   "metadata": {},
   "outputs": [],
   "source": [
    "# y_train"
   ]
  },
  {
   "cell_type": "code",
   "execution_count": 105,
   "metadata": {},
   "outputs": [],
   "source": [
    "ensemble=sal1+sal2"
   ]
  },
  {
   "cell_type": "code",
   "execution_count": 106,
   "metadata": {},
   "outputs": [],
   "source": [
    "sub = pd.DataFrame({'Id': salary_Id,'Salary Prediction':ensemble})\n",
    "sub.to_csv('submission_28.csv',index=False)"
   ]
  },
  {
   "cell_type": "code",
   "execution_count": 134,
   "metadata": {},
   "outputs": [
    {
     "data": {
      "text/html": [
       "<div>\n",
       "<style scoped>\n",
       "    .dataframe tbody tr th:only-of-type {\n",
       "        vertical-align: middle;\n",
       "    }\n",
       "\n",
       "    .dataframe tbody tr th {\n",
       "        vertical-align: top;\n",
       "    }\n",
       "\n",
       "    .dataframe thead th {\n",
       "        text-align: right;\n",
       "    }\n",
       "</style>\n",
       "<table border=\"1\" class=\"dataframe\">\n",
       "  <thead>\n",
       "    <tr style=\"text-align: right;\">\n",
       "      <th></th>\n",
       "      <th>Id</th>\n",
       "      <th>Salary Prediction</th>\n",
       "    </tr>\n",
       "  </thead>\n",
       "  <tbody>\n",
       "    <tr>\n",
       "      <th>0</th>\n",
       "      <td>0</td>\n",
       "      <td>3.027705e+06</td>\n",
       "    </tr>\n",
       "    <tr>\n",
       "      <th>1</th>\n",
       "      <td>1</td>\n",
       "      <td>2.910005e+06</td>\n",
       "    </tr>\n",
       "    <tr>\n",
       "      <th>2</th>\n",
       "      <td>2</td>\n",
       "      <td>2.757743e+06</td>\n",
       "    </tr>\n",
       "    <tr>\n",
       "      <th>3</th>\n",
       "      <td>3</td>\n",
       "      <td>2.910005e+06</td>\n",
       "    </tr>\n",
       "    <tr>\n",
       "      <th>4</th>\n",
       "      <td>4</td>\n",
       "      <td>2.757743e+06</td>\n",
       "    </tr>\n",
       "  </tbody>\n",
       "</table>\n",
       "</div>"
      ],
      "text/plain": [
       "   Id  Salary Prediction\n",
       "0   0       3.027705e+06\n",
       "1   1       2.910005e+06\n",
       "2   2       2.757743e+06\n",
       "3   3       2.910005e+06\n",
       "4   4       2.757743e+06"
      ]
     },
     "execution_count": 134,
     "metadata": {},
     "output_type": "execute_result"
    }
   ],
   "source": [
    "sub.head(5)"
   ]
  },
  {
   "cell_type": "code",
   "execution_count": 135,
   "metadata": {},
   "outputs": [],
   "source": [
    "import pickle\n",
    "\n",
    "with open('model_pickle','wb') as f:\n",
    "    pickle.dump(model,f)    "
   ]
  },
  {
   "cell_type": "code",
   "execution_count": 136,
   "metadata": {},
   "outputs": [],
   "source": [
    "with open('model_pickle','rb') as f:\n",
    "   mp= pickle.load(f)    "
   ]
  },
  {
   "cell_type": "code",
   "execution_count": 137,
   "metadata": {},
   "outputs": [
    {
     "data": {
      "text/plain": [
       "array([1495463.5975332 , 1377763.35788068, 1225501.01834749, ...,\n",
       "       1225501.01834749, 1431005.67822058, 1353999.93916557])"
      ]
     },
     "execution_count": 137,
     "metadata": {},
     "output_type": "execute_result"
    }
   ],
   "source": [
    "model.predict(x)               # model 1 that is gradientboostregresssor"
   ]
  },
  {
   "cell_type": "code",
   "execution_count": 138,
   "metadata": {},
   "outputs": [
    {
     "data": {
      "text/plain": [
       "['model_joblib']"
      ]
     },
     "execution_count": 138,
     "metadata": {},
     "output_type": "execute_result"
    }
   ],
   "source": [
    "from sklearn.externals import joblib\n",
    "joblib.dump(model2,'model_joblib')"
   ]
  },
  {
   "cell_type": "code",
   "execution_count": 139,
   "metadata": {},
   "outputs": [
    {
     "data": {
      "text/plain": [
       "array([1532241.60278951, 1532241.60278951, 1532241.60278951, ...,\n",
       "       1532241.60278951, 1532241.60278951, 1532241.60278951])"
      ]
     },
     "execution_count": 139,
     "metadata": {},
     "output_type": "execute_result"
    }
   ],
   "source": [
    "mj=joblib.load('model_joblib')    # model 2 that is randomforest regressor\n",
    "mj.predict(x)"
   ]
  },
  {
   "cell_type": "code",
   "execution_count": 133,
   "metadata": {},
   "outputs": [],
   "source": [
    "import pyodbc\n",
    "conn = pyodbc.connect(\"Driver={SQL Server};\"\n",
    "                       \"Server=LAPTOP-ES1HTOJ1\\AFTABSQL;\"\n",
    "                       \"Database=Aftab;\"\n",
    "                       \"Truseted_Connection=yes;\")\n",
    "cursor=conn.cursor()\n",
    "cursor.execute('SELECT * FROM salary;')\n",
    "\n",
    "for i in cursor:\n",
    "    print(i)\n",
    "    "
   ]
  },
  {
   "cell_type": "code",
   "execution_count": 128,
   "metadata": {},
   "outputs": [],
   "source": [
    "import pyodbc\n",
    "conn = pyodbc.connect(\"Driver={SQL Server};\"\n",
    "                       \"Server=LAPTOP-ES1HTOJ1\\AFTABSQL;\"\n",
    "                       \"Database=Aftab;\"\n",
    "                       \"Truseted_Connection=yes;\")\n",
    "cursor=conn.cursor()\n",
    "sql = 'insert into [dbo].[salary](PersonID,salaryPrediction) VALUES (7,2.834590e+06)'\n",
    "if(cursor is not None):\n",
    "    cursor.execute(sql)\n",
    "    cursor.commit()\n",
    "    cursor.close()\n",
    "    conn.close()"
   ]
  },
  {
   "cell_type": "code",
   "execution_count": 125,
   "metadata": {},
   "outputs": [],
   "source": [
    "import pyodbc\n",
    "conn = pyodbc.connect(\"Driver={SQL Server};\"\n",
    "                       \"Server=LAPTOP-ES1HTOJ1\\AFTABSQL;\"\n",
    "                       \"Database=Aftab;\"\n",
    "                       \"Truseted_Connection=yes;\")\n",
    "cursor=conn.cursor()\n",
    "cursor.execute(\"insert into [dbo].[salary](PersonID,salaryPrediction) VALUES (1,60278951)\")\n",
    "cursor.commit()\n",
    "cursor.close()"
   ]
  },
  {
   "cell_type": "code",
   "execution_count": null,
   "metadata": {},
   "outputs": [],
   "source": [
    "import pyodbc\n",
    "conn = pyodbc.connect(\"Driver={SQL Server};\"\n",
    "                       \"Server=LAPTOP-ES1HTOJ1\\AFTABSQL;\"\n",
    "                       \"Database=Aftab;\"\n",
    "                       \"Truseted_Connection=yes;\")\n",
    "cursor=conn.cursor()\n",
    "cursor.execute('SELECT * FROM salary;')\n",
    "r=cursor.fetchall()\n",
    "for row in r:\n",
    "    print(row[1])"
   ]
  },
  {
   "cell_type": "code",
   "execution_count": 132,
   "metadata": {},
   "outputs": [],
   "source": [
    "import pyodbc\n",
    "conn = pyodbc.connect(\"Driver={SQL Server};\"\n",
    "                       \"Server=LAPTOP-ES1HTOJ1\\AFTABSQL;\"\n",
    "                       \"Database=Aftab;\"\n",
    "                       \"Truseted_Connection=yes;\")\n",
    "cursor=conn.cursor()\n",
    "sql = 'DELETE FROM [dbo].[salary] WHERE PersonID=0'\n",
    "if(cursor is not None):\n",
    "    cursor.execute(sql)\n",
    "    cursor.commit()\n",
    "    cursor.close()\n",
    "    conn.close()"
   ]
  },
  {
   "cell_type": "code",
   "execution_count": null,
   "metadata": {},
   "outputs": [],
   "source": []
  }
 ],
 "metadata": {
  "kernelspec": {
   "display_name": "Python 3",
   "language": "python",
   "name": "python3"
  },
  "language_info": {
   "codemirror_mode": {
    "name": "ipython",
    "version": 3
   },
   "file_extension": ".py",
   "mimetype": "text/x-python",
   "name": "python",
   "nbconvert_exporter": "python",
   "pygments_lexer": "ipython3",
   "version": "3.7.3"
  }
 },
 "nbformat": 4,
 "nbformat_minor": 2
}
